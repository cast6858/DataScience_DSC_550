{
 "cells": [
  {
   "cell_type": "markdown",
   "id": "9cf906a3",
   "metadata": {},
   "source": [
    "# Felipe Castillo\n",
    "# Mile Stone 1\n",
    "# Data Mining\n",
    "# 04/20/2022"
   ]
  },
  {
   "cell_type": "markdown",
   "id": "4107dc83",
   "metadata": {},
   "source": [
    "  In this project, we will work with the database Bank Turnover Dataset. This data set can be found and downloaded here: https://www.kaggle.com/datasets/barelydedicated/bank-customer-churn-modeling. Banks rely on the consumer to keep the money in the bank. With higher turnovers, the bank’s loaning power decreases. Coming to our hypothesis, is it possible to get a good idea of potential churns, and with that minimal information, could we reduce churns? In all reality, the money the consumer puts in the bank isn’t always there. For example, if you have a million dollars in the bank and ask to withdraw that amount in cash in one day, the bank will most likely not be able to give you that sum of money. Why is that? It is because the banks loan the money and charge interest on that money. \n",
    "\n",
    "The problem with churn is that it can limit the bank’s overall lending power. The money must come from somewhere. For the bank to be able to make money, it needs money. This is a problem because the bank could lose money in the long run. Depending on the level of churn there are ramifications when there is less money in the bank. This will likely cause higher interest rates on loans. Even the smallest levels of churn could pose a problem. For example, if Elon Musk took his money out of the bank, it would have a larger impact than if a lot of people who had money in the bank took out their money. With that same logic, a small group of people could potentially make most of the money in the bank. With that said, it is imperative to understand churn to either stop it or be able to prepare for it. \n",
    "\n",
    "The first step in this graphical analysis is to figure out the percentage of churn in the bank. From that base, we need to know who those people are. For this purpose, we need to identify everyone by nationality, gender, age, and score. All this information will help answer one question: who are these people? Secondly, we need a correlation matrix to identify if there is a relation between values. For example, do gender differences matter when it comes to people leaving the bank? Is there a correlation between bank churns and the values that need to be investigated? The values that are in the data set will need to be investigated further.\n",
    "\n",
    "There are a few predictive models that come to mind. First, we have a logistic regression model due to the binary option of 0 or 1. This will also help us test our hypothesis on if we could help prevent churn. The other model is survival analysis which also has that binary aspect. By binary I mean 1 they did leave or 0 they didn’t leave. Overall, the main objective is to predict bank churn.\n",
    "\n",
    "\n",
    "\n"
   ]
  },
  {
   "cell_type": "code",
   "execution_count": 4,
   "id": "a8706e14",
   "metadata": {},
   "outputs": [],
   "source": [
    "import pandas as pd\n",
    "import os\n",
    "import numpy as np\n",
    "import seaborn as sns\n",
    "import matplotlib.pyplot as plt\n",
    "from sklearn.linear_model import LinearRegression, Ridge\n",
    "from sklearn.model_selection import train_test_split\n",
    "from sklearn.preprocessing import StandardScaler\n",
    "from sklearn.metrics import mean_squared_error\n",
    "import random\n",
    "from sklearn.metrics import r2_score\n",
    "from math import sqrt\n",
    "\n",
    "from sklearn.metrics import mean_squared_error\n",
    "#Change path to week one folder for DSC-550\n",
    "#Current directory in documents\n",
    "os.chdir('C:\\DataScience_DSC_550\\Week6')\n"
   ]
  },
  {
   "cell_type": "code",
   "execution_count": 5,
   "id": "f60f55b1",
   "metadata": {},
   "outputs": [],
   "source": [
    "bank_turn_overDF = pd.read_csv(\"data_turn.csv\")"
   ]
  },
  {
   "cell_type": "code",
   "execution_count": 6,
   "id": "48704568",
   "metadata": {},
   "outputs": [
    {
     "data": {
      "text/html": [
       "<div>\n",
       "<style scoped>\n",
       "    .dataframe tbody tr th:only-of-type {\n",
       "        vertical-align: middle;\n",
       "    }\n",
       "\n",
       "    .dataframe tbody tr th {\n",
       "        vertical-align: top;\n",
       "    }\n",
       "\n",
       "    .dataframe thead th {\n",
       "        text-align: right;\n",
       "    }\n",
       "</style>\n",
       "<table border=\"1\" class=\"dataframe\">\n",
       "  <thead>\n",
       "    <tr style=\"text-align: right;\">\n",
       "      <th></th>\n",
       "      <th>Row</th>\n",
       "      <th>Id</th>\n",
       "      <th>Surname</th>\n",
       "      <th>Score</th>\n",
       "      <th>Nationality</th>\n",
       "      <th>Gender</th>\n",
       "      <th>Age</th>\n",
       "      <th>Tenure</th>\n",
       "      <th>Balance</th>\n",
       "      <th>Products</th>\n",
       "      <th>Card</th>\n",
       "      <th>Active</th>\n",
       "      <th>Salary</th>\n",
       "      <th>Exited</th>\n",
       "    </tr>\n",
       "  </thead>\n",
       "  <tbody>\n",
       "    <tr>\n",
       "      <th>0</th>\n",
       "      <td>1</td>\n",
       "      <td>15634602</td>\n",
       "      <td>Hargrave</td>\n",
       "      <td>619</td>\n",
       "      <td>France</td>\n",
       "      <td>Female</td>\n",
       "      <td>42</td>\n",
       "      <td>2</td>\n",
       "      <td>0.00</td>\n",
       "      <td>1</td>\n",
       "      <td>1</td>\n",
       "      <td>1</td>\n",
       "      <td>101348.88</td>\n",
       "      <td>1</td>\n",
       "    </tr>\n",
       "    <tr>\n",
       "      <th>1</th>\n",
       "      <td>2</td>\n",
       "      <td>15647311</td>\n",
       "      <td>Hill</td>\n",
       "      <td>608</td>\n",
       "      <td>Spain</td>\n",
       "      <td>Female</td>\n",
       "      <td>41</td>\n",
       "      <td>1</td>\n",
       "      <td>83807.86</td>\n",
       "      <td>1</td>\n",
       "      <td>0</td>\n",
       "      <td>1</td>\n",
       "      <td>112542.58</td>\n",
       "      <td>0</td>\n",
       "    </tr>\n",
       "    <tr>\n",
       "      <th>2</th>\n",
       "      <td>3</td>\n",
       "      <td>15619304</td>\n",
       "      <td>Onio</td>\n",
       "      <td>502</td>\n",
       "      <td>France</td>\n",
       "      <td>Female</td>\n",
       "      <td>42</td>\n",
       "      <td>8</td>\n",
       "      <td>159660.80</td>\n",
       "      <td>3</td>\n",
       "      <td>1</td>\n",
       "      <td>0</td>\n",
       "      <td>113931.57</td>\n",
       "      <td>1</td>\n",
       "    </tr>\n",
       "    <tr>\n",
       "      <th>3</th>\n",
       "      <td>4</td>\n",
       "      <td>15701354</td>\n",
       "      <td>Boni</td>\n",
       "      <td>699</td>\n",
       "      <td>France</td>\n",
       "      <td>Female</td>\n",
       "      <td>39</td>\n",
       "      <td>1</td>\n",
       "      <td>0.00</td>\n",
       "      <td>2</td>\n",
       "      <td>0</td>\n",
       "      <td>0</td>\n",
       "      <td>93826.63</td>\n",
       "      <td>0</td>\n",
       "    </tr>\n",
       "    <tr>\n",
       "      <th>4</th>\n",
       "      <td>5</td>\n",
       "      <td>15737888</td>\n",
       "      <td>Mitchell</td>\n",
       "      <td>850</td>\n",
       "      <td>Spain</td>\n",
       "      <td>Female</td>\n",
       "      <td>43</td>\n",
       "      <td>2</td>\n",
       "      <td>125510.82</td>\n",
       "      <td>1</td>\n",
       "      <td>1</td>\n",
       "      <td>1</td>\n",
       "      <td>79084.10</td>\n",
       "      <td>0</td>\n",
       "    </tr>\n",
       "  </tbody>\n",
       "</table>\n",
       "</div>"
      ],
      "text/plain": [
       "   Row        Id   Surname  Score Nationality  Gender  Age  Tenure    Balance  \\\n",
       "0    1  15634602  Hargrave    619      France  Female   42       2       0.00   \n",
       "1    2  15647311      Hill    608       Spain  Female   41       1   83807.86   \n",
       "2    3  15619304      Onio    502      France  Female   42       8  159660.80   \n",
       "3    4  15701354      Boni    699      France  Female   39       1       0.00   \n",
       "4    5  15737888  Mitchell    850       Spain  Female   43       2  125510.82   \n",
       "\n",
       "   Products  Card  Active     Salary  Exited  \n",
       "0         1     1       1  101348.88       1  \n",
       "1         1     0       1  112542.58       0  \n",
       "2         3     1       0  113931.57       1  \n",
       "3         2     0       0   93826.63       0  \n",
       "4         1     1       1   79084.10       0  "
      ]
     },
     "execution_count": 6,
     "metadata": {},
     "output_type": "execute_result"
    }
   ],
   "source": [
    "bank_turn_overDF.head()"
   ]
  },
  {
   "cell_type": "code",
   "execution_count": 7,
   "id": "c3f0b9d5",
   "metadata": {},
   "outputs": [
    {
     "data": {
      "text/plain": [
       "(10000, 14)"
      ]
     },
     "execution_count": 7,
     "metadata": {},
     "output_type": "execute_result"
    }
   ],
   "source": [
    "bank_turn_overDF.shape"
   ]
  },
  {
   "cell_type": "code",
   "execution_count": 8,
   "id": "1408f316",
   "metadata": {},
   "outputs": [
    {
     "data": {
      "text/plain": [
       "array(['Row', 'Id', 'Surname', 'Score', 'Nationality', 'Gender', 'Age',\n",
       "       'Tenure', 'Balance', 'Products', 'Card', 'Active', 'Salary',\n",
       "       'Exited'], dtype=object)"
      ]
     },
     "execution_count": 8,
     "metadata": {},
     "output_type": "execute_result"
    }
   ],
   "source": [
    "bank_turn_overDF.columns.values"
   ]
  },
  {
   "cell_type": "code",
   "execution_count": 9,
   "id": "c0021fde",
   "metadata": {},
   "outputs": [
    {
     "data": {
      "text/plain": [
       "Exited\n",
       "0    7963\n",
       "1    2037\n",
       "Name: Exited, dtype: int64"
      ]
     },
     "execution_count": 9,
     "metadata": {},
     "output_type": "execute_result"
    }
   ],
   "source": [
    "#VGS_df.groupby('Genre')['Name'].count()\n",
    "# exited 1 == churn\n",
    "bank_turn_overDF.groupby('Exited')['Exited'].count()"
   ]
  },
  {
   "cell_type": "markdown",
   "id": "b5585163",
   "metadata": {},
   "source": [
    "# Pie Chart"
   ]
  },
  {
   "cell_type": "code",
   "execution_count": 10,
   "id": "17391e11",
   "metadata": {},
   "outputs": [
    {
     "data": {
      "image/png": "[encoded data removed]",
      "text/plain": [
       "<Figure size 504x288 with 1 Axes>"
      ]
     },
     "metadata": {},
     "output_type": "display_data"
    }
   ],
   "source": [
    "# 0 == current has not left the bank\n",
    "# 1 == left the bank\n",
    "labels = ['Current','Churn']\n",
    "\n",
    "\n",
    "#setting plot figure size\n",
    "fig = plt.figure(figsize=(7,4))\n",
    "#setting ax to figure shape \n",
    "ax = fig.add_axes((0,0,.5,1))\n",
    "#setting tiltle name\n",
    "plt.title(\"Percentage Of Consumers That Left or Stayed\")\n",
    "#unpacking values in pie\n",
    "#getting the exact values for exits\n",
    "ax.pie( bank_turn_overDF.groupby('Exited')['Exited'].count(),labels=labels, autopct='%1.1f%%',\n",
    "        shadow=True, startangle=90)\n",
    "ax.axis('equal')  \n",
    "plt.show()"
   ]
  },
  {
   "cell_type": "markdown",
   "id": "bb91b9be",
   "metadata": {},
   "source": [
    "This graph indicates that 20.4% of the people ended up leaving the bank. There was 79.6 percent of the people that have continued to stay with the bank. Overall, the attrition rate doesn’t seem to be too extreme. Essentially, we must look to see why 20% of those people are quitting. "
   ]
  },
  {
   "cell_type": "markdown",
   "id": "8c7709c1",
   "metadata": {},
   "source": [
    "# Bar Graph"
   ]
  },
  {
   "cell_type": "markdown",
   "id": "64145050",
   "metadata": {},
   "source": [
    "Each person must be classified by their individual traits. This will help us limit the scope of those people that are leaving the bank."
   ]
  },
  {
   "cell_type": "code",
   "execution_count": 11,
   "id": "8c965ee6",
   "metadata": {},
   "outputs": [],
   "source": [
    "#young adults(ages 18-35 years; n = 97), \n",
    "#middle-aged adults (ages 36-55 years, n = 197), \n",
    "#and older adults (aged older than 55 years, n = 49).\n",
    "#https://pubmed.ncbi.nlm.nih.gov/11815703/   \n",
    "\n",
    "#Taking the Age value and returning the group it stands in\n",
    "# the age group is taken from the government article, to define age groups\n",
    "\n",
    "def age_classification(age):\n",
    "    #initializing value to none \n",
    "    age_value = None\n",
    "    #taking age and returning value \n",
    "    #using artilce to base classification age\n",
    "    if(age >= 18 and age <=35):\n",
    "        age_value = 'young_adults'\n",
    "    elif(age>=36 and age<=55):\n",
    "        age_value = 'middle_aged_adults'\n",
    "    elif(age> 55):\n",
    "        age_value = 'older_adult'\n",
    "    else:\n",
    "        age_value = None\n",
    "    return age_value\n",
    "    \n",
    "        \n",
    "        "
   ]
  },
  {
   "cell_type": "code",
   "execution_count": 12,
   "id": "75bb4d2a",
   "metadata": {},
   "outputs": [],
   "source": [
    "#https://www.experian.com/blogs/ask-experian/credit-education/score-basics/what-is-a-good-credit-score/\n",
    "\n",
    "#scores resembles our credit structure\n",
    "#assumption is that these score are similar to our scores\n",
    "def score_classificaiton(score):\n",
    "    score_value = None\n",
    "    #taking score and returning value \n",
    "    #using article to base classification score on us experian score\n",
    "    if(score <= 579):\n",
    "        score_value = 'Poor'\n",
    "    elif(score>= 580 and score <=669):\n",
    "        score_value = 'Fair'\n",
    "    elif(score>=670 and score <= 739):\n",
    "        score_value = 'Good'\n",
    "    elif(score>=740 and score <=799):\n",
    "        score_value = 'Very_Good'\n",
    "    elif(score > 800):\n",
    "        score_value = 'Exceptional'\n",
    "    else:\n",
    "        score_value = None\n",
    "    return score_value"
   ]
  },
  {
   "cell_type": "code",
   "execution_count": 13,
   "id": "c2f6c11d",
   "metadata": {},
   "outputs": [
    {
     "name": "stdout",
     "output_type": "stream",
     "text": [
      "Lowest Score 350\n",
      "Middle Score 652.0\n",
      "Highest score 850 \n"
     ]
    }
   ],
   "source": [
    "#this score is well within our fico score\n",
    "#My assumption is this score is similar to credit score\n",
    "#To prove this assumption, I am taking the min , median, and max\n",
    "\n",
    "min_score = bank_turn_overDF['Score'].min()\n",
    "mid_score = bank_turn_overDF['Score'].median()\n",
    "max_score = bank_turn_overDF['Score'].max()\n",
    "\n",
    "print(\"Lowest Score {}\\nMiddle Score {}\\nHighest score {} \".format(min_score,mid_score, max_score))\n"
   ]
  },
  {
   "cell_type": "code",
   "execution_count": 14,
   "id": "c68038bb",
   "metadata": {},
   "outputs": [],
   "source": [
    "#copying original data frame\n",
    "bank_GeneralCustomerInfo_df = bank_turn_overDF.copy()\n",
    "\n",
    "#Getting age group , applying age_classification function\n",
    "#New column Age_Group\n",
    "bank_GeneralCustomerInfo_df['Age_Group'] = bank_GeneralCustomerInfo_df['Age'].apply(age_classification)\n",
    "\n",
    "#Getting score group , applying score_classification function\n",
    "#New column Score_Group\n",
    "bank_GeneralCustomerInfo_df['Score_Group'] = bank_GeneralCustomerInfo_df['Score'].apply(score_classificaiton)"
   ]
  },
  {
   "cell_type": "code",
   "execution_count": 15,
   "id": "e5d7ddce",
   "metadata": {
    "scrolled": true
   },
   "outputs": [
    {
     "data": {
      "text/html": [
       "<div>\n",
       "<style scoped>\n",
       "    .dataframe tbody tr th:only-of-type {\n",
       "        vertical-align: middle;\n",
       "    }\n",
       "\n",
       "    .dataframe tbody tr th {\n",
       "        vertical-align: top;\n",
       "    }\n",
       "\n",
       "    .dataframe thead th {\n",
       "        text-align: right;\n",
       "    }\n",
       "</style>\n",
       "<table border=\"1\" class=\"dataframe\">\n",
       "  <thead>\n",
       "    <tr style=\"text-align: right;\">\n",
       "      <th></th>\n",
       "      <th>Row</th>\n",
       "      <th>Id</th>\n",
       "      <th>Surname</th>\n",
       "      <th>Score</th>\n",
       "      <th>Nationality</th>\n",
       "      <th>Gender</th>\n",
       "      <th>Age</th>\n",
       "      <th>Tenure</th>\n",
       "      <th>Balance</th>\n",
       "      <th>Products</th>\n",
       "      <th>Card</th>\n",
       "      <th>Active</th>\n",
       "      <th>Salary</th>\n",
       "      <th>Exited</th>\n",
       "      <th>Age_Group</th>\n",
       "      <th>Score_Group</th>\n",
       "    </tr>\n",
       "  </thead>\n",
       "  <tbody>\n",
       "    <tr>\n",
       "      <th>0</th>\n",
       "      <td>1</td>\n",
       "      <td>15634602</td>\n",
       "      <td>Hargrave</td>\n",
       "      <td>619</td>\n",
       "      <td>France</td>\n",
       "      <td>Female</td>\n",
       "      <td>42</td>\n",
       "      <td>2</td>\n",
       "      <td>0.00</td>\n",
       "      <td>1</td>\n",
       "      <td>1</td>\n",
       "      <td>1</td>\n",
       "      <td>101348.88</td>\n",
       "      <td>1</td>\n",
       "      <td>middle_aged_adults</td>\n",
       "      <td>Fair</td>\n",
       "    </tr>\n",
       "    <tr>\n",
       "      <th>1</th>\n",
       "      <td>2</td>\n",
       "      <td>15647311</td>\n",
       "      <td>Hill</td>\n",
       "      <td>608</td>\n",
       "      <td>Spain</td>\n",
       "      <td>Female</td>\n",
       "      <td>41</td>\n",
       "      <td>1</td>\n",
       "      <td>83807.86</td>\n",
       "      <td>1</td>\n",
       "      <td>0</td>\n",
       "      <td>1</td>\n",
       "      <td>112542.58</td>\n",
       "      <td>0</td>\n",
       "      <td>middle_aged_adults</td>\n",
       "      <td>Fair</td>\n",
       "    </tr>\n",
       "    <tr>\n",
       "      <th>2</th>\n",
       "      <td>3</td>\n",
       "      <td>15619304</td>\n",
       "      <td>Onio</td>\n",
       "      <td>502</td>\n",
       "      <td>France</td>\n",
       "      <td>Female</td>\n",
       "      <td>42</td>\n",
       "      <td>8</td>\n",
       "      <td>159660.80</td>\n",
       "      <td>3</td>\n",
       "      <td>1</td>\n",
       "      <td>0</td>\n",
       "      <td>113931.57</td>\n",
       "      <td>1</td>\n",
       "      <td>middle_aged_adults</td>\n",
       "      <td>Poor</td>\n",
       "    </tr>\n",
       "  </tbody>\n",
       "</table>\n",
       "</div>"
      ],
      "text/plain": [
       "   Row        Id   Surname  Score Nationality  Gender  Age  Tenure    Balance  \\\n",
       "0    1  15634602  Hargrave    619      France  Female   42       2       0.00   \n",
       "1    2  15647311      Hill    608       Spain  Female   41       1   83807.86   \n",
       "2    3  15619304      Onio    502      France  Female   42       8  159660.80   \n",
       "\n",
       "   Products  Card  Active     Salary  Exited           Age_Group Score_Group  \n",
       "0         1     1       1  101348.88       1  middle_aged_adults        Fair  \n",
       "1         1     0       1  112542.58       0  middle_aged_adults        Fair  \n",
       "2         3     1       0  113931.57       1  middle_aged_adults        Poor  "
      ]
     },
     "execution_count": 15,
     "metadata": {},
     "output_type": "execute_result"
    }
   ],
   "source": [
    "bank_GeneralCustomerInfo_df.head(3)"
   ]
  },
  {
   "cell_type": "code",
   "execution_count": 16,
   "id": "cd2adb4a",
   "metadata": {},
   "outputs": [],
   "source": [
    "#Removing  mutiple columns, these columns dont provide useful information and have to be removed.\n",
    "#only personal individual information will be displayed.\n",
    "bank_GeneralCustomerInfo_df = bank_GeneralCustomerInfo_df.drop(['Row', 'Id', 'Surname',  \n",
    "       'Tenure', 'Balance', 'Products', 'Card', 'Salary',\n",
    "       'Exited','Age','Score','Active'], axis=1).copy()"
   ]
  },
  {
   "cell_type": "code",
   "execution_count": 17,
   "id": "2f0d588e",
   "metadata": {},
   "outputs": [
    {
     "data": {
      "text/html": [
       "<div>\n",
       "<style scoped>\n",
       "    .dataframe tbody tr th:only-of-type {\n",
       "        vertical-align: middle;\n",
       "    }\n",
       "\n",
       "    .dataframe tbody tr th {\n",
       "        vertical-align: top;\n",
       "    }\n",
       "\n",
       "    .dataframe thead th {\n",
       "        text-align: right;\n",
       "    }\n",
       "</style>\n",
       "<table border=\"1\" class=\"dataframe\">\n",
       "  <thead>\n",
       "    <tr style=\"text-align: right;\">\n",
       "      <th></th>\n",
       "      <th>Nationality</th>\n",
       "      <th>Gender</th>\n",
       "      <th>Age_Group</th>\n",
       "      <th>Score_Group</th>\n",
       "    </tr>\n",
       "  </thead>\n",
       "  <tbody>\n",
       "    <tr>\n",
       "      <th>0</th>\n",
       "      <td>France</td>\n",
       "      <td>Female</td>\n",
       "      <td>middle_aged_adults</td>\n",
       "      <td>Fair</td>\n",
       "    </tr>\n",
       "    <tr>\n",
       "      <th>1</th>\n",
       "      <td>Spain</td>\n",
       "      <td>Female</td>\n",
       "      <td>middle_aged_adults</td>\n",
       "      <td>Fair</td>\n",
       "    </tr>\n",
       "    <tr>\n",
       "      <th>2</th>\n",
       "      <td>France</td>\n",
       "      <td>Female</td>\n",
       "      <td>middle_aged_adults</td>\n",
       "      <td>Poor</td>\n",
       "    </tr>\n",
       "  </tbody>\n",
       "</table>\n",
       "</div>"
      ],
      "text/plain": [
       "  Nationality  Gender           Age_Group Score_Group\n",
       "0      France  Female  middle_aged_adults        Fair\n",
       "1       Spain  Female  middle_aged_adults        Fair\n",
       "2      France  Female  middle_aged_adults        Poor"
      ]
     },
     "execution_count": 17,
     "metadata": {},
     "output_type": "execute_result"
    }
   ],
   "source": [
    "bank_GeneralCustomerInfo_df.head(3)"
   ]
  },
  {
   "cell_type": "code",
   "execution_count": 18,
   "id": "8e07c48d",
   "metadata": {},
   "outputs": [
    {
     "data": {
      "image/png": "[encoded data removed]",
      "text/plain": [
       "<Figure size 864x864 with 4 Axes>"
      ]
     },
     "metadata": {
      "needs_background": "light"
     },
     "output_type": "display_data"
    }
   ],
   "source": [
    "#Setting figure size\n",
    "fig = plt.figure(figsize=(12,12))\n",
    "#initializing count to 1\n",
    "count = 1\n",
    "#taking each column in bank_GeneralCustomerInfo_df\n",
    "#Should consist of 4 \n",
    "for i in bank_GeneralCustomerInfo_df.columns.values:\n",
    "    #4 plots will show the subplot will be set to 2 and 2\n",
    "    ax = plt.subplot(2,2,count)\n",
    "    #Setting value by comparision of bank turn over('Exited')\n",
    "    pd.crosstab(bank_GeneralCustomerInfo_df[i],bank_turn_overDF['Exited']).plot(kind='bar',ax=ax)\n",
    "    plt.tight_layout(pad=3.0)\n",
    "    \n",
    "    #Setting title to instance of first columns\n",
    "    plt.title(\"Churn by \"+ i)\n",
    "    plt.xlabel(i)\n",
    "    plt.ylabel(\"Count\")\n",
    "    \n",
    "    #counter increment for new plot\n",
    "    count = count + 1"
   ]
  },
  {
   "cell_type": "markdown",
   "id": "bd685bb5",
   "metadata": {},
   "source": [
    "The graph could be thought of as one big graph. There does seem to be more women leaving the bank than men. It also looks like they are more men that are staying at the bank than women. As a base of nationality, Germany and France have similar exit rates versus Spain which has a lower rate. It also seems like middle-aged adults between 36 and 55 are disproportionately leaving the bank versus young adults and older adults. Fair and poor credit scores have the highest exit rates from the bank."
   ]
  },
  {
   "cell_type": "code",
   "execution_count": 19,
   "id": "607b9c09",
   "metadata": {},
   "outputs": [
    {
     "data": {
      "text/plain": [
       "Gender\n",
       "Female    4543\n",
       "Male      5457\n",
       "Name: Gender, dtype: int64"
      ]
     },
     "execution_count": 19,
     "metadata": {},
     "output_type": "execute_result"
    }
   ],
   "source": [
    "#Seeing the difference size in gender\n",
    "#There are more males then females, this can explain the previous graph on why there are more men that stay in the bank.\n",
    "bank_GeneralCustomerInfo_df.groupby('Gender')['Gender'].count()"
   ]
  },
  {
   "cell_type": "markdown",
   "id": "c9fd6c5c",
   "metadata": {},
   "source": [
    "# Correlation Coefficient Matrix"
   ]
  },
  {
   "cell_type": "code",
   "execution_count": 20,
   "id": "45cbf24f",
   "metadata": {},
   "outputs": [],
   "source": [
    "#Setting a martix to original values\n",
    "#Removeing Row number and Id , would provided information for correlation graph\n",
    "bank_t_over = bank_turn_overDF.drop(['Row', 'Id'], axis=1).copy()\n",
    "\n",
    "corrMatrix = bank_t_over.corr()"
   ]
  },
  {
   "cell_type": "code",
   "execution_count": 21,
   "id": "f8d3e628",
   "metadata": {
    "scrolled": true
   },
   "outputs": [
    {
     "data": {
      "image/png": "[encoded data removed]",
      "text/plain": [
       "<Figure size 720x576 with 2 Axes>"
      ]
     },
     "metadata": {
      "needs_background": "light"
     },
     "output_type": "display_data"
    }
   ],
   "source": [
    "#All values of corrMatrix will be passed in matrix graph\n",
    "fig, ax = plt.subplots(figsize=(10,8)) \n",
    "sns.heatmap(corrMatrix, annot= True,  linewidths=.5, ax=ax)\n",
    "plt.title(\"Correlation Coefficient Matrix Bank Consumer Churns\")\n",
    "plt.show()"
   ]
  },
  {
   "cell_type": "markdown",
   "id": "074ffc64",
   "metadata": {},
   "source": [
    "There are three values that have a positive correlation to people that have exited. The first is age with a 29 percent positive correlation. Balance and salary both have the same correlation at 12 percent. This shows that the age and the amount of money factor into whether the person will leave or not."
   ]
  },
  {
   "cell_type": "markdown",
   "id": "56f9f52c",
   "metadata": {},
   "source": [
    "# Histogram"
   ]
  },
  {
   "cell_type": "code",
   "execution_count": 22,
   "id": "5badd7e8",
   "metadata": {},
   "outputs": [
    {
     "data": {
      "image/png": "[encoded data removed]",
      "text/plain": [
       "<Figure size 432x288 with 1 Axes>"
      ]
     },
     "metadata": {
      "needs_background": "light"
     },
     "output_type": "display_data"
    },
    {
     "data": {
      "image/png": "[encoded data removed]",
      "text/plain": [
       "<Figure size 432x288 with 1 Axes>"
      ]
     },
     "metadata": {
      "needs_background": "light"
     },
     "output_type": "display_data"
    },
    {
     "data": {
      "image/png": "[encoded data removed]",
      "text/plain": [
       "<Figure size 432x288 with 1 Axes>"
      ]
     },
     "metadata": {
      "needs_background": "light"
     },
     "output_type": "display_data"
    }
   ],
   "source": [
    "#heat map had values that had some correlation with exited\n",
    "#this means the values should be looked into more\n",
    "#Plot the graphs that have correlation with exits\n",
    "#only values with any correlation will be graphed, there should be 3\n",
    "for i in enumerate(bank_t_over):\n",
    "    if(i[1] == 'Age' or i[1] == 'Salary' or i[1] == 'Balance'):\n",
    "        plt.title(\"Histogram of \" +i[1])\n",
    "        plt.hist(bank_t_over[i[1]])\n",
    "        plt.xlabel(i[1])\n",
    "        plt.ylabel(\"frequency\")\n",
    "   \n",
    "        plt.show()"
   ]
  },
  {
   "cell_type": "markdown",
   "id": "5a4ac29e",
   "metadata": {},
   "source": [
    "The greatest number of people leaving are between the ages of 30 and 40 years. With most of the balances being between 0 and 50,000 dollars. It levels off around 150,000 and 200,000 dollars. Overall, these traits are the ones with a positive correlation. The salary that people make is all over the board meaning they are not normal distributions.\n"
   ]
  },
  {
   "cell_type": "markdown",
   "id": "9dfd9e67",
   "metadata": {},
   "source": [
    "# Conclusion"
   ]
  },
  {
   "cell_type": "markdown",
   "id": "1a256f94",
   "metadata": {},
   "source": [
    "The overall bank churn is around 20.4%. This means that 79.6% of the consumers stay with the bank. Also, there are more men at the bank than women. However, there are more women leaving the bank than men. In other words, there are fewer women at the bank, and a large number leaving the bank. Perhaps there are some gender factors that should be investigated. On an age factor, more middle-aged people are leaving the bank than other age groups. The score values indicate that those people with a fair credit score are more likely to churn. Exceptional credit scores have very few people that end up exiting. A data entry that would make this picture complete would be interest rates. Perhaps the score gives them perks. There are 3 values that have a correlation with bank churn which are age, balance, and salary. Age has the highest factor. The average age to churn is between the ages of 30 and 40. The overall average balance is between 0 and 23/30 thousand. The salaries for churn are all over the board. Overall, this begins to cover some answers to the first few questions. With that said, it arises more questions."
   ]
  }
 ],
 "metadata": {
  "kernelspec": {
   "display_name": "Python 3",
   "language": "python",
   "name": "python3"
  },
  "language_info": {
   "codemirror_mode": {
    "name": "ipython",
    "version": 3
   },
   "file_extension": ".py",
   "mimetype": "text/x-python",
   "name": "python",
   "nbconvert_exporter": "python",
   "pygments_lexer": "ipython3",
   "version": "3.8.8"
  }
 },
 "nbformat": 4,
 "nbformat_minor": 5
}
