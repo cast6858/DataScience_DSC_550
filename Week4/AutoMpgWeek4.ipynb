{
 "cells": [
  {
   "cell_type": "markdown",
   "id": "a04eb2e2",
   "metadata": {},
   "source": [
    "# Felipe Castillo\n",
    "# Bag of Words Meets Bags of Popcorn Assignment\n",
    "# Data Mining\n",
    "# 04/06/2022"
   ]
  },
  {
   "cell_type": "code",
   "execution_count": 378,
   "id": "675c9d61",
   "metadata": {},
   "outputs": [],
   "source": [
    "import pandas as pd\n",
    "import os\n",
    "import numpy as np\n",
    "import seaborn as sn\n",
    "import matplotlib.pyplot as plt\n",
    "from sklearn.linear_model import LinearRegression, Ridge\n",
    "from sklearn.model_selection import train_test_split\n",
    "from sklearn.preprocessing import StandardScaler\n",
    "from sklearn.metrics import mean_squared_error\n",
    "import random\n",
    "from sklearn.metrics import r2_score\n",
    "from math import sqrt\n",
    "\n",
    "from sklearn.metrics import mean_squared_error\n",
    "#Change path to week one folder for DSC-550\n",
    "#Current directory in documents\n",
    "os.chdir('C:\\DataScience_DSC_550\\Week4')\n"
   ]
  },
  {
   "cell_type": "markdown",
   "id": "d2894221",
   "metadata": {},
   "source": [
    "# 1.Load the data as a Pandas data frame and ensure that it imported correctly."
   ]
  },
  {
   "cell_type": "code",
   "execution_count": 52,
   "id": "fbf87a45",
   "metadata": {},
   "outputs": [],
   "source": [
    "auto_mpg_df = pd.read_csv(\"auto-mpg.csv\")"
   ]
  },
  {
   "cell_type": "code",
   "execution_count": 114,
   "id": "1ec150bf",
   "metadata": {},
   "outputs": [
    {
     "data": {
      "text/html": [
       "<div>\n",
       "<style scoped>\n",
       "    .dataframe tbody tr th:only-of-type {\n",
       "        vertical-align: middle;\n",
       "    }\n",
       "\n",
       "    .dataframe tbody tr th {\n",
       "        vertical-align: top;\n",
       "    }\n",
       "\n",
       "    .dataframe thead th {\n",
       "        text-align: right;\n",
       "    }\n",
       "</style>\n",
       "<table border=\"1\" class=\"dataframe\">\n",
       "  <thead>\n",
       "    <tr style=\"text-align: right;\">\n",
       "      <th></th>\n",
       "      <th>mpg</th>\n",
       "      <th>cylinders</th>\n",
       "      <th>displacement</th>\n",
       "      <th>horsepower</th>\n",
       "      <th>weight</th>\n",
       "      <th>acceleration</th>\n",
       "      <th>model year</th>\n",
       "      <th>origin</th>\n",
       "      <th>car name</th>\n",
       "    </tr>\n",
       "  </thead>\n",
       "  <tbody>\n",
       "    <tr>\n",
       "      <th>0</th>\n",
       "      <td>18.0</td>\n",
       "      <td>8</td>\n",
       "      <td>307.0</td>\n",
       "      <td>130</td>\n",
       "      <td>3504</td>\n",
       "      <td>12.0</td>\n",
       "      <td>70</td>\n",
       "      <td>1</td>\n",
       "      <td>chevrolet chevelle malibu</td>\n",
       "    </tr>\n",
       "    <tr>\n",
       "      <th>1</th>\n",
       "      <td>15.0</td>\n",
       "      <td>8</td>\n",
       "      <td>350.0</td>\n",
       "      <td>165</td>\n",
       "      <td>3693</td>\n",
       "      <td>11.5</td>\n",
       "      <td>70</td>\n",
       "      <td>1</td>\n",
       "      <td>buick skylark 320</td>\n",
       "    </tr>\n",
       "  </tbody>\n",
       "</table>\n",
       "</div>"
      ],
      "text/plain": [
       "    mpg  cylinders  displacement horsepower  weight  acceleration  model year  \\\n",
       "0  18.0          8         307.0        130    3504          12.0          70   \n",
       "1  15.0          8         350.0        165    3693          11.5          70   \n",
       "\n",
       "   origin                   car name  \n",
       "0       1  chevrolet chevelle malibu  \n",
       "1       1          buick skylark 320  "
      ]
     },
     "execution_count": 114,
     "metadata": {},
     "output_type": "execute_result"
    }
   ],
   "source": [
    "auto_mpg_df.head(2)"
   ]
  },
  {
   "cell_type": "markdown",
   "id": "c3972229",
   "metadata": {},
   "source": [
    "# 2.Begin by prepping the data for modeling"
   ]
  },
  {
   "cell_type": "markdown",
   "id": "72521d71",
   "metadata": {},
   "source": [
    "Notes:\n",
    "\n",
    " 1.Remove the car name column.\n",
    " \n",
    " 2.The horsepower column values likely imported as a   string data type. Figure out why and replace any strings with the column mean.\n",
    " \n",
    " 3.Create dummy variables for the origin column."
   ]
  },
  {
   "cell_type": "code",
   "execution_count": 57,
   "id": "3800811c",
   "metadata": {},
   "outputs": [],
   "source": [
    "#Remove car name column\n",
    "auto_df = auto_mpg_df.copy()\n",
    "auto_df = auto_df.drop('car name', axis=1)"
   ]
  },
  {
   "cell_type": "code",
   "execution_count": 58,
   "id": "452b4891",
   "metadata": {},
   "outputs": [
    {
     "data": {
      "text/html": [
       "<div>\n",
       "<style scoped>\n",
       "    .dataframe tbody tr th:only-of-type {\n",
       "        vertical-align: middle;\n",
       "    }\n",
       "\n",
       "    .dataframe tbody tr th {\n",
       "        vertical-align: top;\n",
       "    }\n",
       "\n",
       "    .dataframe thead th {\n",
       "        text-align: right;\n",
       "    }\n",
       "</style>\n",
       "<table border=\"1\" class=\"dataframe\">\n",
       "  <thead>\n",
       "    <tr style=\"text-align: right;\">\n",
       "      <th></th>\n",
       "      <th>mpg</th>\n",
       "      <th>cylinders</th>\n",
       "      <th>displacement</th>\n",
       "      <th>horsepower</th>\n",
       "      <th>weight</th>\n",
       "      <th>acceleration</th>\n",
       "      <th>model year</th>\n",
       "      <th>origin</th>\n",
       "    </tr>\n",
       "  </thead>\n",
       "  <tbody>\n",
       "    <tr>\n",
       "      <th>0</th>\n",
       "      <td>18.0</td>\n",
       "      <td>8</td>\n",
       "      <td>307.0</td>\n",
       "      <td>130</td>\n",
       "      <td>3504</td>\n",
       "      <td>12.0</td>\n",
       "      <td>70</td>\n",
       "      <td>1</td>\n",
       "    </tr>\n",
       "    <tr>\n",
       "      <th>1</th>\n",
       "      <td>15.0</td>\n",
       "      <td>8</td>\n",
       "      <td>350.0</td>\n",
       "      <td>165</td>\n",
       "      <td>3693</td>\n",
       "      <td>11.5</td>\n",
       "      <td>70</td>\n",
       "      <td>1</td>\n",
       "    </tr>\n",
       "  </tbody>\n",
       "</table>\n",
       "</div>"
      ],
      "text/plain": [
       "    mpg  cylinders  displacement horsepower  weight  acceleration  model year  \\\n",
       "0  18.0          8         307.0        130    3504          12.0          70   \n",
       "1  15.0          8         350.0        165    3693          11.5          70   \n",
       "\n",
       "   origin  \n",
       "0       1  \n",
       "1       1  "
      ]
     },
     "execution_count": 58,
     "metadata": {},
     "output_type": "execute_result"
    }
   ],
   "source": [
    "auto_df.head(2)"
   ]
  },
  {
   "cell_type": "code",
   "execution_count": 59,
   "id": "12d070ff",
   "metadata": {},
   "outputs": [
    {
     "name": "stdout",
     "output_type": "stream",
     "text": [
      "<class 'pandas.core.frame.DataFrame'>\n",
      "RangeIndex: 398 entries, 0 to 397\n",
      "Data columns (total 8 columns):\n",
      " #   Column        Non-Null Count  Dtype  \n",
      "---  ------        --------------  -----  \n",
      " 0   mpg           398 non-null    float64\n",
      " 1   cylinders     398 non-null    int64  \n",
      " 2   displacement  398 non-null    float64\n",
      " 3   horsepower    398 non-null    object \n",
      " 4   weight        398 non-null    int64  \n",
      " 5   acceleration  398 non-null    float64\n",
      " 6   model year    398 non-null    int64  \n",
      " 7   origin        398 non-null    int64  \n",
      "dtypes: float64(3), int64(4), object(1)\n",
      "memory usage: 25.0+ KB\n"
     ]
    }
   ],
   "source": [
    "#Horse power is of type of object\n",
    "#Means that there is a possiblity of more then numerical values\n",
    "auto_df.info()"
   ]
  },
  {
   "cell_type": "code",
   "execution_count": 25,
   "id": "651b303c",
   "metadata": {},
   "outputs": [
    {
     "data": {
      "text/plain": [
       "dtype('O')"
      ]
     },
     "execution_count": 25,
     "metadata": {},
     "output_type": "execute_result"
    }
   ],
   "source": [
    "#Confirmed column data type\n",
    "auto_df.horsepower.dtype"
   ]
  },
  {
   "cell_type": "code",
   "execution_count": 111,
   "id": "3527424e",
   "metadata": {},
   "outputs": [],
   "source": [
    "#The data set contains '?' that could disrupt the conversion between object and float\n",
    "#Needs to be removed and replaced with the hourse power mean\n",
    "#Replacing column values with type float, if ? mean replaces it.\n",
    "#All values converted to type float\n",
    "auto_df['horsepower'] = auto_df['horsepower'].astype(\"float\").replace('?' , auto_df['horsepower'].astype(\"float\").mean(), regex = True)\n",
    "\n",
    "\n"
   ]
  },
  {
   "cell_type": "code",
   "execution_count": 108,
   "id": "5f1d9bb4",
   "metadata": {},
   "outputs": [
    {
     "data": {
      "text/plain": [
       "dtype('float64')"
      ]
     },
     "execution_count": 108,
     "metadata": {},
     "output_type": "execute_result"
    }
   ],
   "source": [
    "#Type Float\n",
    "auto_df.horsepower.dtype"
   ]
  },
  {
   "cell_type": "markdown",
   "id": "3dfd2b38",
   "metadata": {},
   "source": [
    "Figure out why and replace any strings with the column mean.\n",
    "\n",
    "\n",
    "The reason why this column is of type object is due to it being able to come in as different values and data type. In this column the ‘?’ mark is none numeric therefore it can’t come in as an integer. It needs to be handled if this column is to be processed. Without this process it will throw an exception There are a lot of reason in the real world this could happened. Perhaps the individual accidently types a non-numeric value, or perhaps this is the way the company want to handle this type of nonnumeric value. Either way the column is of type object due to there being a string a non-numeric value.\n",
    "\n",
    "\n",
    "\n",
    "\n"
   ]
  },
  {
   "cell_type": "code",
   "execution_count": 138,
   "id": "bc6f92c4",
   "metadata": {},
   "outputs": [],
   "source": [
    "#Create dummy variables for the origin column.\n",
    "auto_df['origin'] = auto_df['origin'].astype(str).replace(r'[0-9]' , '@', regex = True)"
   ]
  },
  {
   "cell_type": "code",
   "execution_count": 141,
   "id": "153a50c8",
   "metadata": {},
   "outputs": [
    {
     "data": {
      "text/html": [
       "<div>\n",
       "<style scoped>\n",
       "    .dataframe tbody tr th:only-of-type {\n",
       "        vertical-align: middle;\n",
       "    }\n",
       "\n",
       "    .dataframe tbody tr th {\n",
       "        vertical-align: top;\n",
       "    }\n",
       "\n",
       "    .dataframe thead th {\n",
       "        text-align: right;\n",
       "    }\n",
       "</style>\n",
       "<table border=\"1\" class=\"dataframe\">\n",
       "  <thead>\n",
       "    <tr style=\"text-align: right;\">\n",
       "      <th></th>\n",
       "      <th>mpg</th>\n",
       "      <th>cylinders</th>\n",
       "      <th>displacement</th>\n",
       "      <th>horsepower</th>\n",
       "      <th>weight</th>\n",
       "      <th>acceleration</th>\n",
       "      <th>model year</th>\n",
       "      <th>origin</th>\n",
       "    </tr>\n",
       "  </thead>\n",
       "  <tbody>\n",
       "    <tr>\n",
       "      <th>0</th>\n",
       "      <td>18.0</td>\n",
       "      <td>8</td>\n",
       "      <td>307.0</td>\n",
       "      <td>130.0</td>\n",
       "      <td>3504</td>\n",
       "      <td>12.0</td>\n",
       "      <td>70</td>\n",
       "      <td>@</td>\n",
       "    </tr>\n",
       "    <tr>\n",
       "      <th>1</th>\n",
       "      <td>15.0</td>\n",
       "      <td>8</td>\n",
       "      <td>350.0</td>\n",
       "      <td>165.0</td>\n",
       "      <td>3693</td>\n",
       "      <td>11.5</td>\n",
       "      <td>70</td>\n",
       "      <td>@</td>\n",
       "    </tr>\n",
       "  </tbody>\n",
       "</table>\n",
       "</div>"
      ],
      "text/plain": [
       "    mpg  cylinders  displacement  horsepower  weight  acceleration  \\\n",
       "0  18.0          8         307.0       130.0    3504          12.0   \n",
       "1  15.0          8         350.0       165.0    3693          11.5   \n",
       "\n",
       "   model year origin  \n",
       "0          70      @  \n",
       "1          70      @  "
      ]
     },
     "execution_count": 141,
     "metadata": {},
     "output_type": "execute_result"
    }
   ],
   "source": [
    "auto_df.head(2)"
   ]
  },
  {
   "cell_type": "markdown",
   "id": "c5ffabb8",
   "metadata": {},
   "source": [
    "# 3.Create a correlation coefficient matrix and/or visualization."
   ]
  },
  {
   "cell_type": "code",
   "execution_count": 143,
   "id": "a27d03ef",
   "metadata": {},
   "outputs": [
    {
     "name": "stdout",
     "output_type": "stream",
     "text": [
      "                   mpg  cylinders  displacement  horsepower    weight  \\\n",
      "mpg           1.000000  -0.775396     -0.804203   -0.771543 -0.831741   \n",
      "cylinders    -0.775396   1.000000      0.950721    0.839061  0.896017   \n",
      "displacement -0.804203   0.950721      1.000000    0.893760  0.932824   \n",
      "horsepower   -0.771543   0.839061      0.893760    1.000000  0.860676   \n",
      "weight       -0.831741   0.896017      0.932824    0.860676  1.000000   \n",
      "acceleration  0.420289  -0.505419     -0.543684   -0.684376 -0.417457   \n",
      "model year    0.579267  -0.348746     -0.370164   -0.411750 -0.306564   \n",
      "\n",
      "              acceleration  model year  \n",
      "mpg               0.420289    0.579267  \n",
      "cylinders        -0.505419   -0.348746  \n",
      "displacement     -0.543684   -0.370164  \n",
      "horsepower       -0.684376   -0.411750  \n",
      "weight           -0.417457   -0.306564  \n",
      "acceleration      1.000000    0.288137  \n",
      "model year        0.288137    1.000000  \n"
     ]
    }
   ],
   "source": [
    "corrMatrix = auto_df.corr()\n",
    "print(corrMatrix)"
   ]
  },
  {
   "cell_type": "code",
   "execution_count": 481,
   "id": "a0c54d40",
   "metadata": {},
   "outputs": [
    {
     "data": {
      "image/png": "[encoded data removed]",
      "text/plain": [
       "<Figure size 432x288 with 2 Axes>"
      ]
     },
     "metadata": {
      "needs_background": "light"
     },
     "output_type": "display_data"
    }
   ],
   "source": [
    "sn.heatmap(corrMatrix, annot= True)\n",
    "plt.title(\"Correlation Coefficient Matrix AutoMPG\")\n",
    "plt.show()"
   ]
  },
  {
   "cell_type": "markdown",
   "id": "a4e2c21c",
   "metadata": {},
   "source": [
    "Are there features highly correlated with mpg?\n",
    "\n",
    "There are two features that are correlated with mpg. The first feature is acceleration with a .42 and model year with a .58.  And mpg obviously correlates with itself.  However, if we are assuming that .95 and above is “highly correlated”, then there are no features that meet those standards. Overall, all other features were negativity correlated.\n",
    "https://www.projectpro.io/recipes/drop-out-highly-correlated-features-in-python\n",
    "\n"
   ]
  },
  {
   "cell_type": "markdown",
   "id": "de3337da",
   "metadata": {},
   "source": [
    "# 4.Plot mpg versus weight."
   ]
  },
  {
   "cell_type": "code",
   "execution_count": 425,
   "id": "68fec6bf",
   "metadata": {},
   "outputs": [
    {
     "data": {
      "text/plain": [
       "Text(0, 0.5, 'mpg')"
      ]
     },
     "execution_count": 425,
     "metadata": {},
     "output_type": "execute_result"
    },
    {
     "data": {
      "image/png": "[encoded data removed]",
      "text/plain": [
       "<Figure size 432x288 with 1 Axes>"
      ]
     },
     "metadata": {
      "needs_background": "light"
     },
     "output_type": "display_data"
    }
   ],
   "source": [
    "#plotting scatter\n",
    "plt.plot(auto_df['weight'], auto_df['mpg'],  'o')\n",
    "\n",
    "#Getting slope m and intercept b of linear regression \n",
    "m, b = np.polyfit( auto_df['weight'],auto_df['mpg'], 1)\n",
    "\n",
    "#ploting line\n",
    "#Using a regression line\n",
    "plt.plot(auto_df['weight'], m*auto_df['weight']+b)\n",
    "\n",
    "#Plot title\n",
    "plt.title(\"Mpg vs Weight of Car\")\n",
    "#Plot x axis\n",
    "plt.xlabel(\"weight\")\n",
    "#plot y axis\n",
    "plt.ylabel(\"mpg\")"
   ]
  },
  {
   "cell_type": "markdown",
   "id": "efd94c99",
   "metadata": {},
   "source": [
    "Analyze this graph and explain how it relates to the corresponding correlation coefficient.\n",
    "\n",
    "Overall, the regression line is showing the mpg vs weight have negative correlation with one another. This reflects with correlation matrix which indicated that mpg correlation with weight was at a -.83. The graphs output and the correlation matrix go hand in hand with one another. The correlation coefficient seems to directly related to the graph. Both show a  negative correlation.\n"
   ]
  },
  {
   "cell_type": "markdown",
   "id": "39d2e197",
   "metadata": {},
   "source": [
    "# 5.Randomly split the data into 80% training data and 20% test data, where your target is mpg."
   ]
  },
  {
   "cell_type": "markdown",
   "id": "2a01b4aa",
   "metadata": {},
   "source": [
    "# 6.Train an ordinary linear regression on the training data."
   ]
  },
  {
   "cell_type": "code",
   "execution_count": 441,
   "id": "0cfc6d84",
   "metadata": {},
   "outputs": [],
   "source": [
    "#Making a function to return r2 \n",
    "def RsquaredConversion(target_test, target_predicated):\n",
    "    #Invokes r2 score function \n",
    "    r_squared = r2_score(target_test,target_predicated)\n",
    "    #Returns value\n",
    "    return r_squared"
   ]
  },
  {
   "cell_type": "code",
   "execution_count": 442,
   "id": "755d45f1",
   "metadata": {},
   "outputs": [
    {
     "data": {
      "text/html": [
       "<div>\n",
       "<style scoped>\n",
       "    .dataframe tbody tr th:only-of-type {\n",
       "        vertical-align: middle;\n",
       "    }\n",
       "\n",
       "    .dataframe tbody tr th {\n",
       "        vertical-align: top;\n",
       "    }\n",
       "\n",
       "    .dataframe thead th {\n",
       "        text-align: right;\n",
       "    }\n",
       "</style>\n",
       "<table border=\"1\" class=\"dataframe\">\n",
       "  <thead>\n",
       "    <tr style=\"text-align: right;\">\n",
       "      <th></th>\n",
       "      <th>mpg</th>\n",
       "      <th>cylinders</th>\n",
       "      <th>displacement</th>\n",
       "      <th>horsepower</th>\n",
       "      <th>weight</th>\n",
       "      <th>acceleration</th>\n",
       "      <th>model year</th>\n",
       "      <th>origin</th>\n",
       "    </tr>\n",
       "  </thead>\n",
       "  <tbody>\n",
       "    <tr>\n",
       "      <th>0</th>\n",
       "      <td>18.0</td>\n",
       "      <td>8</td>\n",
       "      <td>307.0</td>\n",
       "      <td>130.0</td>\n",
       "      <td>3504</td>\n",
       "      <td>12.0</td>\n",
       "      <td>70</td>\n",
       "      <td>@</td>\n",
       "    </tr>\n",
       "  </tbody>\n",
       "</table>\n",
       "</div>"
      ],
      "text/plain": [
       "    mpg  cylinders  displacement  horsepower  weight  acceleration  \\\n",
       "0  18.0          8         307.0       130.0    3504          12.0   \n",
       "\n",
       "   model year origin  \n",
       "0          70      @  "
      ]
     },
     "execution_count": 442,
     "metadata": {},
     "output_type": "execute_result"
    }
   ],
   "source": [
    "auto_df.head(1)"
   ]
  },
  {
   "cell_type": "code",
   "execution_count": 443,
   "id": "2e39fc00",
   "metadata": {},
   "outputs": [],
   "source": [
    "#Has all\n",
    "#Has all values upset origin and mpg. Mpg will be used as target, origin is in character from and doesn’t provided ay use for our model.\n",
    "features = auto_df[['weight','cylinders','displacement','horsepower','weight','acceleration','model year']]\n",
    "\n",
    "#dividing to mpg column\n",
    "target  = auto_df['mpg']"
   ]
  },
  {
   "cell_type": "code",
   "execution_count": 444,
   "id": "7f075095",
   "metadata": {},
   "outputs": [],
   "source": [
    "#Training the data \n",
    "#passed in all columns as features and passed mpg as target\n",
    "#set the test_size to .20\n",
    "features_train, features_test, target_train, target_test = train_test_split(features, target,  shuffle=True, test_size = 0.20)"
   ]
  },
  {
   "cell_type": "code",
   "execution_count": 445,
   "id": "7976ac4f",
   "metadata": {},
   "outputs": [],
   "source": [
    "#Instantiating linear regression class\n",
    "regression = LinearRegression()"
   ]
  },
  {
   "cell_type": "code",
   "execution_count": 446,
   "id": "df285b8f",
   "metadata": {},
   "outputs": [],
   "source": [
    "#Making model and passing both train feilds\n",
    "model = regression.fit(features_train, target_train)"
   ]
  },
  {
   "cell_type": "markdown",
   "id": "5ad28e4c",
   "metadata": {},
   "source": [
    "# 7.Calculate R2, RMSE, and MAE on both the training and test sets "
   ]
  },
  {
   "cell_type": "markdown",
   "id": "41969a6c",
   "metadata": {},
   "source": [
    "# Testing set"
   ]
  },
  {
   "cell_type": "code",
   "execution_count": 448,
   "id": "d3b6de95",
   "metadata": {},
   "outputs": [],
   "source": [
    "#Making target predict , which is reference in page 201\n",
    "#Will pass it into r2 conversion\n",
    "target_predicted = model.predict(features_test)"
   ]
  },
  {
   "cell_type": "code",
   "execution_count": 449,
   "id": "ba92751a",
   "metadata": {},
   "outputs": [
    {
     "name": "stdout",
     "output_type": "stream",
     "text": [
      "0.7935445009391737\n"
     ]
    }
   ],
   "source": [
    "#Get R2 score\n",
    "r2 = RsquaredConversion(target_test,target_predicted)\n",
    "print(r2)"
   ]
  },
  {
   "cell_type": "code",
   "execution_count": 450,
   "id": "80d63cda",
   "metadata": {},
   "outputs": [
    {
     "name": "stdout",
     "output_type": "stream",
     "text": [
      "11.253161498171448\n"
     ]
    }
   ],
   "source": [
    "#Getting mse\n",
    "mse = mean_squared_error(target_test, target_predicted)\n",
    "print(mse)"
   ]
  },
  {
   "cell_type": "code",
   "execution_count": 451,
   "id": "c3bc2867",
   "metadata": {},
   "outputs": [
    {
     "name": "stdout",
     "output_type": "stream",
     "text": [
      "3.3545732214652055\n"
     ]
    }
   ],
   "source": [
    "#Getting rmse\n",
    "rmse = np.sqrt(mse)\n",
    "print(rmse)"
   ]
  },
  {
   "cell_type": "markdown",
   "id": "9f844153",
   "metadata": {},
   "source": [
    "# Training sets"
   ]
  },
  {
   "cell_type": "code",
   "execution_count": 452,
   "id": "92f548a2",
   "metadata": {},
   "outputs": [],
   "source": [
    "# instead of test no using train\n",
    "tr_target_predicted = model.predict(features_train)"
   ]
  },
  {
   "cell_type": "code",
   "execution_count": 453,
   "id": "603eaa40",
   "metadata": {},
   "outputs": [
    {
     "name": "stdout",
     "output_type": "stream",
     "text": [
      "0.8104387286443262\n"
     ]
    }
   ],
   "source": [
    "#Got R2 score\n",
    "r2 = RsquaredConversion(target_train,tr_target_predicted)\n",
    "print(r2)"
   ]
  },
  {
   "cell_type": "code",
   "execution_count": 455,
   "id": "8d82b38e",
   "metadata": {
    "scrolled": true
   },
   "outputs": [
    {
     "name": "stdout",
     "output_type": "stream",
     "text": [
      "11.82502600987953\n"
     ]
    }
   ],
   "source": [
    "#Getting rmse\n",
    "mse = mean_squared_error(target_train, tr_target_predicted)\n",
    "print(mse)"
   ]
  },
  {
   "cell_type": "code",
   "execution_count": 409,
   "id": "4084e471",
   "metadata": {},
   "outputs": [
    {
     "name": "stdout",
     "output_type": "stream",
     "text": [
      "3.3820799068131673\n"
     ]
    }
   ],
   "source": [
    "#Getting rmse\n",
    "rmse = np.sqrt(mse)\n",
    "print(rmse)"
   ]
  },
  {
   "cell_type": "markdown",
   "id": "3fe2f4b7",
   "metadata": {},
   "source": [
    "# interpret your results.\n",
    "Overall, the R2 scores were 79 percent of testing and 81 percent training. This indicates that the relationship between these variables explain 80-81 percent of the variation in the data.  The MSE and RMSE are a high. This give me the indication that there are various outliers that are skewing the score. Its far off from 0 meaning the quality is not as good.  This means that the data is overfitted. And  most likely has little predict value. If the data was more similar we might see better score in this section."
   ]
  },
  {
   "cell_type": "markdown",
   "id": "091734c7",
   "metadata": {},
   "source": [
    "# 8.Pick another regression model and repeat the previous two steps. "
   ]
  },
  {
   "cell_type": "markdown",
   "id": "3d3ad317",
   "metadata": {},
   "source": [
    "Note: Do NOT choose logistic regression as it is more like a classification model."
   ]
  },
  {
   "cell_type": "code",
   "execution_count": 469,
   "id": "0c6a9bb7",
   "metadata": {},
   "outputs": [],
   "source": [
    "# unaware if this standard scaler is need. However it is recommned by many data science articles."
   ]
  },
  {
   "cell_type": "code",
   "execution_count": 471,
   "id": "b91221d6",
   "metadata": {},
   "outputs": [],
   "source": [
    "#Setting the standard scaler\n",
    "scaler = StandardScaler()"
   ]
  },
  {
   "cell_type": "code",
   "execution_count": 472,
   "id": "daea2605",
   "metadata": {},
   "outputs": [],
   "source": [
    "#scaling the features data set\n",
    "features_scaled = scaler.fit_transform(features)"
   ]
  },
  {
   "cell_type": "code",
   "execution_count": 473,
   "id": "09281458",
   "metadata": {},
   "outputs": [],
   "source": [
    "#Retraining data feilds with featured_scaled instead of features. So that new scaled data set can be used for features.\n",
    "features_train, features_test, target_train, target_test = train_test_split(features_scaled, target,  shuffle=True, test_size = 0.20)"
   ]
  },
  {
   "cell_type": "code",
   "execution_count": 474,
   "id": "909a0dd2",
   "metadata": {},
   "outputs": [],
   "source": [
    "#Ridge regression\n",
    "ridge =  Ridge()"
   ]
  },
  {
   "cell_type": "code",
   "execution_count": 475,
   "id": "75ed6831",
   "metadata": {},
   "outputs": [],
   "source": [
    "#predicted_y = model.predict(x_test)\n",
    "model = ridge.fit(features_train, target_train)"
   ]
  },
  {
   "cell_type": "code",
   "execution_count": 476,
   "id": "7fd9231c",
   "metadata": {},
   "outputs": [],
   "source": [
    "ridge_target_predict = model.predict(features_test)"
   ]
  },
  {
   "cell_type": "markdown",
   "id": "b39b8306",
   "metadata": {},
   "source": [
    "# Testing set"
   ]
  },
  {
   "cell_type": "code",
   "execution_count": 477,
   "id": "6311f0cf",
   "metadata": {
    "scrolled": true
   },
   "outputs": [
    {
     "data": {
      "text/plain": [
       "0.8047645764355607"
      ]
     },
     "execution_count": 477,
     "metadata": {},
     "output_type": "execute_result"
    }
   ],
   "source": [
    "#Got R2 score\n",
    "#r2 = RsquaredConversion(features_train,ridge_target_predict)\n",
    "#print(r2)\n",
    "r2_score(target_test,ridge_target_predict)"
   ]
  },
  {
   "cell_type": "code",
   "execution_count": 478,
   "id": "547e15f2",
   "metadata": {},
   "outputs": [
    {
     "name": "stdout",
     "output_type": "stream",
     "text": [
      "10.664502865086664\n"
     ]
    }
   ],
   "source": [
    "#getting mse\n",
    "mse = mean_squared_error(target_test, ridge_target_predict)\n",
    "print(mse)"
   ]
  },
  {
   "cell_type": "code",
   "execution_count": 479,
   "id": "e5fd340b",
   "metadata": {},
   "outputs": [
    {
     "name": "stdout",
     "output_type": "stream",
     "text": [
      "3.2656550437985126\n"
     ]
    }
   ],
   "source": [
    "#getting rmse\n",
    "rmse = np.sqrt(mse)\n",
    "print(rmse)"
   ]
  },
  {
   "cell_type": "markdown",
   "id": "3abfc4db",
   "metadata": {},
   "source": [
    "# Training sets"
   ]
  },
  {
   "cell_type": "code",
   "execution_count": 465,
   "id": "6cf24e78",
   "metadata": {},
   "outputs": [],
   "source": [
    "#getting predicted values for train\n",
    "tr_ridge_target_predict = model.predict(features_train)"
   ]
  },
  {
   "cell_type": "code",
   "execution_count": 466,
   "id": "14e5c9c6",
   "metadata": {},
   "outputs": [
    {
     "name": "stdout",
     "output_type": "stream",
     "text": [
      "0.7970560549803101\n"
     ]
    }
   ],
   "source": [
    "#getting R2 score\n",
    "r2 = RsquaredConversion(target_train,tr_ridge_target_predict)\n",
    "print(r2)"
   ]
  },
  {
   "cell_type": "code",
   "execution_count": 467,
   "id": "81b2f211",
   "metadata": {},
   "outputs": [
    {
     "name": "stdout",
     "output_type": "stream",
     "text": [
      "12.262364302344885\n"
     ]
    }
   ],
   "source": [
    "#getting mse\n",
    "mse = mean_squared_error(target_train, tr_ridge_target_predict)\n",
    "print(mse)"
   ]
  },
  {
   "cell_type": "code",
   "execution_count": 468,
   "id": "7f60b34a",
   "metadata": {},
   "outputs": [
    {
     "name": "stdout",
     "output_type": "stream",
     "text": [
      "3.501765883428657\n"
     ]
    }
   ],
   "source": [
    "#getting rmse\n",
    "rmse = np.sqrt(mse)\n",
    "print(rmse)"
   ]
  },
  {
   "cell_type": "markdown",
   "id": "0a0ec91b",
   "metadata": {},
   "source": [
    "# interpret your results.\n",
    "Overall, the R2 scores were 80 percent of testing and 79 percent training. This indicates that the relationship between these variables explain 79-80 percent of the variation in the data.  The MSE and RMSE are also high. This give me the indication that there are various outliers that are skewing the score. Its far off from 0 meaning the quality is not as good.  This means that the data is overfitted. And  most likely has little predict value. If the data was more similar we might see better score in this section.I assumed that ridge regression would give a lower mse and rmse."
   ]
  }
 ],
 "metadata": {
  "kernelspec": {
   "display_name": "Python 3",
   "language": "python",
   "name": "python3"
  },
  "language_info": {
   "codemirror_mode": {
    "name": "ipython",
    "version": 3
   },
   "file_extension": ".py",
   "mimetype": "text/x-python",
   "name": "python",
   "nbconvert_exporter": "python",
   "pygments_lexer": "ipython3",
   "version": "3.8.8"
  }
 },
 "nbformat": 4,
 "nbformat_minor": 5
}
