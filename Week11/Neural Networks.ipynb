{
 "cells": [
  {
   "cell_type": "markdown",
   "id": "67a92d0c",
   "metadata": {},
   "source": [
    "# Felipe Castillo\n",
    "# Neural Network\n",
    "# Data Mining\n",
    "# 05/28/2022"
   ]
  },
  {
   "cell_type": "code",
   "execution_count": 1,
   "id": "101e121b",
   "metadata": {},
   "outputs": [],
   "source": [
    "import numpy as np\n",
    "import sys\n",
    "import seaborn as sns\n",
    "from keras.datasets import mnist\n",
    "from keras import backend as k\n",
    "from keras.models import Sequential\n",
    "from sklearn.metrics import accuracy_score\n",
    "from sklearn.metrics import confusion_matrix\n",
    "from keras.layers.convolutional import Conv2D,MaxPooling2D\n",
    "from tensorflow.keras.layers import Flatten,Dense,Dropout\n",
    "from matplotlib import pyplot as plt\n",
    "from keras.utils import np_utils"
   ]
  },
  {
   "cell_type": "code",
   "execution_count": 11,
   "id": "0b3245b5",
   "metadata": {},
   "outputs": [],
   "source": [
    "#keras-2.9.0-py2.py3-none-any.whl\n",
    "# tensorflow-2.9.1\n",
    "#!{sys.executable} -m pip install tensorflow"
   ]
  },
  {
   "cell_type": "markdown",
   "id": "67e0e87c",
   "metadata": {},
   "source": [
    "# 1.Load the MNIST data set."
   ]
  },
  {
   "cell_type": "code",
   "execution_count": 2,
   "id": "0aad68ad",
   "metadata": {},
   "outputs": [],
   "source": [
    "(data_train,target_train) , (data_test, target_test) = mnist.load_data()"
   ]
  },
  {
   "cell_type": "markdown",
   "id": "86c9e481",
   "metadata": {},
   "source": [
    "# 2. Display the first five images in the training data set (see section 8.1 in the Machine Learning with Python Cookbook). Compare these to the first five training labels."
   ]
  },
  {
   "cell_type": "code",
   "execution_count": 3,
   "id": "ea4e6c4e",
   "metadata": {},
   "outputs": [
    {
     "name": "stdout",
     "output_type": "stream",
     "text": [
      "5\n",
      "0\n",
      "4\n",
      "1\n",
      "9\n"
     ]
    }
   ],
   "source": [
    "#printing labels training set \n",
    "for i in range(5):\n",
    "    print(target_train[i])"
   ]
  },
  {
   "cell_type": "code",
   "execution_count": 4,
   "id": "f20515f2",
   "metadata": {
    "scrolled": true
   },
   "outputs": [
    {
     "data": {
      "image/png": "[encoded data removed]",
      "text/plain": [
       "<Figure size 432x288 with 1 Axes>"
      ]
     },
     "metadata": {
      "needs_background": "light"
     },
     "output_type": "display_data"
    },
    {
     "data": {
      "image/png": "[encoded data removed]",
      "text/plain": [
       "<Figure size 432x288 with 1 Axes>"
      ]
     },
     "metadata": {
      "needs_background": "light"
     },
     "output_type": "display_data"
    },
    {
     "data": {
      "image/png": "[encoded data removed]",
      "text/plain": [
       "<Figure size 432x288 with 1 Axes>"
      ]
     },
     "metadata": {
      "needs_background": "light"
     },
     "output_type": "display_data"
    },
    {
     "data": {
      "image/png": "[encoded data removed]",
      "text/plain": [
       "<Figure size 432x288 with 1 Axes>"
      ]
     },
     "metadata": {
      "needs_background": "light"
     },
     "output_type": "display_data"
    },
    {
     "data": {
      "image/png": "[encoded data removed]",
      "text/plain": [
       "<Figure size 432x288 with 1 Axes>"
      ]
     },
     "metadata": {
      "needs_background": "light"
     },
     "output_type": "display_data"
    }
   ],
   "source": [
    "#printing images training set\n",
    "#first 5\n",
    "for i in range(5):\n",
    "    #getting index of data train converting to image \n",
    "    plt.imshow(data_train[i], cmap= plt.get_cmap('gray'))\n",
    "    plt.show()"
   ]
  },
  {
   "cell_type": "markdown",
   "id": "8350564c",
   "metadata": {},
   "source": [
    "The first 5 labels and the images are identical."
   ]
  },
  {
   "cell_type": "markdown",
   "id": "fd14ef9f",
   "metadata": {},
   "source": [
    "# 3. Build and train a Keras CNN classifier on the MNIST training set."
   ]
  },
  {
   "cell_type": "code",
   "execution_count": 5,
   "id": "299669df",
   "metadata": {},
   "outputs": [],
   "source": [
    "#defing parameters used in multiple steps\n",
    "channels = 1\n",
    "height = 28\n",
    "width = 28"
   ]
  },
  {
   "cell_type": "code",
   "execution_count": 6,
   "id": "e9a996e1",
   "metadata": {},
   "outputs": [],
   "source": [
    "#reshaping\n",
    "data_train = data_train.reshape(data_train.shape[0],height, width,channels)\n",
    "data_test = data_test.reshape(data_test.shape[0],height, width,channels)\n",
    "\n"
   ]
  },
  {
   "cell_type": "code",
   "execution_count": 7,
   "id": "e221fd7d",
   "metadata": {},
   "outputs": [],
   "source": [
    "#rescaling pixels intensity between 0 and 1\n",
    "features_train = data_train / 255\n",
    "features_test = data_test / 255"
   ]
  },
  {
   "cell_type": "code",
   "execution_count": 8,
   "id": "3349fc21",
   "metadata": {},
   "outputs": [],
   "source": [
    "#one hot Encoding targets\n",
    "target_train = np_utils.to_categorical(target_train)\n",
    "target_test = np_utils.to_categorical(target_test)\n",
    "\n",
    "number_of_classes = target_test.shape[1]"
   ]
  },
  {
   "cell_type": "code",
   "execution_count": 9,
   "id": "90fe718a",
   "metadata": {},
   "outputs": [],
   "source": [
    "#instantiating neural network\n",
    "model = Sequential()"
   ]
  },
  {
   "cell_type": "code",
   "execution_count": 10,
   "id": "b92bcffb",
   "metadata": {},
   "outputs": [],
   "source": [
    "#adding convolutional layer with 28 filters, 3X3 window, and relu as activation function\n",
    "model.add(Conv2D(filters=28,\n",
    "                kernel_size=(3,3),\n",
    "                input_shape=(width,height,channels),\n",
    "                activation='relu'))"
   ]
  },
  {
   "cell_type": "code",
   "execution_count": 11,
   "id": "0e0e28b8",
   "metadata": {},
   "outputs": [],
   "source": [
    "#add max pooling layer with a 2X2 window\n",
    "model.add(MaxPooling2D(pool_size=(2,2)))\n"
   ]
  },
  {
   "cell_type": "code",
   "execution_count": 12,
   "id": "3de07445",
   "metadata": {},
   "outputs": [],
   "source": [
    "#Add drop out layer\n",
    "model.add(Dropout(0.5))"
   ]
  },
  {
   "cell_type": "code",
   "execution_count": 13,
   "id": "62ded948",
   "metadata": {},
   "outputs": [],
   "source": [
    "#Add layer to flatten input\n",
    "model.add(Flatten())"
   ]
  },
  {
   "cell_type": "code",
   "execution_count": 14,
   "id": "eeb810c7",
   "metadata": {},
   "outputs": [],
   "source": [
    "#Add connected layer of 128 units with relu activiation funciton\n",
    "model.add(Dense(128, activation='relu'))"
   ]
  },
  {
   "cell_type": "code",
   "execution_count": 15,
   "id": "402bbfea",
   "metadata": {},
   "outputs": [],
   "source": [
    "#Add drop out layer\n",
    "model.add(Dropout(0.5))"
   ]
  },
  {
   "cell_type": "code",
   "execution_count": 16,
   "id": "e093195f",
   "metadata": {},
   "outputs": [],
   "source": [
    "#Add connected layer of with a software activation function\n",
    "model.add(Dense(number_of_classes,activation='softmax'))"
   ]
  },
  {
   "cell_type": "code",
   "execution_count": 17,
   "id": "7fd8d562",
   "metadata": {},
   "outputs": [],
   "source": [
    "#compile neural network \n",
    "model.compile(loss='categorical_crossentropy',\n",
    "             optimizer='rmsprop',\n",
    "             metrics=['accuracy'])"
   ]
  },
  {
   "cell_type": "code",
   "execution_count": 18,
   "id": "30683962",
   "metadata": {},
   "outputs": [
    {
     "name": "stdout",
     "output_type": "stream",
     "text": [
      "Epoch 1/2\n",
      "1875/1875 [==============================] - 21s 11ms/step - loss: 0.2877 - accuracy: 0.9127\n",
      "Epoch 2/2\n",
      "1875/1875 [==============================] - 21s 11ms/step - loss: 0.1487 - accuracy: 0.9560\n"
     ]
    },
    {
     "data": {
      "text/plain": [
       "<keras.callbacks.History at 0x1ecbbd54eb0>"
      ]
     },
     "execution_count": 18,
     "metadata": {},
     "output_type": "execute_result"
    }
   ],
   "source": [
    "#train neural network \n",
    "model.fit(features_train,target_train,epochs=2)"
   ]
  },
  {
   "cell_type": "code",
   "execution_count": 19,
   "id": "ec14feda",
   "metadata": {},
   "outputs": [
    {
     "name": "stdout",
     "output_type": "stream",
     "text": [
      "313/313 [==============================] - 1s 3ms/step - loss: 0.0693 - accuracy: 0.9791\n"
     ]
    }
   ],
   "source": [
    "#Evaluate model\n",
    "results = model.evaluate(features_test,target_test)"
   ]
  },
  {
   "cell_type": "code",
   "execution_count": 20,
   "id": "71fa1599",
   "metadata": {},
   "outputs": [
    {
     "data": {
      "text/plain": [
       "[0.06925839185714722, 0.9790999889373779]"
      ]
     },
     "execution_count": 20,
     "metadata": {},
     "output_type": "execute_result"
    }
   ],
   "source": [
    "results"
   ]
  },
  {
   "cell_type": "markdown",
   "id": "d6b3f78c",
   "metadata": {},
   "source": [
    "# 4.Report the test accuracy of your model."
   ]
  },
  {
   "cell_type": "code",
   "execution_count": 21,
   "id": "07c7d471",
   "metadata": {},
   "outputs": [
    {
     "name": "stdout",
     "output_type": "stream",
     "text": [
      "Accuracy: 0.9790999889373779\n"
     ]
    }
   ],
   "source": [
    "#Get model accuracy\n",
    "print(\"Accuracy: \" +str(results[1]))"
   ]
  },
  {
   "cell_type": "code",
   "execution_count": 22,
   "id": "10a77818",
   "metadata": {},
   "outputs": [
    {
     "name": "stdout",
     "output_type": "stream",
     "text": [
      "313/313 [==============================] - 1s 3ms/step\n"
     ]
    }
   ],
   "source": [
    "predicted = model.predict(features_test)"
   ]
  },
  {
   "cell_type": "markdown",
   "id": "bd76f79e",
   "metadata": {},
   "source": [
    "# 5. Display a confusion matrix on the test set classifications."
   ]
  },
  {
   "cell_type": "code",
   "execution_count": 23,
   "id": "91b97b51",
   "metadata": {},
   "outputs": [],
   "source": [
    "#Change values to non one hot encoding \n",
    "results = confusion_matrix(target_test.argmax(axis=1),predicted.argmax(axis=1))\n",
    "#results"
   ]
  },
  {
   "cell_type": "code",
   "execution_count": 24,
   "id": "3e19464b",
   "metadata": {
    "scrolled": true
   },
   "outputs": [
    {
     "data": {
      "text/plain": [
       "<AxesSubplot:>"
      ]
     },
     "execution_count": 24,
     "metadata": {},
     "output_type": "execute_result"
    },
    {
     "data": {
      "image/png": "[encoded data removed]",
      "text/plain": [
       "<Figure size 432x288 with 2 Axes>"
      ]
     },
     "metadata": {
      "needs_background": "light"
     },
     "output_type": "display_data"
    }
   ],
   "source": [
    "#Outputting confusion matrix heatmap \n",
    "sns.heatmap(results, annot=True)"
   ]
  },
  {
   "cell_type": "markdown",
   "id": "6b561ace",
   "metadata": {},
   "source": [
    "# 6. Summarize your results."
   ]
  },
  {
   "cell_type": "markdown",
   "id": "0363d315",
   "metadata": {},
   "source": [
    "The accuracy of the model is 97 percent. Meaning the accuracy of this model is high. The confusion matrix seems to show this as well. Most of the labels were able to accurately predict the numbers and the instances of those numbers. For example, when there was a 9, it was able to predict that it was a 9. Although most of the numbers fell into this category, there was some interesting information that came out of it. It seems like the model confused some instances. For example, 7 at times was confused with 9. Depending on how the image looks, this could easily be mistaken. The truth can be said about other numbers in the confusion matrix. But overall, the model performed well and was 97 percent accurate in its prediction."
   ]
  }
 ],
 "metadata": {
  "kernelspec": {
   "display_name": "Python 3",
   "language": "python",
   "name": "python3"
  },
  "language_info": {
   "codemirror_mode": {
    "name": "ipython",
    "version": 3
   },
   "file_extension": ".py",
   "mimetype": "text/x-python",
   "name": "python",
   "nbconvert_exporter": "python",
   "pygments_lexer": "ipython3",
   "version": "3.8.8"
  }
 },
 "nbformat": 4,
 "nbformat_minor": 5
}
