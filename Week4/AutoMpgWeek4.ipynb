{
 "cells": [
  {
   "cell_type": "markdown",
   "id": "380cb79f",
   "metadata": {},
   "source": [
    "# Felipe Castillo\n",
    "# Bag of Words Meets Bags of Popcorn Assignment\n",
    "# Data Mining\n",
    "# 04/06/2022"
   ]
  },
  {
   "cell_type": "code",
   "execution_count": 328,
   "id": "4b7f62a5",
   "metadata": {},
   "outputs": [],
   "source": [
    "import pandas as pd\n",
    "import os\n",
    "import numpy as np\n",
    "import seaborn as sn\n",
    "import matplotlib.pyplot as plt\n",
    "from sklearn.linear_model import LinearRegression, Ridge\n",
    "from sklearn.model_selection import train_test_split\n",
    "from sklearn.metrics import mean_squared_error\n",
    "import random\n",
    "from sklearn.metrics import r2_score\n",
    "from math import sqrt\n",
    "\n",
    "from sklearn.metrics import mean_squared_error\n",
    "#Change path to week one folder for DSC-550\n",
    "#Current directory in documents\n",
    "os.chdir('C:\\DataScience_DSC_550\\Week4')\n"
   ]
  },
  {
   "cell_type": "markdown",
   "id": "ed5fb2ce",
   "metadata": {},
   "source": [
    "# 1.Load the data as a Pandas data frame and ensure that it imported correctly."
   ]
  },
  {
   "cell_type": "code",
   "execution_count": 52,
   "id": "3762c5cd",
   "metadata": {},
   "outputs": [],
   "source": [
    "auto_mpg_df = pd.read_csv(\"auto-mpg.csv\")"
   ]
  },
  {
   "cell_type": "code",
   "execution_count": 114,
   "id": "ae56c48e",
   "metadata": {},
   "outputs": [
    {
     "data": {
      "text/html": [
       "<div>\n",
       "<style scoped>\n",
       "    .dataframe tbody tr th:only-of-type {\n",
       "        vertical-align: middle;\n",
       "    }\n",
       "\n",
       "    .dataframe tbody tr th {\n",
       "        vertical-align: top;\n",
       "    }\n",
       "\n",
       "    .dataframe thead th {\n",
       "        text-align: right;\n",
       "    }\n",
       "</style>\n",
       "<table border=\"1\" class=\"dataframe\">\n",
       "  <thead>\n",
       "    <tr style=\"text-align: right;\">\n",
       "      <th></th>\n",
       "      <th>mpg</th>\n",
       "      <th>cylinders</th>\n",
       "      <th>displacement</th>\n",
       "      <th>horsepower</th>\n",
       "      <th>weight</th>\n",
       "      <th>acceleration</th>\n",
       "      <th>model year</th>\n",
       "      <th>origin</th>\n",
       "      <th>car name</th>\n",
       "    </tr>\n",
       "  </thead>\n",
       "  <tbody>\n",
       "    <tr>\n",
       "      <th>0</th>\n",
       "      <td>18.0</td>\n",
       "      <td>8</td>\n",
       "      <td>307.0</td>\n",
       "      <td>130</td>\n",
       "      <td>3504</td>\n",
       "      <td>12.0</td>\n",
       "      <td>70</td>\n",
       "      <td>1</td>\n",
       "      <td>chevrolet chevelle malibu</td>\n",
       "    </tr>\n",
       "    <tr>\n",
       "      <th>1</th>\n",
       "      <td>15.0</td>\n",
       "      <td>8</td>\n",
       "      <td>350.0</td>\n",
       "      <td>165</td>\n",
       "      <td>3693</td>\n",
       "      <td>11.5</td>\n",
       "      <td>70</td>\n",
       "      <td>1</td>\n",
       "      <td>buick skylark 320</td>\n",
       "    </tr>\n",
       "  </tbody>\n",
       "</table>\n",
       "</div>"
      ],
      "text/plain": [
       "    mpg  cylinders  displacement horsepower  weight  acceleration  model year  \\\n",
       "0  18.0          8         307.0        130    3504          12.0          70   \n",
       "1  15.0          8         350.0        165    3693          11.5          70   \n",
       "\n",
       "   origin                   car name  \n",
       "0       1  chevrolet chevelle malibu  \n",
       "1       1          buick skylark 320  "
      ]
     },
     "execution_count": 114,
     "metadata": {},
     "output_type": "execute_result"
    }
   ],
   "source": [
    "auto_mpg_df.head(2)"
   ]
  },
  {
   "cell_type": "markdown",
   "id": "aecb6811",
   "metadata": {},
   "source": [
    "# 2.Begin by prepping the data for modeling"
   ]
  },
  {
   "cell_type": "markdown",
   "id": "270d2cf3",
   "metadata": {},
   "source": [
    "Notes:\n",
    "\n",
    " 1.Remove the car name column.\n",
    " \n",
    " 2.The horsepower column values likely imported as a   string data type. Figure out why and replace any strings with the column mean.\n",
    " \n",
    " 3.Create dummy variables for the origin column."
   ]
  },
  {
   "cell_type": "code",
   "execution_count": 57,
   "id": "21e12690",
   "metadata": {},
   "outputs": [],
   "source": [
    "#Remove car name column\n",
    "auto_df = auto_mpg_df.copy()\n",
    "auto_df = auto_df.drop('car name', axis=1)"
   ]
  },
  {
   "cell_type": "code",
   "execution_count": 58,
   "id": "f1d87e07",
   "metadata": {},
   "outputs": [
    {
     "data": {
      "text/html": [
       "<div>\n",
       "<style scoped>\n",
       "    .dataframe tbody tr th:only-of-type {\n",
       "        vertical-align: middle;\n",
       "    }\n",
       "\n",
       "    .dataframe tbody tr th {\n",
       "        vertical-align: top;\n",
       "    }\n",
       "\n",
       "    .dataframe thead th {\n",
       "        text-align: right;\n",
       "    }\n",
       "</style>\n",
       "<table border=\"1\" class=\"dataframe\">\n",
       "  <thead>\n",
       "    <tr style=\"text-align: right;\">\n",
       "      <th></th>\n",
       "      <th>mpg</th>\n",
       "      <th>cylinders</th>\n",
       "      <th>displacement</th>\n",
       "      <th>horsepower</th>\n",
       "      <th>weight</th>\n",
       "      <th>acceleration</th>\n",
       "      <th>model year</th>\n",
       "      <th>origin</th>\n",
       "    </tr>\n",
       "  </thead>\n",
       "  <tbody>\n",
       "    <tr>\n",
       "      <th>0</th>\n",
       "      <td>18.0</td>\n",
       "      <td>8</td>\n",
       "      <td>307.0</td>\n",
       "      <td>130</td>\n",
       "      <td>3504</td>\n",
       "      <td>12.0</td>\n",
       "      <td>70</td>\n",
       "      <td>1</td>\n",
       "    </tr>\n",
       "    <tr>\n",
       "      <th>1</th>\n",
       "      <td>15.0</td>\n",
       "      <td>8</td>\n",
       "      <td>350.0</td>\n",
       "      <td>165</td>\n",
       "      <td>3693</td>\n",
       "      <td>11.5</td>\n",
       "      <td>70</td>\n",
       "      <td>1</td>\n",
       "    </tr>\n",
       "  </tbody>\n",
       "</table>\n",
       "</div>"
      ],
      "text/plain": [
       "    mpg  cylinders  displacement horsepower  weight  acceleration  model year  \\\n",
       "0  18.0          8         307.0        130    3504          12.0          70   \n",
       "1  15.0          8         350.0        165    3693          11.5          70   \n",
       "\n",
       "   origin  \n",
       "0       1  \n",
       "1       1  "
      ]
     },
     "execution_count": 58,
     "metadata": {},
     "output_type": "execute_result"
    }
   ],
   "source": [
    "auto_df.head(2)"
   ]
  },
  {
   "cell_type": "code",
   "execution_count": 59,
   "id": "a55534dc",
   "metadata": {},
   "outputs": [
    {
     "name": "stdout",
     "output_type": "stream",
     "text": [
      "<class 'pandas.core.frame.DataFrame'>\n",
      "RangeIndex: 398 entries, 0 to 397\n",
      "Data columns (total 8 columns):\n",
      " #   Column        Non-Null Count  Dtype  \n",
      "---  ------        --------------  -----  \n",
      " 0   mpg           398 non-null    float64\n",
      " 1   cylinders     398 non-null    int64  \n",
      " 2   displacement  398 non-null    float64\n",
      " 3   horsepower    398 non-null    object \n",
      " 4   weight        398 non-null    int64  \n",
      " 5   acceleration  398 non-null    float64\n",
      " 6   model year    398 non-null    int64  \n",
      " 7   origin        398 non-null    int64  \n",
      "dtypes: float64(3), int64(4), object(1)\n",
      "memory usage: 25.0+ KB\n"
     ]
    }
   ],
   "source": [
    "#Horse power is of type of object\n",
    "#Means that there is a possiblity of more then numerical values\n",
    "auto_df.info()"
   ]
  },
  {
   "cell_type": "code",
   "execution_count": 25,
   "id": "bc736dfa",
   "metadata": {},
   "outputs": [
    {
     "data": {
      "text/plain": [
       "dtype('O')"
      ]
     },
     "execution_count": 25,
     "metadata": {},
     "output_type": "execute_result"
    }
   ],
   "source": [
    "#Confirmed column data type\n",
    "auto_df.horsepower.dtype"
   ]
  },
  {
   "cell_type": "code",
   "execution_count": 111,
   "id": "65fea0c9",
   "metadata": {},
   "outputs": [],
   "source": [
    "#The data set contains '?' that could disrupt the conversion between object and float\n",
    "#Needs to be removed and replaced with the hourse power mean\n",
    "#Replacing column values with type float, if ? mean replaces it.\n",
    "#All values converted to type float\n",
    "auto_df['horsepower'] = auto_df['horsepower'].astype(\"float\").replace('?' , auto_df['horsepower'].astype(\"float\").mean(), regex = True)\n",
    "\n",
    "\n"
   ]
  },
  {
   "cell_type": "code",
   "execution_count": 108,
   "id": "e7576018",
   "metadata": {},
   "outputs": [
    {
     "data": {
      "text/plain": [
       "dtype('float64')"
      ]
     },
     "execution_count": 108,
     "metadata": {},
     "output_type": "execute_result"
    }
   ],
   "source": [
    "#Type Float\n",
    "auto_df.horsepower.dtype"
   ]
  },
  {
   "cell_type": "markdown",
   "id": "246853fb",
   "metadata": {},
   "source": [
    "Figure out why and replace any strings with the column mean.\n",
    "\n",
    "\n",
    "The reason why this column is of type object is due to it being able to come in as different values and data type. In this column the ‘?’ mark is none numeric therefore it can’t come in as an integer. It needs to be handled if this column is to be processed. Without this process it will throw an exception There are a lot of reason in the real world this could happened. Perhaps the individual accidently types a non-numeric value, or perhaps this is the way the company want to handle this type of nonnumeric value. Either way the column is of type object due to there being a string a non-numeric value.\n",
    "\n",
    "\n",
    "\n",
    "\n"
   ]
  },
  {
   "cell_type": "code",
   "execution_count": 138,
   "id": "118a1fbe",
   "metadata": {},
   "outputs": [],
   "source": [
    "#Create dummy variables for the origin column.\n",
    "auto_df['origin'] = auto_df['origin'].astype(str).replace(r'[0-9]' , '@', regex = True)"
   ]
  },
  {
   "cell_type": "code",
   "execution_count": 141,
   "id": "38523f17",
   "metadata": {},
   "outputs": [
    {
     "data": {
      "text/html": [
       "<div>\n",
       "<style scoped>\n",
       "    .dataframe tbody tr th:only-of-type {\n",
       "        vertical-align: middle;\n",
       "    }\n",
       "\n",
       "    .dataframe tbody tr th {\n",
       "        vertical-align: top;\n",
       "    }\n",
       "\n",
       "    .dataframe thead th {\n",
       "        text-align: right;\n",
       "    }\n",
       "</style>\n",
       "<table border=\"1\" class=\"dataframe\">\n",
       "  <thead>\n",
       "    <tr style=\"text-align: right;\">\n",
       "      <th></th>\n",
       "      <th>mpg</th>\n",
       "      <th>cylinders</th>\n",
       "      <th>displacement</th>\n",
       "      <th>horsepower</th>\n",
       "      <th>weight</th>\n",
       "      <th>acceleration</th>\n",
       "      <th>model year</th>\n",
       "      <th>origin</th>\n",
       "    </tr>\n",
       "  </thead>\n",
       "  <tbody>\n",
       "    <tr>\n",
       "      <th>0</th>\n",
       "      <td>18.0</td>\n",
       "      <td>8</td>\n",
       "      <td>307.0</td>\n",
       "      <td>130.0</td>\n",
       "      <td>3504</td>\n",
       "      <td>12.0</td>\n",
       "      <td>70</td>\n",
       "      <td>@</td>\n",
       "    </tr>\n",
       "    <tr>\n",
       "      <th>1</th>\n",
       "      <td>15.0</td>\n",
       "      <td>8</td>\n",
       "      <td>350.0</td>\n",
       "      <td>165.0</td>\n",
       "      <td>3693</td>\n",
       "      <td>11.5</td>\n",
       "      <td>70</td>\n",
       "      <td>@</td>\n",
       "    </tr>\n",
       "  </tbody>\n",
       "</table>\n",
       "</div>"
      ],
      "text/plain": [
       "    mpg  cylinders  displacement  horsepower  weight  acceleration  \\\n",
       "0  18.0          8         307.0       130.0    3504          12.0   \n",
       "1  15.0          8         350.0       165.0    3693          11.5   \n",
       "\n",
       "   model year origin  \n",
       "0          70      @  \n",
       "1          70      @  "
      ]
     },
     "execution_count": 141,
     "metadata": {},
     "output_type": "execute_result"
    }
   ],
   "source": [
    "auto_df.head(2)"
   ]
  },
  {
   "cell_type": "markdown",
   "id": "b073c91c",
   "metadata": {},
   "source": [
    "# 3.Create a correlation coefficient matrix and/or visualization."
   ]
  },
  {
   "cell_type": "code",
   "execution_count": 143,
   "id": "f44f544f",
   "metadata": {},
   "outputs": [
    {
     "name": "stdout",
     "output_type": "stream",
     "text": [
      "                   mpg  cylinders  displacement  horsepower    weight  \\\n",
      "mpg           1.000000  -0.775396     -0.804203   -0.771543 -0.831741   \n",
      "cylinders    -0.775396   1.000000      0.950721    0.839061  0.896017   \n",
      "displacement -0.804203   0.950721      1.000000    0.893760  0.932824   \n",
      "horsepower   -0.771543   0.839061      0.893760    1.000000  0.860676   \n",
      "weight       -0.831741   0.896017      0.932824    0.860676  1.000000   \n",
      "acceleration  0.420289  -0.505419     -0.543684   -0.684376 -0.417457   \n",
      "model year    0.579267  -0.348746     -0.370164   -0.411750 -0.306564   \n",
      "\n",
      "              acceleration  model year  \n",
      "mpg               0.420289    0.579267  \n",
      "cylinders        -0.505419   -0.348746  \n",
      "displacement     -0.543684   -0.370164  \n",
      "horsepower       -0.684376   -0.411750  \n",
      "weight           -0.417457   -0.306564  \n",
      "acceleration      1.000000    0.288137  \n",
      "model year        0.288137    1.000000  \n"
     ]
    }
   ],
   "source": [
    "corrMatrix = auto_df.corr()\n",
    "print(corrMatrix)"
   ]
  },
  {
   "cell_type": "code",
   "execution_count": 148,
   "id": "f7c3bc5c",
   "metadata": {},
   "outputs": [
    {
     "data": {
      "image/png": "[encoded data removed]",
      "text/plain": [
       "<Figure size 432x288 with 2 Axes>"
      ]
     },
     "metadata": {
      "needs_background": "light"
     },
     "output_type": "display_data"
    }
   ],
   "source": [
    "sn.heatmap(corrMatrix, annot= True)\n",
    "plt.show()"
   ]
  },
  {
   "cell_type": "markdown",
   "id": "a9eccd56",
   "metadata": {},
   "source": [
    "Are there features highly correlated with mpg?\n",
    "\n",
    "There are two features that are correlated with mpg. The first feature is acceleration with a .42 and model year with a .58.  And mpg obviously correlates with itself.  However, if we are assuming that .95 and above is “highly correlated”, then there are no features that meet those standards. Overall, all other features were negativity correlated.\n",
    "https://www.projectpro.io/recipes/drop-out-highly-correlated-features-in-python\n",
    "\n"
   ]
  },
  {
   "cell_type": "markdown",
   "id": "a68f0f51",
   "metadata": {},
   "source": [
    "# 4.Plot mpg versus weight."
   ]
  },
  {
   "cell_type": "code",
   "execution_count": 157,
   "id": "59a4a618",
   "metadata": {},
   "outputs": [
    {
     "data": {
      "text/plain": [
       "Text(0, 0.5, 'weight')"
      ]
     },
     "execution_count": 157,
     "metadata": {},
     "output_type": "execute_result"
    },
    {
     "data": {
      "image/png": "[encoded data removed]",
      "text/plain": [
       "<Figure size 432x288 with 1 Axes>"
      ]
     },
     "metadata": {
      "needs_background": "light"
     },
     "output_type": "display_data"
    }
   ],
   "source": [
    "#plotting scatter\n",
    "plt.plot(auto_df['mpg'], auto_df['weight'], 'o')\n",
    "\n",
    "#Getting slope m and intercept b of linear regression \n",
    "m, b = np.polyfit(auto_df['mpg'], auto_df['weight'], 1)\n",
    "\n",
    "#ploting line\n",
    "plt.plot(auto_df['mpg'], m*auto_df['mpg']+b)\n",
    "\n",
    "#Plot title\n",
    "plt.title(\"Mpg vs Weight\")\n",
    "#Plot x axis\n",
    "plt.xlabel(\"mpg\")\n",
    "#plot y axis\n",
    "plt.ylabel(\"weight\")"
   ]
  },
  {
   "cell_type": "markdown",
   "id": "3afd69a5",
   "metadata": {},
   "source": [
    "Analyze this graph and explain how it relates to the corresponding correlation coefficient.\n",
    "\n",
    "Overall, the regression line is showing the mpg vs weight have negative correlation with one another. This reflects with correlation matrix which indicated that mpg correlation with weight was at a -.83. The graphs output and the correlation matrix go hand in hand with one another. The correlation coefficient seems to directly related to the graph. Both show a  negative correlation.\n"
   ]
  },
  {
   "cell_type": "markdown",
   "id": "7a3130b9",
   "metadata": {},
   "source": [
    "# 5.Randomly split the data into 80% training data and 20% test data, where your target is mpg."
   ]
  },
  {
   "cell_type": "markdown",
   "id": "a5a1a121",
   "metadata": {},
   "source": [
    "# 6.Train an ordinary linear regression on the training data."
   ]
  },
  {
   "cell_type": "code",
   "execution_count": 303,
   "id": "e9abed3f",
   "metadata": {},
   "outputs": [],
   "source": [
    "#Making a function to return r2 \n",
    "def RsquaredConversion(target_test, target_predicated):\n",
    "    #Invokes r2 score function \n",
    "    r_squared = r2_score(target_test,target_predicated)\n",
    "    #Returns value\n",
    "    return r_squared"
   ]
  },
  {
   "cell_type": "code",
   "execution_count": 304,
   "id": "d04d8807",
   "metadata": {},
   "outputs": [
    {
     "data": {
      "text/html": [
       "<div>\n",
       "<style scoped>\n",
       "    .dataframe tbody tr th:only-of-type {\n",
       "        vertical-align: middle;\n",
       "    }\n",
       "\n",
       "    .dataframe tbody tr th {\n",
       "        vertical-align: top;\n",
       "    }\n",
       "\n",
       "    .dataframe thead th {\n",
       "        text-align: right;\n",
       "    }\n",
       "</style>\n",
       "<table border=\"1\" class=\"dataframe\">\n",
       "  <thead>\n",
       "    <tr style=\"text-align: right;\">\n",
       "      <th></th>\n",
       "      <th>mpg</th>\n",
       "      <th>cylinders</th>\n",
       "      <th>displacement</th>\n",
       "      <th>horsepower</th>\n",
       "      <th>weight</th>\n",
       "      <th>acceleration</th>\n",
       "      <th>model year</th>\n",
       "      <th>origin</th>\n",
       "    </tr>\n",
       "  </thead>\n",
       "  <tbody>\n",
       "    <tr>\n",
       "      <th>0</th>\n",
       "      <td>18.0</td>\n",
       "      <td>8</td>\n",
       "      <td>307.0</td>\n",
       "      <td>130.0</td>\n",
       "      <td>3504</td>\n",
       "      <td>12.0</td>\n",
       "      <td>70</td>\n",
       "      <td>@</td>\n",
       "    </tr>\n",
       "  </tbody>\n",
       "</table>\n",
       "</div>"
      ],
      "text/plain": [
       "    mpg  cylinders  displacement  horsepower  weight  acceleration  \\\n",
       "0  18.0          8         307.0       130.0    3504          12.0   \n",
       "\n",
       "   model year origin  \n",
       "0          70      @  "
      ]
     },
     "execution_count": 304,
     "metadata": {},
     "output_type": "execute_result"
    }
   ],
   "source": [
    "auto_df.head(1)"
   ]
  },
  {
   "cell_type": "code",
   "execution_count": 349,
   "id": "8cee1a6b",
   "metadata": {},
   "outputs": [],
   "source": [
    "#Has all\n",
    "#Has all values upset origin and mpg. Mpg will be used as target, origin is in character from and doesn’t provided ay use for our model.\n",
    "features = auto_df[['weight','cylinders','displacement','horsepower','weight','acceleration','model year']]\n",
    "\n",
    "#dividing to mpg column\n",
    "target  = auto_df['mpg']"
   ]
  },
  {
   "cell_type": "code",
   "execution_count": 350,
   "id": "58e68bdf",
   "metadata": {},
   "outputs": [],
   "source": [
    "#Training the data \n",
    "#passed in all columns as features and passed mpg as target\n",
    "#set the test_size to .20\n",
    "features_train, features_test, target_train, target_test = train_test_split(features, target,  shuffle=True, test_size = 0.20)"
   ]
  },
  {
   "cell_type": "code",
   "execution_count": 351,
   "id": "61ea2aa2",
   "metadata": {},
   "outputs": [],
   "source": [
    "#Instantiating linear regression class\n",
    "regression = LinearRegression()"
   ]
  },
  {
   "cell_type": "code",
   "execution_count": 352,
   "id": "631e7883",
   "metadata": {},
   "outputs": [],
   "source": [
    "#Making model and passing both train feilds\n",
    "model = regression.fit(features_train, target_train)"
   ]
  },
  {
   "cell_type": "markdown",
   "id": "5cced9d4",
   "metadata": {},
   "source": [
    "# 7.Calculate R2, RMSE, and MAE on both the training and test sets "
   ]
  },
  {
   "cell_type": "markdown",
   "id": "7c1a0a2e",
   "metadata": {},
   "source": [
    "# Testing set"
   ]
  },
  {
   "cell_type": "code",
   "execution_count": 353,
   "id": "205510b1",
   "metadata": {},
   "outputs": [],
   "source": [
    "#Making target predict , which is reference in page 201\n",
    "#Will pass it into r2 conversion\n",
    "target_predicted = model.predict(features_test)"
   ]
  },
  {
   "cell_type": "code",
   "execution_count": 354,
   "id": "99885d8f",
   "metadata": {},
   "outputs": [
    {
     "name": "stdout",
     "output_type": "stream",
     "text": [
      "0.8178358446350302\n"
     ]
    }
   ],
   "source": [
    "#Got R2 score\n",
    "r2 = RsquaredConversion(target_test,target_predicted)\n",
    "print(r2)"
   ]
  },
  {
   "cell_type": "code",
   "execution_count": 355,
   "id": "e968f67d",
   "metadata": {},
   "outputs": [
    {
     "name": "stdout",
     "output_type": "stream",
     "text": [
      "10.739612732767114\n"
     ]
    }
   ],
   "source": [
    "mse = mean_squared_error(target_test, target_predicted)\n",
    "print(mse)"
   ]
  },
  {
   "cell_type": "code",
   "execution_count": 356,
   "id": "277fa180",
   "metadata": {},
   "outputs": [
    {
     "name": "stdout",
     "output_type": "stream",
     "text": [
      "3.2771348359149206\n"
     ]
    }
   ],
   "source": [
    "rmse = np.sqrt(mse)\n",
    "print(rmse)"
   ]
  },
  {
   "cell_type": "markdown",
   "id": "751d08fa",
   "metadata": {},
   "source": [
    "# Training sets"
   ]
  },
  {
   "cell_type": "code",
   "execution_count": 357,
   "id": "d82d6b3d",
   "metadata": {},
   "outputs": [],
   "source": [
    "tr_target_predicted = model.predict(features_train)"
   ]
  },
  {
   "cell_type": "code",
   "execution_count": 358,
   "id": "889681f8",
   "metadata": {},
   "outputs": [
    {
     "name": "stdout",
     "output_type": "stream",
     "text": [
      "0.8039649711484399\n"
     ]
    }
   ],
   "source": [
    "#Got R2 score\n",
    "r2 = RsquaredConversion(target_train,tr_target_predicted)\n",
    "print(r2)"
   ]
  },
  {
   "cell_type": "code",
   "execution_count": 359,
   "id": "2b06405e",
   "metadata": {
    "scrolled": true
   },
   "outputs": [
    {
     "name": "stdout",
     "output_type": "stream",
     "text": [
      "12.014038903892601\n"
     ]
    }
   ],
   "source": [
    "mse = mean_squared_error(target_train, tr_target_predicted)\n",
    "print(mse)"
   ]
  },
  {
   "cell_type": "code",
   "execution_count": 360,
   "id": "fc7ac201",
   "metadata": {},
   "outputs": [
    {
     "name": "stdout",
     "output_type": "stream",
     "text": [
      "3.466127364061021\n"
     ]
    }
   ],
   "source": [
    "rmse = np.sqrt(mse)\n",
    "print(rmse)"
   ]
  },
  {
   "cell_type": "markdown",
   "id": "f747218e",
   "metadata": {},
   "source": [
    "# 8.Pick another regression model and repeat the previous two steps. "
   ]
  },
  {
   "cell_type": "markdown",
   "id": "bb618924",
   "metadata": {},
   "source": [
    "Note: Do NOT choose logistic regression as it is more like a classification model."
   ]
  },
  {
   "cell_type": "code",
   "execution_count": 361,
   "id": "eb29f0ef",
   "metadata": {},
   "outputs": [],
   "source": [
    "#Ridge regression\n",
    "ridge =  Ridge()"
   ]
  },
  {
   "cell_type": "code",
   "execution_count": 362,
   "id": "af023a87",
   "metadata": {},
   "outputs": [],
   "source": [
    "#predicted_y = model.predict(x_test)\n",
    "model = ridge.fit(features_train, target_train)"
   ]
  },
  {
   "cell_type": "code",
   "execution_count": 367,
   "id": "7b30f787",
   "metadata": {},
   "outputs": [],
   "source": [
    "ridge_target_predict = model.predict(features_test)"
   ]
  },
  {
   "cell_type": "markdown",
   "id": "437a7758",
   "metadata": {},
   "source": [
    "# Testing set"
   ]
  },
  {
   "cell_type": "code",
   "execution_count": 369,
   "id": "203ae2e5",
   "metadata": {
    "scrolled": true
   },
   "outputs": [
    {
     "data": {
      "text/plain": [
       "0.8178542912750512"
      ]
     },
     "execution_count": 369,
     "metadata": {},
     "output_type": "execute_result"
    }
   ],
   "source": [
    "#Got R2 score\n",
    "#r2 = RsquaredConversion(features_train,ridge_target_predict)\n",
    "#print(r2)\n",
    "r2_score(target_test,ridge_target_predict)"
   ]
  },
  {
   "cell_type": "code",
   "execution_count": 370,
   "id": "73a2487f",
   "metadata": {},
   "outputs": [
    {
     "name": "stdout",
     "output_type": "stream",
     "text": [
      "10.738525198451438\n"
     ]
    }
   ],
   "source": [
    "mse = mean_squared_error(target_test, ridge_target_predict)\n",
    "print(mse)"
   ]
  },
  {
   "cell_type": "code",
   "execution_count": 371,
   "id": "873f140d",
   "metadata": {},
   "outputs": [
    {
     "name": "stdout",
     "output_type": "stream",
     "text": [
      "3.276968904101996\n"
     ]
    }
   ],
   "source": [
    "rmse = np.sqrt(mse)\n",
    "print(rmse)"
   ]
  },
  {
   "cell_type": "markdown",
   "id": "a4015c62",
   "metadata": {},
   "source": [
    "# Training sets"
   ]
  },
  {
   "cell_type": "code",
   "execution_count": 372,
   "id": "d68aa3a9",
   "metadata": {},
   "outputs": [],
   "source": [
    "tr_ridge_target_predict = model.predict(features_train)"
   ]
  },
  {
   "cell_type": "code",
   "execution_count": 373,
   "id": "c1c8e1b1",
   "metadata": {},
   "outputs": [
    {
     "name": "stdout",
     "output_type": "stream",
     "text": [
      "0.8039649585721782\n"
     ]
    }
   ],
   "source": [
    "#Got R2 score\n",
    "r2 = RsquaredConversion(target_train,tr_ridge_target_predict)\n",
    "print(r2)"
   ]
  },
  {
   "cell_type": "code",
   "execution_count": 374,
   "id": "1ebd6c7a",
   "metadata": {},
   "outputs": [
    {
     "name": "stdout",
     "output_type": "stream",
     "text": [
      "12.014039674630865\n"
     ]
    }
   ],
   "source": [
    "mse = mean_squared_error(target_train, tr_ridge_target_predict)\n",
    "print(mse)"
   ]
  },
  {
   "cell_type": "code",
   "execution_count": 375,
   "id": "5787b226",
   "metadata": {},
   "outputs": [
    {
     "name": "stdout",
     "output_type": "stream",
     "text": [
      "3.466127475242488\n"
     ]
    }
   ],
   "source": [
    "rmse = np.sqrt(mse)\n",
    "print(rmse)"
   ]
  }
 ],
 "metadata": {
  "kernelspec": {
   "display_name": "Python 3",
   "language": "python",
   "name": "python3"
  },
  "language_info": {
   "codemirror_mode": {
    "name": "ipython",
    "version": 3
   },
   "file_extension": ".py",
   "mimetype": "text/x-python",
   "name": "python",
   "nbconvert_exporter": "python",
   "pygments_lexer": "ipython3",
   "version": "3.8.8"
  }
 },
 "nbformat": 4,
 "nbformat_minor": 5
}
