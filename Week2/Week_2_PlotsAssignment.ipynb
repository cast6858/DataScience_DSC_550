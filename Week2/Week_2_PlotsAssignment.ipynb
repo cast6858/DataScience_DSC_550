{
 "cells": [
  {
   "cell_type": "markdown",
   "id": "15d6ce89",
   "metadata": {},
   "source": [
    "# Felipe Castillo\n",
    "# Plotting Assignment\n",
    "# Data Mining\n",
    "# 03/26/2022"
   ]
  },
  {
   "cell_type": "code",
   "execution_count": 1,
   "id": "61c02748",
   "metadata": {},
   "outputs": [],
   "source": [
    "import pandas as pd \n",
    "import os \n",
    "import numpy as np\n",
    "import matplotlib.pyplot as plt\n",
    "\n",
    "#Change path to week one folder for DSC-550\n",
    "#Current directory in documents\n",
    "os.chdir('C:\\DataScience_DSC_550\\Week2')"
   ]
  },
  {
   "cell_type": "code",
   "execution_count": 2,
   "id": "813ada9e",
   "metadata": {},
   "outputs": [],
   "source": [
    "%config IPCompleter.greedy=True"
   ]
  },
  {
   "cell_type": "markdown",
   "id": "6a3219bf",
   "metadata": {},
   "source": [
    "# Field Descriptoin\n",
    "Player - Player Name\n",
    "\n",
    "Pos - Position in which he played\n",
    "\n",
    "Age - Player age\n",
    "\n",
    "Tm - Player team\n",
    "\n",
    "G - Games\n",
    "\n",
    "GS - Games started\n",
    "\n",
    "MP - Minutes played per game\n",
    "\n",
    "FG - Field goals per game\n",
    "\n",
    "FGA - Field Goal Attempts per game"
   ]
  },
  {
   "cell_type": "markdown",
   "id": "fe2cffe1",
   "metadata": {},
   "source": [
    "1.Using a data set of your choice, write an introduction explaining the data set.\n",
    "\n",
    "I will say that I am not the biggest basketball fan. However this data is rich with backetball information. It hold player mvp stats. The data holds about 14000 records. It holds values based off of feild description."
   ]
  },
  {
   "cell_type": "markdown",
   "id": "bb35cff0",
   "metadata": {},
   "source": [
    "#2.Identify a question or question(s) that you would like to explore in your data set.\n",
    "\n",
    "1. What is the basket feild goals per game average?\n",
    "2. Team with the highest overall 3 points.\n",
    "3. Does age effect if a player will start, if so how much?\n",
    "4. At what age do players get the least starting time?\n",
    "\n"
   ]
  },
  {
   "cell_type": "code",
   "execution_count": 3,
   "id": "19a5dd6d",
   "metadata": {},
   "outputs": [],
   "source": [
    "basket_ball_df = pd.read_csv(\"player_mvp_stats.csv\")"
   ]
  },
  {
   "cell_type": "code",
   "execution_count": 4,
   "id": "395b1bc4",
   "metadata": {
    "scrolled": true
   },
   "outputs": [
    {
     "data": {
      "text/html": [
       "<div>\n",
       "<style scoped>\n",
       "    .dataframe tbody tr th:only-of-type {\n",
       "        vertical-align: middle;\n",
       "    }\n",
       "\n",
       "    .dataframe tbody tr th {\n",
       "        vertical-align: top;\n",
       "    }\n",
       "\n",
       "    .dataframe thead th {\n",
       "        text-align: right;\n",
       "    }\n",
       "</style>\n",
       "<table border=\"1\" class=\"dataframe\">\n",
       "  <thead>\n",
       "    <tr style=\"text-align: right;\">\n",
       "      <th></th>\n",
       "      <th>Unnamed: 0</th>\n",
       "      <th>Player</th>\n",
       "      <th>Pos</th>\n",
       "      <th>Age</th>\n",
       "      <th>Tm</th>\n",
       "      <th>G</th>\n",
       "      <th>GS</th>\n",
       "      <th>MP</th>\n",
       "      <th>FG</th>\n",
       "      <th>FGA</th>\n",
       "      <th>...</th>\n",
       "      <th>Pts Max</th>\n",
       "      <th>Share</th>\n",
       "      <th>Team</th>\n",
       "      <th>W</th>\n",
       "      <th>L</th>\n",
       "      <th>W/L%</th>\n",
       "      <th>GB</th>\n",
       "      <th>PS/G</th>\n",
       "      <th>PA/G</th>\n",
       "      <th>SRS</th>\n",
       "    </tr>\n",
       "  </thead>\n",
       "  <tbody>\n",
       "    <tr>\n",
       "      <th>0</th>\n",
       "      <td>0</td>\n",
       "      <td>A.C. Green</td>\n",
       "      <td>PF</td>\n",
       "      <td>27</td>\n",
       "      <td>LAL</td>\n",
       "      <td>82</td>\n",
       "      <td>21</td>\n",
       "      <td>26.4</td>\n",
       "      <td>3.1</td>\n",
       "      <td>6.6</td>\n",
       "      <td>...</td>\n",
       "      <td>0</td>\n",
       "      <td>0.0</td>\n",
       "      <td>Los Angeles Lakers</td>\n",
       "      <td>58</td>\n",
       "      <td>24</td>\n",
       "      <td>0.707</td>\n",
       "      <td>5.0</td>\n",
       "      <td>106.3</td>\n",
       "      <td>99.6</td>\n",
       "      <td>6.73</td>\n",
       "    </tr>\n",
       "    <tr>\n",
       "      <th>1</th>\n",
       "      <td>1</td>\n",
       "      <td>Byron Scott</td>\n",
       "      <td>SG</td>\n",
       "      <td>29</td>\n",
       "      <td>LAL</td>\n",
       "      <td>82</td>\n",
       "      <td>82</td>\n",
       "      <td>32.1</td>\n",
       "      <td>6.1</td>\n",
       "      <td>12.8</td>\n",
       "      <td>...</td>\n",
       "      <td>0</td>\n",
       "      <td>0.0</td>\n",
       "      <td>Los Angeles Lakers</td>\n",
       "      <td>58</td>\n",
       "      <td>24</td>\n",
       "      <td>0.707</td>\n",
       "      <td>5.0</td>\n",
       "      <td>106.3</td>\n",
       "      <td>99.6</td>\n",
       "      <td>6.73</td>\n",
       "    </tr>\n",
       "    <tr>\n",
       "      <th>2</th>\n",
       "      <td>2</td>\n",
       "      <td>Elden Campbell</td>\n",
       "      <td>PF</td>\n",
       "      <td>22</td>\n",
       "      <td>LAL</td>\n",
       "      <td>52</td>\n",
       "      <td>0</td>\n",
       "      <td>7.3</td>\n",
       "      <td>1.1</td>\n",
       "      <td>2.4</td>\n",
       "      <td>...</td>\n",
       "      <td>0</td>\n",
       "      <td>0.0</td>\n",
       "      <td>Los Angeles Lakers</td>\n",
       "      <td>58</td>\n",
       "      <td>24</td>\n",
       "      <td>0.707</td>\n",
       "      <td>5.0</td>\n",
       "      <td>106.3</td>\n",
       "      <td>99.6</td>\n",
       "      <td>6.73</td>\n",
       "    </tr>\n",
       "    <tr>\n",
       "      <th>3</th>\n",
       "      <td>3</td>\n",
       "      <td>Irving Thomas</td>\n",
       "      <td>PF</td>\n",
       "      <td>25</td>\n",
       "      <td>LAL</td>\n",
       "      <td>26</td>\n",
       "      <td>0</td>\n",
       "      <td>4.2</td>\n",
       "      <td>0.7</td>\n",
       "      <td>1.9</td>\n",
       "      <td>...</td>\n",
       "      <td>0</td>\n",
       "      <td>0.0</td>\n",
       "      <td>Los Angeles Lakers</td>\n",
       "      <td>58</td>\n",
       "      <td>24</td>\n",
       "      <td>0.707</td>\n",
       "      <td>5.0</td>\n",
       "      <td>106.3</td>\n",
       "      <td>99.6</td>\n",
       "      <td>6.73</td>\n",
       "    </tr>\n",
       "    <tr>\n",
       "      <th>4</th>\n",
       "      <td>4</td>\n",
       "      <td>James Worthy</td>\n",
       "      <td>SF</td>\n",
       "      <td>29</td>\n",
       "      <td>LAL</td>\n",
       "      <td>78</td>\n",
       "      <td>74</td>\n",
       "      <td>38.6</td>\n",
       "      <td>9.2</td>\n",
       "      <td>18.7</td>\n",
       "      <td>...</td>\n",
       "      <td>0</td>\n",
       "      <td>0.0</td>\n",
       "      <td>Los Angeles Lakers</td>\n",
       "      <td>58</td>\n",
       "      <td>24</td>\n",
       "      <td>0.707</td>\n",
       "      <td>5.0</td>\n",
       "      <td>106.3</td>\n",
       "      <td>99.6</td>\n",
       "      <td>6.73</td>\n",
       "    </tr>\n",
       "  </tbody>\n",
       "</table>\n",
       "<p>5 rows × 42 columns</p>\n",
       "</div>"
      ],
      "text/plain": [
       "   Unnamed: 0          Player Pos  Age   Tm   G  GS    MP   FG   FGA  ...  \\\n",
       "0           0      A.C. Green  PF   27  LAL  82  21  26.4  3.1   6.6  ...   \n",
       "1           1     Byron Scott  SG   29  LAL  82  82  32.1  6.1  12.8  ...   \n",
       "2           2  Elden Campbell  PF   22  LAL  52   0   7.3  1.1   2.4  ...   \n",
       "3           3   Irving Thomas  PF   25  LAL  26   0   4.2  0.7   1.9  ...   \n",
       "4           4    James Worthy  SF   29  LAL  78  74  38.6  9.2  18.7  ...   \n",
       "\n",
       "   Pts Max  Share                Team   W   L   W/L%   GB   PS/G  PA/G   SRS  \n",
       "0        0    0.0  Los Angeles Lakers  58  24  0.707  5.0  106.3  99.6  6.73  \n",
       "1        0    0.0  Los Angeles Lakers  58  24  0.707  5.0  106.3  99.6  6.73  \n",
       "2        0    0.0  Los Angeles Lakers  58  24  0.707  5.0  106.3  99.6  6.73  \n",
       "3        0    0.0  Los Angeles Lakers  58  24  0.707  5.0  106.3  99.6  6.73  \n",
       "4        0    0.0  Los Angeles Lakers  58  24  0.707  5.0  106.3  99.6  6.73  \n",
       "\n",
       "[5 rows x 42 columns]"
      ]
     },
     "execution_count": 4,
     "metadata": {},
     "output_type": "execute_result"
    }
   ],
   "source": [
    "#Basket ball df\n",
    "basket_ball_df.head(5)"
   ]
  },
  {
   "cell_type": "code",
   "execution_count": 5,
   "id": "11e7e264",
   "metadata": {
    "scrolled": true
   },
   "outputs": [
    {
     "data": {
      "text/plain": [
       "Text(0.5, 0, 'Field Goals Per Game')"
      ]
     },
     "execution_count": 5,
     "metadata": {},
     "output_type": "execute_result"
    },
    {
     "data": {
      "image/png": "[encoded data removed]",
      "text/plain": [
       "<Figure size 432x288 with 1 Axes>"
      ]
     },
     "metadata": {
      "needs_background": "light"
     },
     "output_type": "display_data"
    }
   ],
   "source": [
    "#Find the frequency of field goals per game\n",
    "#Plotting histogram\n",
    "\n",
    "\n",
    "#Plotting Field goals per game\n",
    "basket_ball_df.hist('FG')\n",
    "#Setting title\n",
    "plt.title(\"Basket Ball Feild Goal\")\n",
    "#Setting y\n",
    "plt.ylabel(\"Number Of Players\")\n",
    "#Setting x\n",
    "plt.xlabel(\"Field Goals Per Game\")"
   ]
  },
  {
   "cell_type": "code",
   "execution_count": 11,
   "id": "acf0c405",
   "metadata": {},
   "outputs": [
    {
     "data": {
      "text/plain": [
       "<AxesSubplot:title={'center':'Basket Ball Team 3 Pointers Total'}, xlabel='Points', ylabel='Team'>"
      ]
     },
     "execution_count": 11,
     "metadata": {},
     "output_type": "execute_result"
    },
    {
     "data": {
      "image/png": "[encoded data removed]",
      "text/plain": [
       "<Figure size 576x864 with 1 Axes>"
      ]
     },
     "metadata": {
      "needs_background": "light"
     },
     "output_type": "display_data"
    }
   ],
   "source": [
    "#Applying more space for graph\n",
    "plt.figure(figsize = (8,12))\n",
    "#Setting title \n",
    "plt.title(\"Basket Ball Team 3 Pointers Total\")\n",
    "#y label provided \n",
    "#x label set\n",
    "plt.xlabel(\"Points\")\n",
    "\n",
    "#Pushing horizontal graph \n",
    "baket_ball_FGPG.plot(kind = \"barh\")\n",
    "\n",
    "\n"
   ]
  },
  {
   "cell_type": "code",
   "execution_count": 8,
   "id": "c1f6de5e",
   "metadata": {},
   "outputs": [
    {
     "name": "stdout",
     "output_type": "stream",
     "text": [
      "[27, 29, 22, 25, 32, 31, 36, 30, 28, 23, 33, 24, 37, 34, 35, 26, 21, 20, 18, 38, 19, 41, 42, 39, 40, 44, 43]\n"
     ]
    }
   ],
   "source": [
    "#making a unique reference age\n",
    "unique_age= []\n",
    "\n",
    "for age in basket_ball_df['Age']:\n",
    "    #if the uniques column doesnt have age\n",
    "    if age not in unique_age:\n",
    "        #append age not in unique table\n",
    "        unique_age.append(age)\n",
    "print(unique_age)"
   ]
  },
  {
   "cell_type": "code",
   "execution_count": 9,
   "id": "2e0122c1",
   "metadata": {},
   "outputs": [
    {
     "name": "stdout",
     "output_type": "stream",
     "text": [
      "{27: 29700.0, 29: 25491.0, 22: 23562.0, 25: 32000.0, 32: 18912.0, 31: 21731.0, 36: 6444.0, 30: 24480.0, 28: 27468.0, 23: 32706.0, 33: 15411.0, 24: 34248.0, 37: 4366.0, 34: 12104.0, 35: 9100.0, 26: 30680.0, 21: 12432.0, 20: 7280.0, 18: 216.0, 38: 2964.0, 19: 2736.0, 41: 164.0, 42: 168.0, 39: 1716.0, 40: 760.0, 44: 44.0, 43: 86.0}\n"
     ]
    }
   ],
   "source": [
    "#will contain total  time by age\n",
    "age_dic ={}\n",
    "\n",
    "\n",
    "#Looping through unique age values\n",
    "for age in unique_age:\n",
    "    #will store total time of games started by age\n",
    "    GS_time_temp = 0\n",
    "    #Will loop through all ages in df and compare _age to age \n",
    "    #if ages are eqaul the value of time will be stored \n",
    "    for _age in basket_ball_df['Age'] :\n",
    "        #if a unique occurence of age is eqaul to _age none unqiue and recurring pass\n",
    "        if(_age == age):\n",
    "            #Game started time is eqaul to game started time plus the new started time for the next player\n",
    "            GS_time_temp = GS_time_temp + float(_age)\n",
    "    #store age and the total amount of time played by players per particular age\n",
    "    age_dic[age] = GS_time_temp\n",
    "print(age_dic)\n",
    "        "
   ]
  },
  {
   "cell_type": "code",
   "execution_count": 10,
   "id": "d8aff224",
   "metadata": {},
   "outputs": [
    {
     "data": {
      "image/png": "[encoded data removed]",
      "text/plain": [
       "<Figure size 432x288 with 1 Axes>"
      ]
     },
     "metadata": {
      "needs_background": "light"
     },
     "output_type": "display_data"
    }
   ],
   "source": [
    "#setting title\n",
    "plt.title(\"Time of Game Started By Age \")\n",
    "#setting y label to time\n",
    "plt.ylabel(\"Time\")\n",
    "#setting x label to age \n",
    "plt.xlabel(\"Age\")\n",
    "#Passing Keys \"age\"\n",
    "#Passing Values \"Time\"\n",
    "plt.scatter(x = age_dic.keys(), y = age_dic.values(), s=50);"
   ]
  },
  {
   "cell_type": "markdown",
   "id": "05f49847",
   "metadata": {},
   "source": [
    "#4 Explain what you have learned from each of your graphs.\n",
    "\n",
    "The histogram was simple to plot and only required a little logic. The horziontal plot was a little more challenging due to the team titles. At first it was a regular bar graph but I didnt like the way the data lined up. This was by far the best solution to show the teams. The last graph took in a object from a dictonary I created for unique age. The scatter plot did exactly what I wanted to show the trends of age verse time a player starts a game. There were a few graphs I tried before this like a pie chart. The pie chart did not work and I removed it.\n",
    "\n",
    "There are two main things that I have learned from each graph. The first, is when there is more data its harder to fit in one graph. It requires minipulation and condensing to show the values correctly.The second is the size of the graph can be adjust to fit the required data feilds. Without this functionality the feilds would be to close to read. Lastly, color is alot hard to choose then I thought it was. At first I want to change from blue but didnt like the color choices. The visual is something I need to work on."
   ]
  },
  {
   "cell_type": "markdown",
   "id": "04682df3",
   "metadata": {},
   "source": [
    "#5 My Findings\n",
    "#What is the basket feild goals per game average?\n",
    "#Team with the highest overall 3 points.\n",
    "#Does age effect if a player will start, if so how much?\n",
    "#At what age do players get the least starting time?\n",
    "\n",
    "I thought the highest peak of the histogram would be at one, but the peak is at two meaning that is the most occuring. The histogram is right skewed and the average number of field goals is 6. The team with the highest overall 3-point count is the Houston Rockets followed by the Golden State Warriors. It’s sad to say this, but Oklahoma had the least amount of 3 pointers made by players. I am from Oklahoma and found this interesting. It looks like from ages 20 through 25 players start more games and stay in the game longer. After age 25, the game start time is at a steadily decline. Once the players approach 35, the start time is split by half. At age 40-45 and on it levels off and the players get the least start time. Maybe this doesn’t reflect who ends the game. These numbers only suggest the person that starts and the time they are in. Overall, like I mention before I know little about basketball, but it's safe to say that people are in their prime when they are in between the ages of 20 and 25. \n"
   ]
  }
 ],
 "metadata": {
  "kernelspec": {
   "display_name": "Python 3",
   "language": "python",
   "name": "python3"
  },
  "language_info": {
   "codemirror_mode": {
    "name": "ipython",
    "version": 3
   },
   "file_extension": ".py",
   "mimetype": "text/x-python",
   "name": "python",
   "nbconvert_exporter": "python",
   "pygments_lexer": "ipython3",
   "version": "3.8.8"
  }
 },
 "nbformat": 4,
 "nbformat_minor": 5
}
