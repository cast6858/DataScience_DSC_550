{
 "cells": [
  {
   "cell_type": "markdown",
   "id": "2e55c167",
   "metadata": {},
   "source": [
    "# Felipe Castillo\n",
    "# ClassificationHomeWork\n",
    "# Data Mining\n",
    "# 04/17/2022"
   ]
  },
  {
   "cell_type": "code",
   "execution_count": 1,
   "id": "30ede96a",
   "metadata": {},
   "outputs": [
    {
     "name": "stderr",
     "output_type": "stream",
     "text": [
      "[nltk_data] Downloading package punkt to\n",
      "[nltk_data]     C:\\Users\\cast6\\AppData\\Roaming\\nltk_data...\n",
      "[nltk_data]   Package punkt is already up-to-date!\n",
      "[nltk_data] Downloading package stopwords to\n",
      "[nltk_data]     C:\\Users\\cast6\\AppData\\Roaming\\nltk_data...\n",
      "[nltk_data]   Package stopwords is already up-to-date!\n"
     ]
    }
   ],
   "source": [
    "import pandas as pd \n",
    "from textblob import TextBlob,classifiers\n",
    "from sklearn.model_selection import train_test_split\n",
    "from vaderSentiment.vaderSentiment import SentimentIntensityAnalyzer \n",
    "from sklearn.linear_model import LogisticRegression\n",
    "from sklearn.preprocessing import StandardScaler\n",
    "from sklearn.feature_extraction.text import CountVectorizer, TfidfVectorizer\n",
    "from sklearn.preprocessing import LabelEncoder\n",
    "from sklearn.preprocessing import OrdinalEncoder\n",
    "from sklearn.preprocessing import OneHotEncoder\n",
    "from sklearn.neighbors import KNeighborsClassifier\n",
    "from sklearn.metrics import confusion_matrix\n",
    "from sklearn.metrics import precision_score\n",
    "from sklearn.metrics import accuracy_score,recall_score,f1_score\n",
    "from nltk.stem import PorterStemmer\n",
    "from nltk.corpus import stopwords\n",
    "from sklearn import metrics\n",
    "import matplotlib.pyplot as plt\n",
    "import os \n",
    "import sys\n",
    "import nltk\n",
    "import numpy as np\n",
    "from difflib import SequenceMatcher\n",
    "import seaborn as sns\n",
    "nltk.download('punkt')\n",
    "nltk.download('stopwords')\n",
    "  \n",
    "\n",
    "    \n",
    "#Change path to week one folder for DSC-550\n",
    "#Current directory in documents\n",
    "os.chdir('C:\\DataScience_DSC_550\\Week5\\labeledTrainData.tsv')\n"
   ]
  },
  {
   "cell_type": "code",
   "execution_count": 43,
   "id": "5875d8a3",
   "metadata": {},
   "outputs": [],
   "source": [
    "#!{sys.executable} -m pip install "
   ]
  },
  {
   "cell_type": "markdown",
   "id": "df1cdc85",
   "metadata": {},
   "source": [
    "# 1. Get the stemmed data using the same process you did in Week 3."
   ]
  },
  {
   "cell_type": "code",
   "execution_count": 2,
   "id": "75b3e755",
   "metadata": {},
   "outputs": [],
   "source": [
    "# Import data\n",
    "#Load tsv file\n",
    "#Setting a dataframe as an untampered version of dataset\n",
    "BWMBP_Org_Df =  pd.read_csv(\"labeledTrainData.tsv\", sep='\\t')\n",
    "\n",
    "#copying an instance of BWMBP_Org_Df  \n",
    "BWMBP_df = BWMBP_Org_Df.copy()\n"
   ]
  },
  {
   "cell_type": "code",
   "execution_count": 3,
   "id": "37634ade",
   "metadata": {},
   "outputs": [
    {
     "data": {
      "text/html": [
       "<div>\n",
       "<style scoped>\n",
       "    .dataframe tbody tr th:only-of-type {\n",
       "        vertical-align: middle;\n",
       "    }\n",
       "\n",
       "    .dataframe tbody tr th {\n",
       "        vertical-align: top;\n",
       "    }\n",
       "\n",
       "    .dataframe thead th {\n",
       "        text-align: right;\n",
       "    }\n",
       "</style>\n",
       "<table border=\"1\" class=\"dataframe\">\n",
       "  <thead>\n",
       "    <tr style=\"text-align: right;\">\n",
       "      <th></th>\n",
       "      <th>id</th>\n",
       "      <th>sentiment</th>\n",
       "      <th>review</th>\n",
       "    </tr>\n",
       "  </thead>\n",
       "  <tbody>\n",
       "    <tr>\n",
       "      <th>0</th>\n",
       "      <td>5814_8</td>\n",
       "      <td>1</td>\n",
       "      <td>With all this stuff going down at the moment w...</td>\n",
       "    </tr>\n",
       "  </tbody>\n",
       "</table>\n",
       "</div>"
      ],
      "text/plain": [
       "       id  sentiment                                             review\n",
       "0  5814_8          1  With all this stuff going down at the moment w..."
      ]
     },
     "execution_count": 3,
     "metadata": {},
     "output_type": "execute_result"
    }
   ],
   "source": [
    "BWMBP_df.head(1)"
   ]
  },
  {
   "cell_type": "code",
   "execution_count": 4,
   "id": "917c5ff7",
   "metadata": {},
   "outputs": [
    {
     "name": "stderr",
     "output_type": "stream",
     "text": [
      "<ipython-input-4-14f77e2b0d0b>:7: FutureWarning: The default value of regex will change from True to False in a future version.\n",
      "  BWMBP_MOD_DF['review'] = BWMBP_MOD_DF['review'].str.replace(r'[^\\w\\s]+|[0-9]', '')\n"
     ]
    }
   ],
   "source": [
    "#reseting index to work with original data set\n",
    "BWMBP_MOD_DF = BWMBP_Org_Df.copy()\n",
    "#1.Convert all text to lowercase letters.\n",
    "BWMBP_MOD_DF['review'] = BWMBP_MOD_DF['review'].str.lower()\n",
    "#2.Remove punctuation and special characters from the text.\n",
    "#digits in this case will be defind as special characters, therefore digits will be removed\n",
    "BWMBP_MOD_DF['review'] = BWMBP_MOD_DF['review'].str.replace(r'[^\\w\\s]+|[0-9]', '')"
   ]
  },
  {
   "cell_type": "code",
   "execution_count": 6,
   "id": "dc7df882",
   "metadata": {},
   "outputs": [],
   "source": [
    "#3. Removing stop words\n",
    "#Seting stop_words to instance of stopwords class.\n",
    "#words set to english\n",
    "stop_word = stopwords.words('english')\n",
    "\n",
    "add_words=('ive','him', 'dont')\n",
    "for i in add_words:\n",
    "    stop_word.append(i)\n",
    "\n"
   ]
  },
  {
   "cell_type": "code",
   "execution_count": 7,
   "id": "19065223",
   "metadata": {},
   "outputs": [],
   "source": [
    "#Updateing current review column\n",
    "#For each review apply function if word is not in stop words then we keep the word\n",
    "BWMBP_MOD_DF['review'] = BWMBP_MOD_DF['review'].apply(lambda x:[word for word in x.split() if word not in (stop_word)])\n"
   ]
  },
  {
   "cell_type": "code",
   "execution_count": 8,
   "id": "b593001a",
   "metadata": {},
   "outputs": [
    {
     "data": {
      "text/html": [
       "<div>\n",
       "<style scoped>\n",
       "    .dataframe tbody tr th:only-of-type {\n",
       "        vertical-align: middle;\n",
       "    }\n",
       "\n",
       "    .dataframe tbody tr th {\n",
       "        vertical-align: top;\n",
       "    }\n",
       "\n",
       "    .dataframe thead th {\n",
       "        text-align: right;\n",
       "    }\n",
       "</style>\n",
       "<table border=\"1\" class=\"dataframe\">\n",
       "  <thead>\n",
       "    <tr style=\"text-align: right;\">\n",
       "      <th></th>\n",
       "      <th>id</th>\n",
       "      <th>sentiment</th>\n",
       "      <th>review</th>\n",
       "    </tr>\n",
       "  </thead>\n",
       "  <tbody>\n",
       "    <tr>\n",
       "      <th>0</th>\n",
       "      <td>5814_8</td>\n",
       "      <td>1</td>\n",
       "      <td>[stuff, going, moment, mj, started, listening,...</td>\n",
       "    </tr>\n",
       "    <tr>\n",
       "      <th>1</th>\n",
       "      <td>2381_9</td>\n",
       "      <td>1</td>\n",
       "      <td>[classic, war, worlds, timothy, hines, enterta...</td>\n",
       "    </tr>\n",
       "    <tr>\n",
       "      <th>2</th>\n",
       "      <td>7759_3</td>\n",
       "      <td>0</td>\n",
       "      <td>[film, starts, manager, nicholas, bell, giving...</td>\n",
       "    </tr>\n",
       "  </tbody>\n",
       "</table>\n",
       "</div>"
      ],
      "text/plain": [
       "       id  sentiment                                             review\n",
       "0  5814_8          1  [stuff, going, moment, mj, started, listening,...\n",
       "1  2381_9          1  [classic, war, worlds, timothy, hines, enterta...\n",
       "2  7759_3          0  [film, starts, manager, nicholas, bell, giving..."
      ]
     },
     "execution_count": 8,
     "metadata": {},
     "output_type": "execute_result"
    }
   ],
   "source": [
    "#Words instead of sentences\n",
    "BWMBP_MOD_DF.head(3)"
   ]
  },
  {
   "cell_type": "code",
   "execution_count": 9,
   "id": "8d6ff1a8",
   "metadata": {},
   "outputs": [],
   "source": [
    "#Setting stemmer object.\n",
    "stemmer = PorterStemmer()"
   ]
  },
  {
   "cell_type": "code",
   "execution_count": 10,
   "id": "5f87b8f9",
   "metadata": {},
   "outputs": [],
   "source": [
    "#Wanting the whole sentence and not just the individual word\n",
    "#Wanting the porter stemmer and words to be returned stemmed\n",
    "def PorterStemmerSentenceConversion(sentence):\n",
    "    #takes in sentence \n",
    "    updatedSentence = ''\n",
    "    #Each word will be stem individually\n",
    "    for word in sentence:\n",
    "        #Setting a temp value to store stem word\n",
    "        temp_sentence = (stemmer.stem(word))\n",
    "        #adding it to one sentence instead of keeping them seperate\n",
    "        updatedSentence = updatedSentence + ' '+ temp_sentence\n",
    "    #returning the combind words\n",
    "    return updatedSentence"
   ]
  },
  {
   "cell_type": "code",
   "execution_count": 11,
   "id": "1c94872f",
   "metadata": {},
   "outputs": [
    {
     "name": "stderr",
     "output_type": "stream",
     "text": [
      "<ipython-input-11-bd0898d94c55>:7: SettingWithCopyWarning: \n",
      "A value is trying to be set on a copy of a slice from a DataFrame\n",
      "\n",
      "See the caveats in the documentation: https://pandas.pydata.org/pandas-docs/stable/user_guide/indexing.html#returning-a-view-versus-a-copy\n",
      "  BWMBP_MOD_DF['review'][i] = temp_stemmer_converted\n"
     ]
    }
   ],
   "source": [
    "#Taking the index count of each sentence in review\n",
    "for i in range(len(BWMBP_MOD_DF['review'])):\n",
    "    #Applying function to retrieve updated sentence\n",
    "    #Gets the sentence at [i] index\n",
    "    temp_stemmer_converted = PorterStemmerSentenceConversion(BWMBP_MOD_DF['review'][i])\n",
    "    #Updates the review column at index i with updated stemmed sentence\n",
    "    BWMBP_MOD_DF['review'][i] = temp_stemmer_converted"
   ]
  },
  {
   "cell_type": "code",
   "execution_count": 12,
   "id": "0c64835c",
   "metadata": {},
   "outputs": [
    {
     "data": {
      "text/html": [
       "<div>\n",
       "<style scoped>\n",
       "    .dataframe tbody tr th:only-of-type {\n",
       "        vertical-align: middle;\n",
       "    }\n",
       "\n",
       "    .dataframe tbody tr th {\n",
       "        vertical-align: top;\n",
       "    }\n",
       "\n",
       "    .dataframe thead th {\n",
       "        text-align: right;\n",
       "    }\n",
       "</style>\n",
       "<table border=\"1\" class=\"dataframe\">\n",
       "  <thead>\n",
       "    <tr style=\"text-align: right;\">\n",
       "      <th></th>\n",
       "      <th>id</th>\n",
       "      <th>sentiment</th>\n",
       "      <th>review</th>\n",
       "    </tr>\n",
       "  </thead>\n",
       "  <tbody>\n",
       "    <tr>\n",
       "      <th>0</th>\n",
       "      <td>5814_8</td>\n",
       "      <td>1</td>\n",
       "      <td>stuff go moment mj start listen music watch o...</td>\n",
       "    </tr>\n",
       "    <tr>\n",
       "      <th>1</th>\n",
       "      <td>2381_9</td>\n",
       "      <td>1</td>\n",
       "      <td>classic war world timothi hine entertain film...</td>\n",
       "    </tr>\n",
       "  </tbody>\n",
       "</table>\n",
       "</div>"
      ],
      "text/plain": [
       "       id  sentiment                                             review\n",
       "0  5814_8          1   stuff go moment mj start listen music watch o...\n",
       "1  2381_9          1   classic war world timothi hine entertain film..."
      ]
     },
     "execution_count": 12,
     "metadata": {},
     "output_type": "execute_result"
    }
   ],
   "source": [
    "#Shows updated sentences\n",
    "BWMBP_MOD_DF.head(2)"
   ]
  },
  {
   "cell_type": "code",
   "execution_count": 13,
   "id": "641b4221",
   "metadata": {},
   "outputs": [],
   "source": [
    "#Easier to work with at this state\n",
    "sentence_list = []"
   ]
  },
  {
   "cell_type": "code",
   "execution_count": 14,
   "id": "67b65fbb",
   "metadata": {},
   "outputs": [],
   "source": [
    "#taking sentence and inserting in sentence list\n",
    "#mapping the first sentence to compare with profressors sentence\n",
    "mySentence = ''\n",
    "count = 1\n",
    "for sentence in BWMBP_MOD_DF['review']:\n",
    "    sentence_list.append(sentence.strip())\n",
    "    if(count <= 1):\n",
    "        mySentence = sentence.strip()\n",
    "        count = count + 1\n",
    "    \n",
    "  "
   ]
  },
  {
   "cell_type": "code",
   "execution_count": 15,
   "id": "9db5ba45",
   "metadata": {},
   "outputs": [
    {
     "name": "stdout",
     "output_type": "stream",
     "text": [
      "['stuff go moment mj start listen music watch odd documentari watch wiz watch moonwalk mayb want get certain insight guy thought realli cool eighti mayb make mind whether guilti innoc moonwalk part biographi part featur film rememb go see cinema origin releas subtl messag mj feel toward press also obviou messag drug bad mkaybr br visual impress cours michael jackson unless remot like mj anyway go hate find bore may call mj egotist consent make movi mj fan would say made fan true realli nice himbr br actual featur film bit final start minut exclud smooth crimin sequenc joe pesci convinc psychopath power drug lord want mj dead bad beyond mj overheard plan nah joe pesci charact rant want peopl know suppli drug etc dunno mayb hate mj musicbr br lot cool thing like mj turn car robot whole speed demon sequenc also director must patienc saint came film kiddi bad sequenc usual director hate work one kid let alon whole bunch perform complex danc scenebr br bottom line movi peopl like mj one level anoth think peopl stay away tri give wholesom messag iron mj bestest buddi movi girl michael jackson truli one talent peopl ever grace planet guilti well attent gave subjecthmmm well know peopl differ behind close door know fact either extrem nice stupid guy one sickest liar hope latter']\n"
     ]
    }
   ],
   "source": [
    "#sentence list holds all sentences \n",
    "print(sentence_list[:1])\n"
   ]
  },
  {
   "cell_type": "code",
   "execution_count": 16,
   "id": "47adf5de",
   "metadata": {},
   "outputs": [],
   "source": [
    "#Comparing sentence with profess\n",
    "AaronLeeProfessorSentence ='stuff go moment mj start listen music watch odd documentari watch wiz watch moonwalk mayb want get certain insight guy thought realli cool eighti mayb make mind whether guilti innoc moonwalk part biographi part featur film rememb go see cinema origin releas subtl messag mj feel toward press also obviou messag drug bad kay br br visual impress cours michael jackson unless remot like mj anyway go hate find bore may call mj egotist consent make movi mj fan would say made fan true realli nice br br actual featur film bit final start minut exclud smooth crimin sequenc joe pesci convinc psychopath power drug lord want mj dead bad beyond mj overheard plan nah joe pesci charact rant want peopl know suppli drug etc dunno mayb hate mj music br br lot cool thing like mj turn car robot whole speed demon sequenc also director must patienc saint came film kiddi bad sequenc usual director hate work one kid let alon whole bunch perform complex danc scene br br bottom line movi peopl like mj one level anoth think peopl stay away tri give wholesom messag iron mj bestest buddi movi girl michael jackson truli one talent peopl ever grace planet guilti well attent gave subject hmmm well know peopl differ behind close door know fact either extrem nice stupid guy one sickest liar hope latter'"
   ]
  },
  {
   "cell_type": "code",
   "execution_count": 17,
   "id": "e3a3cc61",
   "metadata": {},
   "outputs": [
    {
     "name": "stdout",
     "output_type": "stream",
     "text": [
      "0.9945652173913043\n"
     ]
    }
   ],
   "source": [
    "#I used beyond compare to show that the text is identical.\n",
    "ratio = SequenceMatcher(None, AaronLeeProfessorSentence, mySentence).ratio()\n",
    "print(ratio)"
   ]
  },
  {
   "cell_type": "markdown",
   "id": "4ded5470",
   "metadata": {},
   "source": [
    "# 2. Split this into a training and test set."
   ]
  },
  {
   "cell_type": "code",
   "execution_count": 18,
   "id": "a45c9855",
   "metadata": {},
   "outputs": [],
   "source": [
    "#Setting features and target\n",
    "features = BWMBP_MOD_DF['review']\n",
    "target = BWMBP_MOD_DF['sentiment']\n"
   ]
  },
  {
   "cell_type": "code",
   "execution_count": 19,
   "id": "9d17f69b",
   "metadata": {},
   "outputs": [],
   "source": [
    "#Training the data \n",
    "#passed in all columns as features and passed mpg as target\n",
    "#set the test_size to .20\n",
    "features_train, features_test, target_train, target_test = train_test_split(features, target,random_state=0)"
   ]
  },
  {
   "cell_type": "markdown",
   "id": "d273a641",
   "metadata": {},
   "source": [
    "# 3.Fit and apply the tf-idf vectorization to the training set."
   ]
  },
  {
   "cell_type": "code",
   "execution_count": 20,
   "id": "e19de5e5",
   "metadata": {},
   "outputs": [],
   "source": [
    "#Setting tfidf to instance of TfidfVectorizer class\n",
    "tfidf = TfidfVectorizer()\n",
    "#Inputting the argument sentence list \n",
    "#3\n",
    "features_train_vec = tfidf.fit_transform(features_train)\n",
    "#4\n",
    "features_test_vsc = tfidf.transform(features_test)\n",
    "\n",
    "\n",
    "\n"
   ]
  },
  {
   "cell_type": "markdown",
   "id": "1ea445d7",
   "metadata": {},
   "source": [
    "# 4. Apply but DO NOT FIT the tf-idf vectorization to the test set (Why?)."
   ]
  },
  {
   "cell_type": "markdown",
   "id": "af5d4c67",
   "metadata": {},
   "source": [
    "We use the fit method only on the training data. We don’t use it on the testing data because we don’t know what the testing data is. In other words, we don’t know what future data will hold. Fitting the data could give us extra values that shouldn’t be in the test data. The best analogy that I was able to find was over clothing. When you plan an outfit based on a dress code this could be thought of as fit and wearing the outfit to the party as transform. Since we are training our data, we need to know what the available outfits are available to us. \n",
    "\n",
    "\n",
    "https://medium.com/nerd-for-tech/difference-fit-transform-and-fit-transform-method-in-scikit-learn-b0a4efcab804"
   ]
  },
  {
   "cell_type": "code",
   "execution_count": 21,
   "id": "fc919f0c",
   "metadata": {},
   "outputs": [
    {
     "data": {
      "text/plain": [
       "{'think': 66896,\n",
       " 'creator': 14607,\n",
       " 'film': 23350,\n",
       " 'concept': 13315,\n",
       " 'deserv': 16812,\n",
       " 'lot': 38885,\n",
       " 'accolad': 387,\n",
       " 'probabl': 52347,\n",
       " 'ever': 21394,\n",
       " 'receiv': 54411,\n",
       " 'isnt': 33752,\n",
       " 'oscar': 47970,\n",
       " 'calib': 9545,\n",
       " 'cours': 14302,\n",
       " 'least': 37384,\n",
       " 'left': 37476,\n",
       " 'last': 37054,\n",
       " 'impress': 32446,\n",
       " 'sinc': 60578,\n",
       " 'first': 23743,\n",
       " 'saw': 57572,\n",
       " 'back': 4650,\n",
       " 'theatr': 66574,\n",
       " 'br': 8061,\n",
       " 'hope': 31025,\n",
       " 'spoiler': 62635,\n",
       " 'imagin': 32263,\n",
       " 'act': 501,\n",
       " 'impuls': 32479,\n",
       " 'thought': 67084,\n",
       " 'pop': 51396,\n",
       " 'head': 29398,\n",
       " 'say': 57596,\n",
       " 'word': 74510,\n",
       " 'lip': 38290,\n",
       " 'restraint': 55313,\n",
       " 'consciou': 13564,\n",
       " 'noth': 46234,\n",
       " 'hold': 30736,\n",
       " 'thing': 66853,\n",
       " 'intellig': 33226,\n",
       " 'adult': 908,\n",
       " 'know': 36202,\n",
       " 'shouldnt': 60111,\n",
       " 'actual': 723,\n",
       " 'anyth': 3034,\n",
       " 'scratch': 58147,\n",
       " 'surfac': 64897,\n",
       " 'doesnt': 18175,\n",
       " 'go': 26853,\n",
       " 'far': 22545,\n",
       " 'could': 14191,\n",
       " 'time': 67447,\n",
       " 'hollywood': 30790,\n",
       " 'seem': 58548,\n",
       " 'obsess': 46759,\n",
       " 'remak': 54917,\n",
       " 'older': 47241,\n",
       " 'classic': 12128,\n",
       " 'tri': 68690,\n",
       " 'cash': 10290,\n",
       " 'today': 67763,\n",
       " 'wouldnt': 74733,\n",
       " 'nice': 45417,\n",
       " 'see': 58518,\n",
       " 'modest': 42882,\n",
       " 'success': 64388,\n",
       " 'sake': 57087,\n",
       " 'take': 65509,\n",
       " 'next': 45381,\n",
       " 'level': 37801,\n",
       " 'bit': 6796,\n",
       " 'even': 21362,\n",
       " 'explor': 21897,\n",
       " 'origin': 47887,\n",
       " 'crew': 14703,\n",
       " 'didnt': 17235,\n",
       " 'couldnt': 14196,\n",
       " 'deal': 16021,\n",
       " 'year': 75212,\n",
       " 'ago': 1252,\n",
       " 'that': 66501,\n",
       " 'opinion': 47717,\n",
       " 'anyway': 3043,\n",
       " 'sound': 62137,\n",
       " 'odd': 46869,\n",
       " 'come': 12917,\n",
       " 'someon': 61858,\n",
       " 'born': 7813,\n",
       " 'almost': 1891,\n",
       " 'show': 60120,\n",
       " 'stop': 63641,\n",
       " 'air': 1378,\n",
       " 'love': 38960,\n",
       " 'enjoy': 20679,\n",
       " 'watch': 72761,\n",
       " 'adam': 751,\n",
       " 'best': 6304,\n",
       " 'disappoint': 17624,\n",
       " 'place': 50692,\n",
       " 'found': 24673,\n",
       " 'buy': 9312,\n",
       " 'season': 58387,\n",
       " 'dvd': 19428,\n",
       " 'germani': 26276,\n",
       " 'two': 69368,\n",
       " 'ok': 47179,\n",
       " 'ill': 32172,\n",
       " 'keep': 35522,\n",
       " 'look': 38746,\n",
       " 'onlin': 47568,\n",
       " 'anyon': 3027,\n",
       " 'tip': 67631,\n",
       " 'second': 58435,\n",
       " 'th': 66462,\n",
       " 'pleas': 50887,\n",
       " 'email': 20295,\n",
       " 'darkangel_yahoocom': 15711,\n",
       " 'alreadi': 1970,\n",
       " 'one': 47401,\n",
       " 'side': 60348,\n",
       " 'play': 50824,\n",
       " 'portabl': 51487,\n",
       " 'player': 50839,\n",
       " 'comput': 13277,\n",
       " 'oh': 47104,\n",
       " 'well': 73158,\n",
       " 'still': 63490,\n",
       " 'may': 40932,\n",
       " 'heard': 29489,\n",
       " 'fight': 23284,\n",
       " 'vampir': 71291,\n",
       " 'zombi': 75873,\n",
       " 'ask': 3839,\n",
       " 'titl': 67680,\n",
       " 'suggest': 64495,\n",
       " 'realli': 54265,\n",
       " 'kind': 35915,\n",
       " 'appropri': 3270,\n",
       " 'els': 20248,\n",
       " 'made': 39614,\n",
       " 'sens': 58987,\n",
       " 'either': 20057,\n",
       " 'absolut': 285,\n",
       " 'stori': 63675,\n",
       " 'plot': 50951,\n",
       " 'happen': 28947,\n",
       " 'incred': 32653,\n",
       " 'bad': 4753,\n",
       " 'wors': 74672,\n",
       " 'safeauto': 56992,\n",
       " 'commerci': 13067,\n",
       " 'badbr': 4767,\n",
       " 'scene': 57771,\n",
       " 'make': 39873,\n",
       " 'appli': 3231,\n",
       " 'old': 47230,\n",
       " 'girl': 26576,\n",
       " 'total': 68170,\n",
       " 'random': 53873,\n",
       " 'featur': 22903,\n",
       " 'charact': 10996,\n",
       " 'hedg': 29626,\n",
       " 'trimmer': 68777,\n",
       " 'im': 32249,\n",
       " 'kid': 35750,\n",
       " 'use': 71062,\n",
       " 'chainsaw': 10828,\n",
       " 'effectsbr': 19891,\n",
       " 'undoubtedli': 70132,\n",
       " 'poorest': 51372,\n",
       " 'movi': 43669,\n",
       " 'seen': 58563,\n",
       " 'life': 37940,\n",
       " 'circumst': 11995,\n",
       " 'ridicul': 55699,\n",
       " 'everi': 21427,\n",
       " 'person': 49990,\n",
       " 'respons': 55279,\n",
       " 'product': 52425,\n",
       " 'learn': 37370,\n",
       " 'produc': 52406,\n",
       " 'entir': 20839,\n",
       " 'oldsbr': 47264,\n",
       " 'though': 67072,\n",
       " 'critic': 14806,\n",
       " 'offer': 46964,\n",
       " 'id': 32011,\n",
       " 'sole': 61785,\n",
       " 'base': 5351,\n",
       " 'fact': 22198,\n",
       " 'worst': 74695,\n",
       " 'quit': 53518,\n",
       " 'comic': 12999,\n",
       " 'count': 14220,\n",
       " 'flaw': 23973,\n",
       " 'entertain': 20792,\n",
       " 'star': 63073,\n",
       " 'mani': 40145,\n",
       " 'cliché': 12275,\n",
       " 'predict': 51918,\n",
       " 'twist': 69347,\n",
       " 'slasher': 60986,\n",
       " 'flick': 24036,\n",
       " 'parallel': 49015,\n",
       " 'give': 26668,\n",
       " 'extra': 22003,\n",
       " 'laughalthough': 37165,\n",
       " 'never': 45270,\n",
       " 'director': 17526,\n",
       " 'intent': 33259,\n",
       " 'surebr': 64883,\n",
       " 'often': 47062,\n",
       " 'write': 74821,\n",
       " 'comment': 13049,\n",
       " 'sensat': 58989,\n",
       " 'case': 10269,\n",
       " 'honest': 30927,\n",
       " 'soon': 61998,\n",
       " 'jeff': 34390,\n",
       " 'fahey': 22247,\n",
       " 'knew': 36154,\n",
       " 'poor': 51366,\n",
       " 'uniqu': 70399,\n",
       " 'nose': 46173,\n",
       " 'pick': 50373,\n",
       " 'filmsbr': 23492,\n",
       " 'somehow': 61853,\n",
       " 'farc': 22553,\n",
       " 'way': 72891,\n",
       " 'possibl': 51558,\n",
       " 'hilari': 30312,\n",
       " 'voic': 72151,\n",
       " 'mr': 43912,\n",
       " 'relay': 54848,\n",
       " 'youll': 75481,\n",
       " 'mean': 41219,\n",
       " 'bother': 7870,\n",
       " 'sure': 64881,\n",
       " 'pay': 49463,\n",
       " 'work': 74538,\n",
       " 'put': 53188,\n",
       " 'intend': 33241,\n",
       " 'comedi': 12925,\n",
       " 'find': 23611,\n",
       " 'laugh': 37159,\n",
       " 'want': 72550,\n",
       " 'especi': 21151,\n",
       " 'like': 38079,\n",
       " 'end': 20492,\n",
       " 'law': 37254,\n",
       " 'blown': 7228,\n",
       " 'away': 4452,\n",
       " 'suspect': 64997,\n",
       " 'againbr': 1135,\n",
       " 'grip': 27829,\n",
       " 'psycholog': 52890,\n",
       " 'understand': 70051,\n",
       " 'need': 45031,\n",
       " 'captur': 9948,\n",
       " 'viewer': 71820,\n",
       " 'action': 567,\n",
       " 'necessari': 45000,\n",
       " 'thatbr': 66512,\n",
       " 'hard': 29019,\n",
       " 'believ': 6002,\n",
       " 'michael': 41967,\n",
       " 'jr': 34897,\n",
       " 'appar': 3170,\n",
       " 'unmov': 70506,\n",
       " 'younger': 75491,\n",
       " 'brother': 8628,\n",
       " 'mother': 43517,\n",
       " 'appreci': 3252,\n",
       " 'attent': 4120,\n",
       " 'greater': 27630,\n",
       " 'tellbr': 66138,\n",
       " 'complain': 13193,\n",
       " 'hank': 28905,\n",
       " 'gangster': 25786,\n",
       " 'justifi': 35086,\n",
       " 'harder': 29041,\n",
       " 'would': 74723,\n",
       " 'care': 10006,\n",
       " 'son': 61931,\n",
       " 'pull': 52990,\n",
       " 'trigger': 68756,\n",
       " 'notbr': 46210,\n",
       " 'eight': 20007,\n",
       " 'although': 2024,\n",
       " 'releas': 54849,\n",
       " 'yesterday': 75327,\n",
       " 'craven': 14547,\n",
       " 'cowardli': 14375,\n",
       " 'boorman': 7727,\n",
       " 'cahil': 9492,\n",
       " 'burglar': 9100,\n",
       " 'rich': 55623,\n",
       " 'hous': 31325,\n",
       " 'male': 39951,\n",
       " 'occup': 46818,\n",
       " 'shown': 60161,\n",
       " 'unfaith': 70206,\n",
       " 'nanni': 44679,\n",
       " 'right': 55746,\n",
       " 'forens': 24475,\n",
       " 'scientist': 58027,\n",
       " 'investig': 33503,\n",
       " 'car': 9954,\n",
       " 'rat': 54002,\n",
       " 'face': 22159,\n",
       " 'sourpuss': 62186,\n",
       " 'man': 40043,\n",
       " 'beit': 5961,\n",
       " 'owner': 48580,\n",
       " 'russborrough': 56774,\n",
       " 'money': 43045,\n",
       " 'exploit': 21888,\n",
       " 'darki': 15722,\n",
       " 'dig': 17321,\n",
       " 'diamond': 17146,\n",
       " 'okay': 47185,\n",
       " 'rob': 55999,\n",
       " 'priceless': 52212,\n",
       " 'art': 3648,\n",
       " 'hide': 30162,\n",
       " 'bunker': 9056,\n",
       " 'wicklow': 73831,\n",
       " 'mountain': 43594,\n",
       " 'garda': 25848,\n",
       " 'kill': 35827,\n",
       " 'ferret': 23105,\n",
       " 'implic': 32409,\n",
       " 'murder': 44228,\n",
       " 'moral': 43283,\n",
       " 'equivalenc': 21000,\n",
       " 'sicken': 60324,\n",
       " 'hit': 30552,\n",
       " 'gut': 28256,\n",
       " 'stand': 63025,\n",
       " 'crimin': 14751,\n",
       " 'gener': 26108,\n",
       " 'gang': 25766,\n",
       " 'terror': 66357,\n",
       " 'neighbourhood': 45095,\n",
       " 'unleash': 70449,\n",
       " 'anoth': 2730,\n",
       " 'wave': 72876,\n",
       " 'scumbag': 58312,\n",
       " 'upon': 70925,\n",
       " 'dublin': 19143,\n",
       " 'liais': 37862,\n",
       " 'disgust': 17765,\n",
       " 'shame': 59517,\n",
       " 'cowardic': 14374,\n",
       " 'shlockmerch': 59937,\n",
       " 'leo': 37652,\n",
       " 'fulci': 25296,\n",
       " 'chang': 10916,\n",
       " 'pace': 48632,\n",
       " 'trashi': 68532,\n",
       " 'bare': 5212,\n",
       " 'coher': 12686,\n",
       " 'sword': 65244,\n",
       " 'sorceri': 62053,\n",
       " 'fantasi': 22496,\n",
       " 'instead': 33159,\n",
       " 'usual': 71113,\n",
       " 'horror': 31115,\n",
       " 'wimpi': 74023,\n",
       " 'orlando': 47918,\n",
       " 'bloom': 7205,\n",
       " 'type': 69447,\n",
       " 'call': 9571,\n",
       " 'ilia': 32164,\n",
       " 'societi': 61656,\n",
       " 'vagu': 71195,\n",
       " 'resembl': 55204,\n",
       " 'ancient': 2395,\n",
       " 'greec': 27670,\n",
       " 'travel': 68555,\n",
       " 'across': 499,\n",
       " 'ocean': 46834,\n",
       " 'caveman': 10566,\n",
       " 'territori': 66354,\n",
       " 'defin': 16347,\n",
       " 'quest': 53422,\n",
       " 'battl': 5505,\n",
       " 'evil': 21511,\n",
       " 'join': 34733,\n",
       " 'anim': 2589,\n",
       " 'hunter': 31721,\n",
       " 'wolfman': 74322,\n",
       " 'mutant': 44398,\n",
       " 'minion': 42413,\n",
       " 'topless': 68048,\n",
       " 'sorceress': 62052,\n",
       " 'wacki': 72327,\n",
       " 'ensu': 20765,\n",
       " 'oppress': 47756,\n",
       " 'local': 38526,\n",
       " 'cavemen': 10569,\n",
       " 'magic': 39724,\n",
       " 'bow': 7946,\n",
       " 'send': 58969,\n",
       " 'variou': 71381,\n",
       " 'weirder': 73120,\n",
       " 'hero': 29983,\n",
       " 'win': 74028,\n",
       " 'strike': 63956,\n",
       " 'blow': 7222,\n",
       " 'everywher': 21494,\n",
       " 'contain': 13668,\n",
       " 'steadi': 63264,\n",
       " 'stream': 63886,\n",
       " 'wtf': 74912,\n",
       " 'element': 20145,\n",
       " 'momentsbr': 42997,\n",
       " 'reason': 54320,\n",
       " 'shot': 60073,\n",
       " 'soft': 61709,\n",
       " 'focu': 24252,\n",
       " 'pictur': 50397,\n",
       " 'blur': 7281,\n",
       " 'constant': 13625,\n",
       " 'presenc': 52087,\n",
       " 'mist': 42689,\n",
       " 'screen': 58173,\n",
       " 'attempt': 4103,\n",
       " 'creat': 14589,\n",
       " 'atmospher': 4058,\n",
       " 'fake': 22315,\n",
       " 'everyth': 21476,\n",
       " 'fail': 22254,\n",
       " 'unless': 70453,\n",
       " 'scuzzi': 58321,\n",
       " 'mild': 42183,\n",
       " 'bewilder': 6428,\n",
       " 'lame': 36817,\n",
       " 'wooki': 74482,\n",
       " 'fell': 23007,\n",
       " 'leap': 37365,\n",
       " 'slow': 61206,\n",
       " 'motion': 43547,\n",
       " 'six': 60764,\n",
       " 'million': 42266,\n",
       " 'dollar': 18266,\n",
       " 'style': 64203,\n",
       " 'toward': 68271,\n",
       " 'attack': 4087,\n",
       " 'dozen': 18713,\n",
       " 'throughout': 67240,\n",
       " 'get': 26323,\n",
       " 'goofier': 27194,\n",
       " 'leather': 37402,\n",
       " 'clad': 12058,\n",
       " 'human': 31586,\n",
       " 'lumpi': 39288,\n",
       " 'white': 73670,\n",
       " 'appear': 3193,\n",
       " 'cover': 14352,\n",
       " 'cobweb': 12576,\n",
       " 'needless': 45043,\n",
       " 'unthreaten': 70798,\n",
       " 'speak': 62369,\n",
       " 'gay': 25995,\n",
       " 'hispan': 30513,\n",
       " 'lisp': 38329,\n",
       " 'dalek': 15504,\n",
       " 'stilt': 63509,\n",
       " 'unconvinc': 69916,\n",
       " 'special': 62392,\n",
       " 'effect': 19875,\n",
       " 'woeful': 74303,\n",
       " 'yeah': 75203,\n",
       " 'music': 44312,\n",
       " 'cheap': 11220,\n",
       " 'synthesis': 65356,\n",
       " 'stuff': 64115,\n",
       " 'maker': 39886,\n",
       " 'doctor': 18091,\n",
       " 'embarrass': 20310,\n",
       " 'usedbr': 71065,\n",
       " 'nomin': 45786,\n",
       " 'bland': 6983,\n",
       " 'forgett': 24520,\n",
       " 'also': 1988,\n",
       " 'complet': 13208,\n",
       " 'wuss': 74935,\n",
       " 'midriff': 42097,\n",
       " 'reveal': 55427,\n",
       " 'outfit': 48138,\n",
       " 'big': 6567,\n",
       " 'hair': 28496,\n",
       " 'clearli': 12220,\n",
       " 'moron': 43403,\n",
       " 'he': 29397,\n",
       " 'dynamit': 19507,\n",
       " 'three': 67140,\n",
       " 'four': 24684,\n",
       " 'arrow': 3635,\n",
       " 'mission': 42664,\n",
       " 'contin': 13712,\n",
       " 'run': 56710,\n",
       " 'within': 74230,\n",
       " 'minut': 42468,\n",
       " 'save': 57554,\n",
       " 'tradit': 68353,\n",
       " 'mace': 39487,\n",
       " 'meet': 41392,\n",
       " 'establish': 21189,\n",
       " 'taciturn': 65432,\n",
       " 'loner': 38663,\n",
       " 'claim': 12060,\n",
       " 'friend': 25074,\n",
       " 'sooner': 62001,\n",
       " 'latent': 37088,\n",
       " 'homoerot': 30905,\n",
       " 'subtext': 64344,\n",
       " 'bosom': 7842,\n",
       " 'buddi': 8839,\n",
       " 'traips': 68420,\n",
       " 'misti': 42711,\n",
       " 'hill': 30333,\n",
       " 'togeth': 67796,\n",
       " 'promis': 52558,\n",
       " 'return': 55404,\n",
       " 'relat': 54823,\n",
       " 'favour': 22828,\n",
       " 'wherev': 73597,\n",
       " 'leg': 37496,\n",
       " 'repli': 55105,\n",
       " 'good': 27094,\n",
       " 'enough': 20721,\n",
       " 'lover': 39018,\n",
       " 'outrag': 48228,\n",
       " 'hypocrit': 31906,\n",
       " 'proclaim': 52388,\n",
       " 'great': 27620,\n",
       " 'affin': 1018,\n",
       " 'cite': 12013,\n",
       " 'prefer': 51958,\n",
       " 'soooo': 62017,\n",
       " 'hunt': 31718,\n",
       " 'feed': 22946,\n",
       " 'steal': 63272,\n",
       " 'meat': 41277,\n",
       " 'peopl': 49742,\n",
       " 'randomli': 53877,\n",
       " 'innoc': 33036,\n",
       " 'passer': 49281,\n",
       " 'long': 38670,\n",
       " 'test': 66398,\n",
       " 'cut': 15292,\n",
       " 'mind': 42310,\n",
       " 'busi': 9198,\n",
       " 'walk': 72434,\n",
       " 'along': 1927,\n",
       " 'shoot': 60000,\n",
       " 'dead': 15974,\n",
       " 'indic': 32738,\n",
       " 'soul': 62120,\n",
       " 'supposedli': 64859,\n",
       " 'hail': 28487,\n",
       " 'civilis': 12048,\n",
       " 'rais': 53750,\n",
       " 'eyebrow': 22080,\n",
       " 'villai': 71892,\n",
       " 'unusu': 70830,\n",
       " 'nake': 44619,\n",
       " 'except': 21629,\n",
       " 'gstring': 28014,\n",
       " 'golden': 27006,\n",
       " 'mask': 40637,\n",
       " 'encompass': 20477,\n",
       " 'includ': 32593,\n",
       " 'obligatori': 46716,\n",
       " 'ta': 65398,\n",
       " 'quotient': 53548,\n",
       " 'decid': 16193,\n",
       " 'much': 43981,\n",
       " 'butterfac': 9278,\n",
       " 'spend': 62481,\n",
       " 'seemingli': 58555,\n",
       " 'pleasur': 50909,\n",
       " 'pet': 50066,\n",
       " 'snake': 61437,\n",
       " 'dream': 18854,\n",
       " 'faceless': 22170,\n",
       " 'wield': 73862,\n",
       " 'dress': 18910,\n",
       " 'wow': 74751,\n",
       " 'symbol': 65295,\n",
       " 'later': 37089,\n",
       " 'wimp': 74020,\n",
       " 'cant': 9858,\n",
       " 'beat': 5660,\n",
       " 'sexslav': 59378,\n",
       " 'warrior': 72666,\n",
       " 'dude': 19178,\n",
       " 'hardli': 29056,\n",
       " 'world': 74610,\n",
       " 'scari': 57711,\n",
       " 'villain': 71893,\n",
       " 'step': 63345,\n",
       " 'forward': 24642,\n",
       " 'women': 74370,\n",
       " 'sic': 60315,\n",
       " 'creatur': 14612,\n",
       " 'imperson': 32395,\n",
       " 'situat': 60749,\n",
       " 'noon': 46081,\n",
       " 'around': 3588,\n",
       " 'fool': 24357,\n",
       " 'worthi': 74713,\n",
       " 'trade': 68348,\n",
       " 'self': 58652,\n",
       " 'respect': 55264,\n",
       " 'ocron': 46848,\n",
       " 'moment': 42987,\n",
       " 'forget': 24517,\n",
       " 'perm': 49943,\n",
       " 'hairdo': 28503,\n",
       " 'got': 27326,\n",
       " 'muss': 44366,\n",
       " 'realiz': 54258,\n",
       " 'error': 21079,\n",
       " 'aid': 1340,\n",
       " 'forc': 24428,\n",
       " 'sudden': 64450,\n",
       " 'suddenli': 64452,\n",
       " 'fire': 23690,\n",
       " 'multipl': 44137,\n",
       " 'target': 65752,\n",
       " 'seek': 58540,\n",
       " 'bolt': 7519,\n",
       " 'energi': 20596,\n",
       " 'solid': 61796,\n",
       " 'rock': 56061,\n",
       " 'short': 60035,\n",
       " 'hord': 31055,\n",
       " 'guy': 28278,\n",
       " 'macebr': 39488,\n",
       " 'climax': 12310,\n",
       " 'rather': 54025,\n",
       " 'nonsens': 46012,\n",
       " 'decim': 16199,\n",
       " 'remain': 54911,\n",
       " 'laser': 37033,\n",
       " 'capabl': 9887,\n",
       " 'abl': 192,\n",
       " 'kilometr': 35891,\n",
       " 'capac': 9889,\n",
       " 'start': 63153,\n",
       " 'die': 17244,\n",
       " 'rip': 55841,\n",
       " 'hideou': 30171,\n",
       " 'muppet': 44221,\n",
       " 'stagger': 62961,\n",
       " 'scream': 58155,\n",
       " 'turn': 69159,\n",
       " 'dog': 18187,\n",
       " 'wander': 72528,\n",
       " 'smile': 61349,\n",
       " 'roll': 56213,\n",
       " 'creditsbr': 14642,\n",
       " 'strang': 63831,\n",
       " 'dodgi': 18154,\n",
       " 'low': 39068,\n",
       " 'budget': 8851,\n",
       " 'lucid': 39188,\n",
       " 'focus': 24253,\n",
       " 'wizard': 74267,\n",
       " 'lost': 38876,\n",
       " 'kingdom': 35947,\n",
       " 'tell': 66137,\n",
       " 'meander': 41226,\n",
       " 'truli': 68953,\n",
       " 'seldom': 58647,\n",
       " 'written': 74870,\n",
       " 'imdb': 32299,\n",
       " 'filmgoer': 23417,\n",
       " 'perhap': 49902,\n",
       " 'lightweight': 38067,\n",
       " 'dark': 15709,\n",
       " 'without': 74234,\n",
       " 'depth': 16726,\n",
       " 'miss': 42643,\n",
       " 'someth': 61873,\n",
       " 'incentivebr': 32564,\n",
       " 'what': 73506,\n",
       " 'happenst': 28975,\n",
       " 'french': 24985,\n",
       " 'le': 37320,\n",
       " 'battement': 5501,\n",
       " 'dail': 15476,\n",
       " 'du': 19124,\n",
       " 'papillon': 48977,\n",
       " 'serendip': 59121,\n",
       " 'fate': 22713,\n",
       " 'event': 21376,\n",
       " 'culmin': 15121,\n",
       " 'seri': 59138,\n",
       " 'weve': 73468,\n",
       " 'begin': 5889,\n",
       " 'feel': 22949,\n",
       " 'might': 42135,\n",
       " 'fatedbr': 22715,\n",
       " 'occurr': 46825,\n",
       " 'minor': 42452,\n",
       " 'knock': 36186,\n",
       " 'leav': 37410,\n",
       " 'lettuc': 37790,\n",
       " 'truck': 68911,\n",
       " 'major': 39861,\n",
       " 'decis': 16202,\n",
       " 'accuraci': 420,\n",
       " 'stranger': 63839,\n",
       " 'toss': 68161,\n",
       " 'pebbl': 49552,\n",
       " 'incid': 32581,\n",
       " 'caus': 10538,\n",
       " 'domino': 18320,\n",
       " 'multipli': 44144,\n",
       " 'averag': 4383,\n",
       " 'stretch': 63930,\n",
       " 'accept': 360,\n",
       " 'remot': 54983,\n",
       " 'chanc': 10887,\n",
       " 'scenario': 57762,\n",
       " 'there': 66732,\n",
       " 'diagnosi': 17103,\n",
       " 'cinemabr': 11901,\n",
       " 'admit': 858,\n",
       " 'fun': 25350,\n",
       " 'writerdirector': 74830,\n",
       " 'weav': 73008,\n",
       " 'unrel': 70639,\n",
       " 'enmesh': 20712,\n",
       " 'live': 38412,\n",
       " 'citizen': 12017,\n",
       " 'coupl': 14287,\n",
       " 'hour': 31307,\n",
       " 'whimsic': 73630,\n",
       " 'escap': 21102,\n",
       " 'here': 29899,\n",
       " 'your': 75512,\n",
       " 'recov': 54494,\n",
       " 'surgeri': 64913,\n",
       " 'arent': 3424,\n",
       " 'anywher': 3062,\n",
       " 'engag': 20614,\n",
       " 'stitch': 63551,\n",
       " 'heal': 29465,\n",
       " 'award': 4441,\n",
       " 'winner': 74099,\n",
       " 'develop': 16984,\n",
       " 'cult': 15127,\n",
       " 'follow': 24307,\n",
       " 'happenedbr': 28953,\n",
       " 'soren': 62061,\n",
       " 'kierkegaard': 35806,\n",
       " 'attribut': 4158,\n",
       " 'understood': 70061,\n",
       " 'backward': 4731,\n",
       " 'must': 44372,\n",
       " 'detail': 16912,\n",
       " 'experi': 21838,\n",
       " 'perfect': 49831,\n",
       " 'gift': 26465,\n",
       " 'auto': 4317,\n",
       " 'accid': 370,\n",
       " 'lead': 37324,\n",
       " 'itbr': 33846,\n",
       " 'answer': 2750,\n",
       " 'forgot': 24535,\n",
       " 'bring': 8468,\n",
       " 'existentialist': 21753,\n",
       " 'explain': 21865,\n",
       " 'us': 71041,\n",
       " 'thru': 67263,\n",
       " 'week': 73049,\n",
       " 'town': 68279,\n",
       " 'valley': 71256,\n",
       " 'lest': 37757,\n",
       " 'tediou': 66016,\n",
       " 'day': 15889,\n",
       " 'road': 55968,\n",
       " 'closur': 12408,\n",
       " 'filmmak': 23440,\n",
       " 'remind': 54966,\n",
       " 'boulder': 7904,\n",
       " 'creek': 14656,\n",
       " 'bonni': 7608,\n",
       " 'doon': 18428,\n",
       " 'davenport': 15850,\n",
       " 'basin': 5397,\n",
       " 'etc': 21232,\n",
       " 'bank': 5109,\n",
       " 'bc': 5576,\n",
       " 'firehous': 23709,\n",
       " 'chase': 11166,\n",
       " 'moon': 43239,\n",
       " 'drive': 18967,\n",
       " 'hwi': 31836,\n",
       " 'empir': 20423,\n",
       " 'grade': 27423,\n",
       " 'rd': 54148,\n",
       " 'jeffrey': 34396,\n",
       " 'jone': 34786,\n",
       " 'approach': 3263,\n",
       " 'matt': 40845,\n",
       " 'broderick': 8553,\n",
       " 'goe': 26946,\n",
       " 'joke': 34744,\n",
       " 'script': 58240,\n",
       " 'bigger': 6589,\n",
       " 'regard': 54690,\n",
       " 'capsul': 9937,\n",
       " 'coast': 12546,\n",
       " 'scenerybr': 57789,\n",
       " 'addit': 784,\n",
       " 'note': 46215,\n",
       " 'joe': 34680,\n",
       " 'bar': 5159,\n",
       " 'jed': 34375,\n",
       " 'tavern': 65859,\n",
       " 'name': 44634,\n",
       " 'welcom': 73144,\n",
       " 'buzzsaw': 9335,\n",
       " 'erba': 21023,\n",
       " 'park': 49115,\n",
       " 'squar': 62832,\n",
       " 'backyard': 4740,\n",
       " 'grove': 27945,\n",
       " 'street': 63893,\n",
       " 'cap': 9883,\n",
       " 'actor': 635,\n",
       " 'earli': 19585,\n",
       " 'true': 68925,\n",
       " 'wholesom': 73763,\n",
       " 'american': 2197,\n",
       " 'teenag': 66031,\n",
       " 'interest': 33291,\n",
       " 'launch': 37212,\n",
       " 'rocket': 56074,\n",
       " 'rural': 56762,\n",
       " 'west': 73427,\n",
       " 'virginia': 71994,\n",
       " 'coal': 12534,\n",
       " 'mine': 42367,\n",
       " 'sputnik': 62810,\n",
       " 'trial': 68697,\n",
       " 'tribul': 68715,\n",
       " 'persever': 49984,\n",
       " 'beyond': 6442,\n",
       " 'belief': 5998,\n",
       " 'ultim': 69638,\n",
       " 'achiev': 446,\n",
       " 'goalsbr': 26862,\n",
       " 'jake': 34144,\n",
       " 'gyllenha': 28343,\n",
       " 'leader': 37330,\n",
       " 'group': 27930,\n",
       " 'excel': 21619,\n",
       " 'role': 56176,\n",
       " 'motiv': 43557,\n",
       " 'scienc': 58014,\n",
       " 'teacher': 65915,\n",
       " 'laura': 37227,\n",
       " 'linney': 38265,\n",
       " 'southern': 62200,\n",
       " 'accent': 348,\n",
       " 'topbr': 68024,\n",
       " 'standout': 63042,\n",
       " 'support': 64850,\n",
       " 'perform': 49858,\n",
       " 'chri': 11713,\n",
       " 'cooper': 13891,\n",
       " 'miner': 42373,\n",
       " 'footstep': 24401,\n",
       " 'gradual': 27437,\n",
       " 'endbr': 20502,\n",
       " 'bedhop': 5785,\n",
       " 'profan': 52442,\n",
       " 'whatsoev': 73539,\n",
       " 'epitom': 20958,\n",
       " 'donebr': 18345,\n",
       " 'besid': 6291,\n",
       " 'angl': 2540,\n",
       " 'fatherson': 22748,\n",
       " 'disagr': 17608,\n",
       " 'footbal': 24375,\n",
       " 'scholarship': 57928,\n",
       " 'spirit': 62561,\n",
       " 'familybr': 22403,\n",
       " 'recogn': 54449,\n",
       " 'jill': 34575,\n",
       " 'dunn': 19330,\n",
       " 'mitzi': 42757,\n",
       " 'kaptur': 35294,\n",
       " 'attract': 4154,\n",
       " 'woman': 74339,\n",
       " 'overwhelm': 48559,\n",
       " 'smartmouth': 61326,\n",
       " 'daughter': 15825,\n",
       " 'liv': 38409,\n",
       " 'martha': 40552,\n",
       " 'macisaac': 39547,\n",
       " 'petti': 50101,\n",
       " 'twotim': 69421,\n",
       " 'husband': 31778,\n",
       " 'sean': 58368,\n",
       " 'rick': 55664,\n",
       " 'robert': 56017,\n",
       " 'tedious': 66017,\n",
       " 'selfcent': 58672,\n",
       " 'obnoxiousbr': 46729,\n",
       " 'advertis': 955,\n",
       " 'troubl': 68886,\n",
       " 'famili': 22390,\n",
       " 'stalk': 62994,\n",
       " 'craze': 14564,\n",
       " 'killer': 35845,\n",
       " 'relentless': 54862,\n",
       " 'stormbr': 63686,\n",
       " 'storm': 63684,\n",
       " 'anybodi': 3005,\n",
       " 'cellarbr': 10665,\n",
       " 'likewis': 38112,\n",
       " 'intens': 33246,\n",
       " 'filmbr': 23373,\n",
       " 'listen': 38334,\n",
       " 'insuffer': 33194,\n",
       " 'argu': 3453,\n",
       " 'slap': 60972,\n",
       " 'weekbr': 73052,\n",
       " 'problem': 52358,\n",
       " 'taken': 65520,\n",
       " 'zack': 75639,\n",
       " 'boy': 7991,\n",
       " 'question': 53424,\n",
       " 'constantli': 13628,\n",
       " 'outin': 48157,\n",
       " 'home': 30848,\n",
       " 'bedbr': 5777,\n",
       " 'rest': 55288,\n",
       " 'whine': 73631,\n",
       " 'herbr': 29891,\n",
       " 'appealingsinc': 3188,\n",
       " 'freckl': 24908,\n",
       " 'connect': 13514,\n",
       " 'dotsbr': 18546,\n",
       " 'notifi': 46261,\n",
       " 'outstand': 48259,\n",
       " 'bill': 6657,\n",
       " 'credit': 14637,\n",
       " 'card': 9985,\n",
       " 'hotel': 31264,\n",
       " 'eitherbr': 20060,\n",
       " 'manag': 40046,\n",
       " 'richard': 55626,\n",
       " 'grant': 27522,\n",
       " 'nick': 45453,\n",
       " 'mancuso': 40080,\n",
       " 'divorc': 18002,\n",
       " 'sympathet': 65305,\n",
       " 'spot': 62732,\n",
       " 'phone': 50267,\n",
       " 'offbr': 46940,\n",
       " 'upset': 70950,\n",
       " 'arriv': 3620,\n",
       " 'mebr': 41293,\n",
       " 'given': 26670,\n",
       " 'real': 54213,\n",
       " 'estat': 21193,\n",
       " 'condo': 13398,\n",
       " 'afterward': 1117,\n",
       " 'drink': 18949,\n",
       " 'cozi': 14410,\n",
       " 'thembr': 66611,\n",
       " 'hot': 31250,\n",
       " 'heavi': 29588,\n",
       " 'aggress': 1226,\n",
       " 'outbr': 48111,\n",
       " 'confront': 13456,\n",
       " 'cheat': 11242,\n",
       " 'let': 37762,\n",
       " 'father': 22726,\n",
       " 'lack': 36671,\n",
       " 'fault': 22775,\n",
       " 'eventu': 21390,\n",
       " 'confess': 13427,\n",
       " 'near': 44924,\n",
       " 'adulteri': 912,\n",
       " 'seanand': 58369,\n",
       " 'concernedbr': 13330,\n",
       " 'littl': 38389,\n",
       " 'camp': 9704,\n",
       " 'tripwhich': 68812,\n",
       " ...}"
      ]
     },
     "execution_count": 21,
     "metadata": {},
     "output_type": "execute_result"
    }
   ],
   "source": [
    "#Outputing words\n",
    "tfidf.vocabulary_"
   ]
  },
  {
   "cell_type": "markdown",
   "id": "6ed3234d",
   "metadata": {},
   "source": [
    "# 5. Train a logistic regression using the training data."
   ]
  },
  {
   "cell_type": "code",
   "execution_count": 22,
   "id": "1212216d",
   "metadata": {},
   "outputs": [],
   "source": [
    "#Setting instance of loggistic Regression class\n",
    "logit = LogisticRegression()"
   ]
  },
  {
   "cell_type": "code",
   "execution_count": 23,
   "id": "c7671eb4",
   "metadata": {
    "scrolled": false
   },
   "outputs": [],
   "source": [
    "#Training model\n",
    "#Train a logistic regression using the training data.\n",
    "model = logit.fit(features_train_vec, target_train)"
   ]
  },
  {
   "cell_type": "code",
   "execution_count": 33,
   "id": "edd00d9d",
   "metadata": {
    "scrolled": false
   },
   "outputs": [],
   "source": [
    "#setting a predictor test features\n",
    "y_pred = model.predict(features_test_vsc)"
   ]
  },
  {
   "cell_type": "markdown",
   "id": "bfbc32b6",
   "metadata": {},
   "source": [
    "# 6. Find the model accuracy on test set."
   ]
  },
  {
   "cell_type": "code",
   "execution_count": 25,
   "id": "18957336",
   "metadata": {},
   "outputs": [
    {
     "data": {
      "text/plain": [
       "0.8856"
      ]
     },
     "execution_count": 25,
     "metadata": {},
     "output_type": "execute_result"
    }
   ],
   "source": [
    "#Getting accuracy \n",
    "accuracy_score(target_test, y_pred)"
   ]
  },
  {
   "cell_type": "markdown",
   "id": "077f506b",
   "metadata": {},
   "source": [
    "# Create a confusion matrix for the test set predictions."
   ]
  },
  {
   "cell_type": "code",
   "execution_count": 26,
   "id": "fcec0095",
   "metadata": {},
   "outputs": [
    {
     "name": "stdout",
     "output_type": "stream",
     "text": [
      "[[2754  401]\n",
      " [ 314 2781]]\n"
     ]
    }
   ],
   "source": [
    "#Making a confusion matrix\n",
    "#Saveing in results\n",
    "results = confusion_matrix(target_test, y_pred)\n",
    "print(results)"
   ]
  },
  {
   "cell_type": "code",
   "execution_count": 34,
   "id": "08f927ae",
   "metadata": {},
   "outputs": [
    {
     "data": {
      "text/plain": [
       "<AxesSubplot:>"
      ]
     },
     "execution_count": 34,
     "metadata": {},
     "output_type": "execute_result"
    },
    {
     "data": {
      "image/png": "[encoded data removed]",
      "text/plain": [
       "<Figure size 432x288 with 2 Axes>"
      ]
     },
     "metadata": {
      "needs_background": "light"
     },
     "output_type": "display_data"
    }
   ],
   "source": [
    "#Outputting confusion matrix heatmap \n",
    "sns.heatmap(results, annot=True)"
   ]
  },
  {
   "cell_type": "code",
   "execution_count": 35,
   "id": "2da490f9",
   "metadata": {},
   "outputs": [],
   "source": [
    "#making a crosstab and setting into a data frame\n",
    "df_c = pd.crosstab(target_test, y_pred, rownames=['Actual'], colnames=['Predicted'], margins=True)"
   ]
  },
  {
   "cell_type": "code",
   "execution_count": 36,
   "id": "7319eb7d",
   "metadata": {
    "scrolled": true
   },
   "outputs": [
    {
     "data": {
      "text/html": [
       "<div>\n",
       "<style scoped>\n",
       "    .dataframe tbody tr th:only-of-type {\n",
       "        vertical-align: middle;\n",
       "    }\n",
       "\n",
       "    .dataframe tbody tr th {\n",
       "        vertical-align: top;\n",
       "    }\n",
       "\n",
       "    .dataframe thead th {\n",
       "        text-align: right;\n",
       "    }\n",
       "</style>\n",
       "<table border=\"1\" class=\"dataframe\">\n",
       "  <thead>\n",
       "    <tr style=\"text-align: right;\">\n",
       "      <th>Predicted</th>\n",
       "      <th>0</th>\n",
       "      <th>1</th>\n",
       "      <th>All</th>\n",
       "    </tr>\n",
       "    <tr>\n",
       "      <th>Actual</th>\n",
       "      <th></th>\n",
       "      <th></th>\n",
       "      <th></th>\n",
       "    </tr>\n",
       "  </thead>\n",
       "  <tbody>\n",
       "    <tr>\n",
       "      <th>0</th>\n",
       "      <td>2754</td>\n",
       "      <td>401</td>\n",
       "      <td>3155</td>\n",
       "    </tr>\n",
       "    <tr>\n",
       "      <th>1</th>\n",
       "      <td>314</td>\n",
       "      <td>2781</td>\n",
       "      <td>3095</td>\n",
       "    </tr>\n",
       "    <tr>\n",
       "      <th>All</th>\n",
       "      <td>3068</td>\n",
       "      <td>3182</td>\n",
       "      <td>6250</td>\n",
       "    </tr>\n",
       "  </tbody>\n",
       "</table>\n",
       "</div>"
      ],
      "text/plain": [
       "Predicted     0     1   All\n",
       "Actual                     \n",
       "0          2754   401  3155\n",
       "1           314  2781  3095\n",
       "All        3068  3182  6250"
      ]
     },
     "execution_count": 36,
     "metadata": {},
     "output_type": "execute_result"
    }
   ],
   "source": [
    "#Showing stored data\n",
    "df_c"
   ]
  },
  {
   "cell_type": "markdown",
   "id": "540c4ee4",
   "metadata": {},
   "source": [
    "# 8. Get the precision, recall, and F1-score for the test set predictions."
   ]
  },
  {
   "cell_type": "code",
   "execution_count": 37,
   "id": "b1673298",
   "metadata": {},
   "outputs": [
    {
     "data": {
      "text/plain": [
       "0.8739786297925832"
      ]
     },
     "execution_count": 37,
     "metadata": {},
     "output_type": "execute_result"
    }
   ],
   "source": [
    "#Getting precision\n",
    "precision_score(target_test,y_pred)"
   ]
  },
  {
   "cell_type": "code",
   "execution_count": 38,
   "id": "56633e15",
   "metadata": {},
   "outputs": [
    {
     "data": {
      "text/plain": [
       "0.8985460420032311"
      ]
     },
     "execution_count": 38,
     "metadata": {},
     "output_type": "execute_result"
    }
   ],
   "source": [
    "#Getting recall \n",
    "recall_score(target_test,y_pred)"
   ]
  },
  {
   "cell_type": "code",
   "execution_count": 39,
   "id": "f06f9fa4",
   "metadata": {},
   "outputs": [
    {
     "data": {
      "text/plain": [
       "0.8860920822048749"
      ]
     },
     "execution_count": 39,
     "metadata": {},
     "output_type": "execute_result"
    }
   ],
   "source": [
    "#Getting f1 score\n",
    "f1_score(target_test,y_pred)"
   ]
  },
  {
   "cell_type": "markdown",
   "id": "f49cb52c",
   "metadata": {},
   "source": [
    "# 9.Create a ROC curve for the test set."
   ]
  },
  {
   "cell_type": "code",
   "execution_count": 40,
   "id": "3d6f0038",
   "metadata": {},
   "outputs": [],
   "source": [
    "#passing target_test and generated predictor to ROC curve \n",
    "#unpacking data\n",
    "fpr , tpr , _ = metrics.roc_curve(target_test,y_pred)"
   ]
  },
  {
   "cell_type": "code",
   "execution_count": 41,
   "id": "de9b31ff",
   "metadata": {},
   "outputs": [
    {
     "data": {
      "text/plain": [
       "[<matplotlib.lines.Line2D at 0x1e077d4a280>]"
      ]
     },
     "execution_count": 41,
     "metadata": {},
     "output_type": "execute_result"
    },
    {
     "data": {
      "image/png": "[encoded data removed]",
      "text/plain": [
       "<Figure size 432x288 with 1 Axes>"
      ]
     },
     "metadata": {
      "needs_background": "light"
     },
     "output_type": "display_data"
    }
   ],
   "source": [
    "#Roc curve\n",
    "plt.title(\"ROC cruve\")\n",
    "plt.plot(fpr,tpr)"
   ]
  },
  {
   "cell_type": "markdown",
   "id": "fb3602a1",
   "metadata": {},
   "source": [
    "# 10. Pick another classification model you learned about this week and repeat steps (5) – (9)."
   ]
  },
  {
   "cell_type": "markdown",
   "id": "dcd876a2",
   "metadata": {},
   "source": [
    "# K - Nearest Neighbors"
   ]
  },
  {
   "cell_type": "code",
   "execution_count": 42,
   "id": "ac8a1a96",
   "metadata": {},
   "outputs": [],
   "source": [
    "#Getting instance of  kNeighborsClassifier\n",
    "knn = KNeighborsClassifier(n_neighbors = 5)"
   ]
  },
  {
   "cell_type": "code",
   "execution_count": 43,
   "id": "056adeef",
   "metadata": {},
   "outputs": [],
   "source": [
    "#Trainning kNeighborsClassifier\n",
    "knn_model = logit.fit(features_train_vec, target_train)"
   ]
  },
  {
   "cell_type": "code",
   "execution_count": 44,
   "id": "82fce8ad",
   "metadata": {},
   "outputs": [],
   "source": [
    "#Set predictor\n",
    "y_knn_pred = knn_model.predict(features_test_vsc)"
   ]
  },
  {
   "cell_type": "code",
   "execution_count": 45,
   "id": "c0eac015",
   "metadata": {},
   "outputs": [
    {
     "data": {
      "text/plain": [
       "0.8856"
      ]
     },
     "execution_count": 45,
     "metadata": {},
     "output_type": "execute_result"
    }
   ],
   "source": [
    "#Get accuracy\n",
    "accuracy_score(target_test, y_knn_pred)"
   ]
  },
  {
   "cell_type": "code",
   "execution_count": 46,
   "id": "871afed9",
   "metadata": {},
   "outputs": [
    {
     "name": "stdout",
     "output_type": "stream",
     "text": [
      "[[2754  401]\n",
      " [ 314 2781]]\n"
     ]
    }
   ],
   "source": [
    "#Save confusion matrix to results\n",
    "results_knn = confusion_matrix(target_test, y_pred)\n",
    "print(results_knn)"
   ]
  },
  {
   "cell_type": "code",
   "execution_count": 47,
   "id": "8e88a33f",
   "metadata": {},
   "outputs": [
    {
     "data": {
      "text/plain": [
       "<AxesSubplot:>"
      ]
     },
     "execution_count": 47,
     "metadata": {},
     "output_type": "execute_result"
    },
    {
     "data": {
      "image/png": "[encoded data removed]",
      "text/plain": [
       "<Figure size 432x288 with 2 Axes>"
      ]
     },
     "metadata": {
      "needs_background": "light"
     },
     "output_type": "display_data"
    }
   ],
   "source": [
    "#Output heat map\n",
    "sns.heatmap(results_knn, annot=True)"
   ]
  },
  {
   "cell_type": "code",
   "execution_count": 48,
   "id": "f2790e2f",
   "metadata": {},
   "outputs": [
    {
     "data": {
      "text/plain": [
       "0.8739786297925832"
      ]
     },
     "execution_count": 48,
     "metadata": {},
     "output_type": "execute_result"
    }
   ],
   "source": [
    "#Get precision_score\n",
    "precision_score(target_test,y_knn_pred)"
   ]
  },
  {
   "cell_type": "code",
   "execution_count": 49,
   "id": "8a042228",
   "metadata": {},
   "outputs": [
    {
     "data": {
      "text/plain": [
       "0.8985460420032311"
      ]
     },
     "execution_count": 49,
     "metadata": {},
     "output_type": "execute_result"
    }
   ],
   "source": [
    "#Get recall_score\n",
    "recall_score(target_test,y_knn_pred)"
   ]
  },
  {
   "cell_type": "code",
   "execution_count": 50,
   "id": "529b2b9d",
   "metadata": {},
   "outputs": [
    {
     "data": {
      "text/plain": [
       "0.8860920822048749"
      ]
     },
     "execution_count": 50,
     "metadata": {},
     "output_type": "execute_result"
    }
   ],
   "source": [
    "#Get f1_score\n",
    "f1_score(target_test,y_knn_pred)"
   ]
  },
  {
   "cell_type": "code",
   "execution_count": 51,
   "id": "9b29a87b",
   "metadata": {},
   "outputs": [],
   "source": [
    "#Applying roc curve\n",
    "fpr , tpr , _ = metrics.roc_curve(target_test,y_knn_pred)"
   ]
  },
  {
   "cell_type": "code",
   "execution_count": 52,
   "id": "6fd72f7c",
   "metadata": {},
   "outputs": [
    {
     "data": {
      "text/plain": [
       "[<matplotlib.lines.Line2D at 0x1e07c42adc0>]"
      ]
     },
     "execution_count": 52,
     "metadata": {},
     "output_type": "execute_result"
    },
    {
     "data": {
      "image/png": "[encoded data removed]",
      "text/plain": [
       "<Figure size 432x288 with 1 Axes>"
      ]
     },
     "metadata": {
      "needs_background": "light"
     },
     "output_type": "display_data"
    }
   ],
   "source": [
    "#plotting roc curve\n",
    "plt.plot(fpr,tpr)"
   ]
  }
 ],
 "metadata": {
  "kernelspec": {
   "display_name": "Python 3",
   "language": "python",
   "name": "python3"
  },
  "language_info": {
   "codemirror_mode": {
    "name": "ipython",
    "version": 3
   },
   "file_extension": ".py",
   "mimetype": "text/x-python",
   "name": "python",
   "nbconvert_exporter": "python",
   "pygments_lexer": "ipython3",
   "version": "3.8.8"
  }
 },
 "nbformat": 4,
 "nbformat_minor": 5
}
