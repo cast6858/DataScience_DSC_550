{
 "cells": [
  {
   "cell_type": "markdown",
   "id": "a19148f7",
   "metadata": {},
   "source": [
    "# Felipe Castillo\n",
    "# Housing Train Assingment\n",
    "# Data Mining\n",
    "# 04/30/2022"
   ]
  },
  {
   "cell_type": "code",
   "execution_count": 1,
   "id": "6f458a0f",
   "metadata": {},
   "outputs": [],
   "source": [
    "import os\n",
    "import pandas as pd\n",
    "import numpy as np\n",
    "from sklearn.linear_model import LinearRegression\n",
    "from sklearn.feature_selection import VarianceThreshold\n",
    "from sklearn.model_selection import train_test_split\n",
    "from sklearn.metrics import r2_score\n",
    "from sklearn.metrics import mean_squared_error\n",
    "from sklearn.decomposition import PCA\n",
    "from sklearn.preprocessing import MinMaxScaler , StandardScaler\n",
    "#Change path to week one folder for DSC-550\n",
    "#Current directory in documents\n",
    "os.chdir('C:\\DataScience_DSC_550\\Week7\\HousingFolder')\n"
   ]
  },
  {
   "cell_type": "markdown",
   "id": "2340a938",
   "metadata": {},
   "source": [
    "# 1.Import the housing data as a data frame and ensure that the data is loaded properly."
   ]
  },
  {
   "cell_type": "code",
   "execution_count": 2,
   "id": "496500ff",
   "metadata": {},
   "outputs": [],
   "source": [
    "#Loading Data\n",
    "housing_df = pd.read_csv(\"train.csv\")"
   ]
  },
  {
   "cell_type": "code",
   "execution_count": 3,
   "id": "bd41bb6a",
   "metadata": {},
   "outputs": [
    {
     "data": {
      "text/html": [
       "<div>\n",
       "<style scoped>\n",
       "    .dataframe tbody tr th:only-of-type {\n",
       "        vertical-align: middle;\n",
       "    }\n",
       "\n",
       "    .dataframe tbody tr th {\n",
       "        vertical-align: top;\n",
       "    }\n",
       "\n",
       "    .dataframe thead th {\n",
       "        text-align: right;\n",
       "    }\n",
       "</style>\n",
       "<table border=\"1\" class=\"dataframe\">\n",
       "  <thead>\n",
       "    <tr style=\"text-align: right;\">\n",
       "      <th></th>\n",
       "      <th>Id</th>\n",
       "      <th>MSSubClass</th>\n",
       "      <th>MSZoning</th>\n",
       "      <th>LotFrontage</th>\n",
       "      <th>LotArea</th>\n",
       "      <th>Street</th>\n",
       "      <th>Alley</th>\n",
       "      <th>LotShape</th>\n",
       "      <th>LandContour</th>\n",
       "      <th>Utilities</th>\n",
       "      <th>...</th>\n",
       "      <th>PoolArea</th>\n",
       "      <th>PoolQC</th>\n",
       "      <th>Fence</th>\n",
       "      <th>MiscFeature</th>\n",
       "      <th>MiscVal</th>\n",
       "      <th>MoSold</th>\n",
       "      <th>YrSold</th>\n",
       "      <th>SaleType</th>\n",
       "      <th>SaleCondition</th>\n",
       "      <th>SalePrice</th>\n",
       "    </tr>\n",
       "  </thead>\n",
       "  <tbody>\n",
       "    <tr>\n",
       "      <th>0</th>\n",
       "      <td>1</td>\n",
       "      <td>60</td>\n",
       "      <td>RL</td>\n",
       "      <td>65.0</td>\n",
       "      <td>8450</td>\n",
       "      <td>Pave</td>\n",
       "      <td>NaN</td>\n",
       "      <td>Reg</td>\n",
       "      <td>Lvl</td>\n",
       "      <td>AllPub</td>\n",
       "      <td>...</td>\n",
       "      <td>0</td>\n",
       "      <td>NaN</td>\n",
       "      <td>NaN</td>\n",
       "      <td>NaN</td>\n",
       "      <td>0</td>\n",
       "      <td>2</td>\n",
       "      <td>2008</td>\n",
       "      <td>WD</td>\n",
       "      <td>Normal</td>\n",
       "      <td>208500</td>\n",
       "    </tr>\n",
       "    <tr>\n",
       "      <th>1</th>\n",
       "      <td>2</td>\n",
       "      <td>20</td>\n",
       "      <td>RL</td>\n",
       "      <td>80.0</td>\n",
       "      <td>9600</td>\n",
       "      <td>Pave</td>\n",
       "      <td>NaN</td>\n",
       "      <td>Reg</td>\n",
       "      <td>Lvl</td>\n",
       "      <td>AllPub</td>\n",
       "      <td>...</td>\n",
       "      <td>0</td>\n",
       "      <td>NaN</td>\n",
       "      <td>NaN</td>\n",
       "      <td>NaN</td>\n",
       "      <td>0</td>\n",
       "      <td>5</td>\n",
       "      <td>2007</td>\n",
       "      <td>WD</td>\n",
       "      <td>Normal</td>\n",
       "      <td>181500</td>\n",
       "    </tr>\n",
       "  </tbody>\n",
       "</table>\n",
       "<p>2 rows × 81 columns</p>\n",
       "</div>"
      ],
      "text/plain": [
       "   Id  MSSubClass MSZoning  LotFrontage  LotArea Street Alley LotShape  \\\n",
       "0   1          60       RL         65.0     8450   Pave   NaN      Reg   \n",
       "1   2          20       RL         80.0     9600   Pave   NaN      Reg   \n",
       "\n",
       "  LandContour Utilities  ... PoolArea PoolQC Fence MiscFeature MiscVal MoSold  \\\n",
       "0         Lvl    AllPub  ...        0    NaN   NaN         NaN       0      2   \n",
       "1         Lvl    AllPub  ...        0    NaN   NaN         NaN       0      5   \n",
       "\n",
       "  YrSold  SaleType  SaleCondition  SalePrice  \n",
       "0   2008        WD         Normal     208500  \n",
       "1   2007        WD         Normal     181500  \n",
       "\n",
       "[2 rows x 81 columns]"
      ]
     },
     "execution_count": 3,
     "metadata": {},
     "output_type": "execute_result"
    }
   ],
   "source": [
    "housing_df.head(2)"
   ]
  },
  {
   "cell_type": "markdown",
   "id": "0e718be5",
   "metadata": {},
   "source": [
    "# 2.Drop the \"Id\" column and any features that are missing more than 40% of their values."
   ]
  },
  {
   "cell_type": "code",
   "execution_count": 4,
   "id": "7267a896",
   "metadata": {},
   "outputs": [],
   "source": [
    "#Dropping Id Columnn\n",
    "housing_df = housing_df.drop('Id', axis=1)"
   ]
  },
  {
   "cell_type": "code",
   "execution_count": 5,
   "id": "07803898",
   "metadata": {},
   "outputs": [
    {
     "data": {
      "text/html": [
       "<div>\n",
       "<style scoped>\n",
       "    .dataframe tbody tr th:only-of-type {\n",
       "        vertical-align: middle;\n",
       "    }\n",
       "\n",
       "    .dataframe tbody tr th {\n",
       "        vertical-align: top;\n",
       "    }\n",
       "\n",
       "    .dataframe thead th {\n",
       "        text-align: right;\n",
       "    }\n",
       "</style>\n",
       "<table border=\"1\" class=\"dataframe\">\n",
       "  <thead>\n",
       "    <tr style=\"text-align: right;\">\n",
       "      <th></th>\n",
       "      <th>MSSubClass</th>\n",
       "      <th>MSZoning</th>\n",
       "      <th>LotFrontage</th>\n",
       "      <th>LotArea</th>\n",
       "      <th>Street</th>\n",
       "      <th>Alley</th>\n",
       "      <th>LotShape</th>\n",
       "      <th>LandContour</th>\n",
       "      <th>Utilities</th>\n",
       "      <th>LotConfig</th>\n",
       "      <th>...</th>\n",
       "      <th>PoolArea</th>\n",
       "      <th>PoolQC</th>\n",
       "      <th>Fence</th>\n",
       "      <th>MiscFeature</th>\n",
       "      <th>MiscVal</th>\n",
       "      <th>MoSold</th>\n",
       "      <th>YrSold</th>\n",
       "      <th>SaleType</th>\n",
       "      <th>SaleCondition</th>\n",
       "      <th>SalePrice</th>\n",
       "    </tr>\n",
       "  </thead>\n",
       "  <tbody>\n",
       "    <tr>\n",
       "      <th>0</th>\n",
       "      <td>60</td>\n",
       "      <td>RL</td>\n",
       "      <td>65.0</td>\n",
       "      <td>8450</td>\n",
       "      <td>Pave</td>\n",
       "      <td>NaN</td>\n",
       "      <td>Reg</td>\n",
       "      <td>Lvl</td>\n",
       "      <td>AllPub</td>\n",
       "      <td>Inside</td>\n",
       "      <td>...</td>\n",
       "      <td>0</td>\n",
       "      <td>NaN</td>\n",
       "      <td>NaN</td>\n",
       "      <td>NaN</td>\n",
       "      <td>0</td>\n",
       "      <td>2</td>\n",
       "      <td>2008</td>\n",
       "      <td>WD</td>\n",
       "      <td>Normal</td>\n",
       "      <td>208500</td>\n",
       "    </tr>\n",
       "  </tbody>\n",
       "</table>\n",
       "<p>1 rows × 80 columns</p>\n",
       "</div>"
      ],
      "text/plain": [
       "   MSSubClass MSZoning  LotFrontage  LotArea Street Alley LotShape  \\\n",
       "0          60       RL         65.0     8450   Pave   NaN      Reg   \n",
       "\n",
       "  LandContour Utilities LotConfig  ... PoolArea PoolQC Fence MiscFeature  \\\n",
       "0         Lvl    AllPub    Inside  ...        0    NaN   NaN         NaN   \n",
       "\n",
       "  MiscVal MoSold  YrSold  SaleType  SaleCondition  SalePrice  \n",
       "0       0      2    2008        WD         Normal     208500  \n",
       "\n",
       "[1 rows x 80 columns]"
      ]
     },
     "execution_count": 5,
     "metadata": {},
     "output_type": "execute_result"
    }
   ],
   "source": [
    "housing_df.head(1)"
   ]
  },
  {
   "cell_type": "code",
   "execution_count": 6,
   "id": "33fa7b6f",
   "metadata": {
    "scrolled": true
   },
   "outputs": [
    {
     "name": "stdout",
     "output_type": "stream",
     "text": [
      "PoolQC         99.520548\n",
      "MiscFeature    96.301370\n",
      "Alley          93.767123\n",
      "Fence          80.753425\n",
      "FireplaceQu    47.260274\n",
      "                 ...    \n",
      "Heating         0.000000\n",
      "HeatingQC       0.000000\n",
      "MSZoning        0.000000\n",
      "1stFlrSF        0.000000\n",
      "SalePrice       0.000000\n",
      "Length: 80, dtype: float64\n"
     ]
    }
   ],
   "source": [
    "\n",
    "#Getting a percentage of missing values that each column has\n",
    "def missing_percentage(df):\n",
    "    print ((df.isnull().sum() * 100 / len(df)).sort_values(ascending=False))\n",
    "\n",
    "    \n",
    "missing_percentage(housing_df)"
   ]
  },
  {
   "cell_type": "code",
   "execution_count": 7,
   "id": "e8284294",
   "metadata": {},
   "outputs": [
    {
     "data": {
      "text/plain": [
       "LotFrontage     0.177397\n",
       "GarageType      0.055479\n",
       "GarageYrBlt     0.055479\n",
       "GarageFinish    0.055479\n",
       "GarageQual      0.055479\n",
       "                  ...   \n",
       "BsmtUnfSF       0.000000\n",
       "TotalBsmtSF     0.000000\n",
       "MSZoning        0.000000\n",
       "HeatingQC       0.000000\n",
       "SalePrice       0.000000\n",
       "Length: 75, dtype: float64"
      ]
     },
     "execution_count": 7,
     "metadata": {},
     "output_type": "execute_result"
    }
   ],
   "source": [
    "#Droping columns that are missing 40% of their values\n",
    "housing_df = housing_df[housing_df.columns[housing_df.isnull().mean() <.40]]\n",
    "\n",
    "#Rechecking values after drop, to double check function\n",
    "housing_df.isnull().mean().sort_values(ascending=False)\n"
   ]
  },
  {
   "cell_type": "markdown",
   "id": "2ddb4819",
   "metadata": {},
   "source": [
    "# 3 For numerical columns, fill in any missing data with the median value."
   ]
  },
  {
   "cell_type": "code",
   "execution_count": 8,
   "id": "5a2e6c26",
   "metadata": {},
   "outputs": [
    {
     "data": {
      "text/plain": [
       "LotFrontage     259\n",
       "GarageType       81\n",
       "GarageYrBlt      81\n",
       "GarageFinish     81\n",
       "GarageQual       81\n",
       "               ... \n",
       "BsmtUnfSF         0\n",
       "TotalBsmtSF       0\n",
       "MSZoning          0\n",
       "HeatingQC         0\n",
       "SalePrice         0\n",
       "Length: 75, dtype: int64"
      ]
     },
     "execution_count": 8,
     "metadata": {},
     "output_type": "execute_result"
    }
   ],
   "source": [
    "housing_df.isnull().sum().sort_values(ascending=False)"
   ]
  },
  {
   "cell_type": "code",
   "execution_count": 9,
   "id": "eb4351cd",
   "metadata": {},
   "outputs": [],
   "source": [
    "#Filling in missing feilds with median for numerical columns\n",
    "housing_df['LotFrontage'].fillna(value=housing_df['LotFrontage'].median(), inplace=True)\n",
    "housing_df['GarageYrBlt'].fillna(value=housing_df['GarageYrBlt'].median(), inplace=True)\n",
    "housing_df['MasVnrArea'].fillna(value=housing_df['MasVnrArea'].median(), inplace=True)\n"
   ]
  },
  {
   "cell_type": "markdown",
   "id": "8ce36ec4",
   "metadata": {},
   "source": [
    "# 4. For categorical columns, fill in any missing data with the most common value (mode)."
   ]
  },
  {
   "cell_type": "code",
   "execution_count": 10,
   "id": "e0213089",
   "metadata": {},
   "outputs": [],
   "source": [
    "#Filling in missing feilds with mode for categorical columns\n",
    "#mode()[0] find the most occuring value\n",
    "housing_df['GarageType'].fillna(value=housing_df['GarageType'].mode()[0], inplace=True)\n",
    "housing_df['GarageCond'].fillna(value=housing_df['GarageCond'].mode()[0], inplace=True)\n",
    "housing_df['GarageFinish'].fillna(value=housing_df['GarageFinish'].mode()[0], inplace=True)\n",
    "housing_df['GarageQual'].fillna(value=housing_df['GarageQual'].mode()[0], inplace=True)\n",
    "housing_df['BsmtFinType2'].fillna(value=housing_df['BsmtFinType2'].mode()[0], inplace=True)\n",
    "housing_df['BsmtFinType1'].fillna(value=housing_df['BsmtFinType1'].mode()[0], inplace=True)\n",
    "housing_df['BsmtExposure'].fillna(value=housing_df['BsmtExposure'].mode()[0], inplace=True)\n",
    "housing_df['BsmtQual'].fillna(value=housing_df['BsmtQual'].mode().mode()[0], inplace=True)\n",
    "housing_df['BsmtCond'].fillna(value=housing_df['BsmtCond'].mode().mode()[0], inplace=True)\n",
    "housing_df['Electrical'].fillna(value=housing_df['Electrical'].mode().mode()[0], inplace=True)\n",
    "housing_df['MasVnrType'].fillna(value=housing_df['MasVnrType'].mode().mode()[0], inplace=True)\n"
   ]
  },
  {
   "cell_type": "code",
   "execution_count": 11,
   "id": "122ce656",
   "metadata": {},
   "outputs": [
    {
     "data": {
      "text/plain": [
       "MSSubClass      0\n",
       "GarageYrBlt     0\n",
       "Fireplaces      0\n",
       "Functional      0\n",
       "TotRmsAbvGrd    0\n",
       "               ..\n",
       "MasVnrArea      0\n",
       "MasVnrType      0\n",
       "Exterior2nd     0\n",
       "Exterior1st     0\n",
       "SalePrice       0\n",
       "Length: 75, dtype: int64"
      ]
     },
     "execution_count": 11,
     "metadata": {},
     "output_type": "execute_result"
    }
   ],
   "source": [
    "#No more null values\n",
    "housing_df.isnull().sum().sort_values(ascending=False)"
   ]
  },
  {
   "cell_type": "markdown",
   "id": "4484418a",
   "metadata": {},
   "source": [
    "# 5.Convert the categorical columns to dummy variables"
   ]
  },
  {
   "cell_type": "code",
   "execution_count": 12,
   "id": "892c7ef0",
   "metadata": {},
   "outputs": [],
   "source": [
    "#Using pd get dummy to convert to dummy values\n",
    "housing_df_dummmy = pd.get_dummies(housing_df)"
   ]
  },
  {
   "cell_type": "markdown",
   "id": "a9430a5f",
   "metadata": {},
   "source": [
    "# 6. Split the data into a training and test set, where the SalePrice column is the target."
   ]
  },
  {
   "cell_type": "code",
   "execution_count": 13,
   "id": "f97956fb",
   "metadata": {},
   "outputs": [],
   "source": [
    "#Splitting sales as target\n",
    "target = housing_df_dummmy['SalePrice']\n",
    "#Splitting features and dropping salesprice\n",
    "features = housing_df_dummmy.drop('SalePrice', axis=1).copy()"
   ]
  },
  {
   "cell_type": "code",
   "execution_count": 14,
   "id": "9259a9c0",
   "metadata": {},
   "outputs": [],
   "source": [
    "#Training the data \n",
    "#set the test_size to .20\n",
    "features_train, features_test, target_train, target_test = train_test_split(features, target,  shuffle=True, test_size = 0.20)"
   ]
  },
  {
   "cell_type": "markdown",
   "id": "c9ce5ab6",
   "metadata": {},
   "source": [
    "# 7. Run a linear regression and report the R2-value and RMSE on the test set."
   ]
  },
  {
   "cell_type": "code",
   "execution_count": 15,
   "id": "7db982ed",
   "metadata": {
    "scrolled": true
   },
   "outputs": [],
   "source": [
    "#Making a function to return r2 \n",
    "def RsquaredConversion(target_test, target_predicated):\n",
    "    #Invokes r2 score function \n",
    "    r_squared = r2_score(target_test,target_predicated)\n",
    "    #Returns value\n",
    "    return r_squared\n"
   ]
  },
  {
   "cell_type": "code",
   "execution_count": 16,
   "id": "7056afa9",
   "metadata": {},
   "outputs": [],
   "source": [
    "#Instantiating linear regression class\n",
    "regression = LinearRegression()"
   ]
  },
  {
   "cell_type": "code",
   "execution_count": 17,
   "id": "90ca1d8e",
   "metadata": {},
   "outputs": [],
   "source": [
    "#Fitting model with training data \n",
    "model = regression.fit(features_train,target_train)"
   ]
  },
  {
   "cell_type": "code",
   "execution_count": 19,
   "id": "82a7f21d",
   "metadata": {},
   "outputs": [],
   "source": [
    "target_predicted = model.predict(features_test)"
   ]
  },
  {
   "cell_type": "code",
   "execution_count": 20,
   "id": "23c36b5f",
   "metadata": {},
   "outputs": [
    {
     "name": "stdout",
     "output_type": "stream",
     "text": [
      "0.5220918955280652\n"
     ]
    }
   ],
   "source": [
    "#Get R2 score\n",
    "r2 = RsquaredConversion(target_test,target_predicted)\n",
    "print(r2)"
   ]
  },
  {
   "cell_type": "code",
   "execution_count": 22,
   "id": "85e35691",
   "metadata": {},
   "outputs": [
    {
     "name": "stdout",
     "output_type": "stream",
     "text": [
      "3233901426.780022\n"
     ]
    }
   ],
   "source": [
    "#Getting mse\n",
    "mse = mean_squared_error(target_test, target_predicted)\n",
    "print(mse)"
   ]
  },
  {
   "cell_type": "code",
   "execution_count": 23,
   "id": "ecb8c0ef",
   "metadata": {},
   "outputs": [
    {
     "name": "stdout",
     "output_type": "stream",
     "text": [
      "56867.40214551762\n"
     ]
    }
   ],
   "source": [
    "#Getting rmse\n",
    "rmse = np.sqrt(mse)\n",
    "print(rmse)"
   ]
  },
  {
   "cell_type": "markdown",
   "id": "03082a3d",
   "metadata": {},
   "source": [
    "# 8. Fit and transform the training features with a PCA so that 90% of the variance is retained (see section 9.1 in the Machine Learning with Python Cookbook)."
   ]
  },
  {
   "cell_type": "code",
   "execution_count": 24,
   "id": "beb88026",
   "metadata": {},
   "outputs": [],
   "source": [
    "#90% variance is retained\n",
    "pca = PCA(n_components=0.90, whiten=True)"
   ]
  },
  {
   "cell_type": "code",
   "execution_count": 25,
   "id": "d0f34eb2",
   "metadata": {},
   "outputs": [],
   "source": [
    "train_features_pca = pca.fit_transform(features_train)"
   ]
  },
  {
   "cell_type": "markdown",
   "id": "e29e9e6c",
   "metadata": {},
   "source": [
    "# 9.How many features are in the PCA-transformed matrix?"
   ]
  },
  {
   "cell_type": "code",
   "execution_count": 26,
   "id": "a9707392",
   "metadata": {},
   "outputs": [
    {
     "name": "stdout",
     "output_type": "stream",
     "text": [
      "Original number of features: 270\n",
      "Reduced number of features: 1\n"
     ]
    }
   ],
   "source": [
    "print(\"Original number of features:\", features.shape[1])\n",
    "print(\"Reduced number of features:\", train_features_pca.shape[1])"
   ]
  },
  {
   "cell_type": "markdown",
   "id": "9d2639cd",
   "metadata": {},
   "source": [
    "# 10. Transform but DO NOT fit the test features with the same PCA."
   ]
  },
  {
   "cell_type": "code",
   "execution_count": 27,
   "id": "6a9e08ce",
   "metadata": {},
   "outputs": [],
   "source": [
    "#transforming pca\n",
    "test_features_pca = pca.transform(features_test)"
   ]
  },
  {
   "cell_type": "code",
   "execution_count": 28,
   "id": "9a339d3c",
   "metadata": {},
   "outputs": [
    {
     "name": "stdout",
     "output_type": "stream",
     "text": [
      "Reduced number of features: 1\n"
     ]
    }
   ],
   "source": [
    "print(\"Reduced number of features:\", test_features_pca.shape[1])"
   ]
  },
  {
   "cell_type": "markdown",
   "id": "873d2f3d",
   "metadata": {},
   "source": [
    "# 11. Repeat step 7 with your PCA transformed data."
   ]
  },
  {
   "cell_type": "code",
   "execution_count": 44,
   "id": "5106f5f8",
   "metadata": {},
   "outputs": [],
   "source": [
    "#repeating model steps"
   ]
  },
  {
   "cell_type": "code",
   "execution_count": 29,
   "id": "7c042a52",
   "metadata": {},
   "outputs": [],
   "source": [
    "pca_model = regression.fit(train_features_pca,target_train)"
   ]
  },
  {
   "cell_type": "code",
   "execution_count": 30,
   "id": "41028871",
   "metadata": {},
   "outputs": [],
   "source": [
    "target_predicted = model.predict(test_features_pca)"
   ]
  },
  {
   "cell_type": "code",
   "execution_count": 31,
   "id": "f0dfaf3a",
   "metadata": {},
   "outputs": [
    {
     "name": "stdout",
     "output_type": "stream",
     "text": [
      "-0.08792648987385876\n"
     ]
    }
   ],
   "source": [
    "r2 = RsquaredConversion(target_test,target_predicted)\n",
    "print(r2)"
   ]
  },
  {
   "cell_type": "code",
   "execution_count": 32,
   "id": "8a55caa5",
   "metadata": {},
   "outputs": [
    {
     "name": "stdout",
     "output_type": "stream",
     "text": [
      "7361764730.318489\n"
     ]
    }
   ],
   "source": [
    "mse = mean_squared_error(target_test, target_predicted)\n",
    "print(mse)"
   ]
  },
  {
   "cell_type": "code",
   "execution_count": 33,
   "id": "4d0f7782",
   "metadata": {},
   "outputs": [
    {
     "name": "stdout",
     "output_type": "stream",
     "text": [
      "85800.72686357901\n"
     ]
    }
   ],
   "source": [
    "#Getting rmse\n",
    "rmse = np.sqrt(mse)\n",
    "print(rmse)"
   ]
  },
  {
   "cell_type": "markdown",
   "id": "038811aa",
   "metadata": {},
   "source": [
    "# 12.Take your original training features (from step 6) and apply a min-max scaler to them."
   ]
  },
  {
   "cell_type": "code",
   "execution_count": 34,
   "id": "3f138fb9",
   "metadata": {},
   "outputs": [],
   "source": [
    "MinMaxScaler(copy=True, feature_range=(1))\n",
    "\n",
    "#Setting min max scaler\n",
    "scaler = MinMaxScaler()\n",
    "\n",
    "#features_train\n",
    "features_train_std = scaler.fit_transform(features_train)\n"
   ]
  },
  {
   "cell_type": "markdown",
   "id": "171e2b47",
   "metadata": {},
   "source": [
    "# 13. Find the min-max scaled features in your training set that have a variance above 0.1 (see Section 10.1 in the Machine Learning with Python Cookbook)."
   ]
  },
  {
   "cell_type": "code",
   "execution_count": 35,
   "id": "44430763",
   "metadata": {},
   "outputs": [],
   "source": [
    "#Setting threshold for .1 \n",
    "thresholder = VarianceThreshold(threshold=.1)"
   ]
  },
  {
   "cell_type": "code",
   "execution_count": 36,
   "id": "16e80bfd",
   "metadata": {},
   "outputs": [],
   "source": [
    "#fit and transform training data\n",
    "feature_train_scaled = thresholder.fit_transform(features_train_std)"
   ]
  },
  {
   "cell_type": "markdown",
   "id": "f227e1d1",
   "metadata": {},
   "source": [
    "# 14.Transform but DO NOT fit the test features with the same steps applied in steps 11 and 12."
   ]
  },
  {
   "cell_type": "code",
   "execution_count": 37,
   "id": "1ff4a3c4",
   "metadata": {},
   "outputs": [],
   "source": [
    "#test_features_pca = pca.transform(features_test)\n",
    "features_test_std = scaler.transform(features_test)"
   ]
  },
  {
   "cell_type": "code",
   "execution_count": 38,
   "id": "9e7a8fb2",
   "metadata": {},
   "outputs": [],
   "source": [
    "#scaling data with threshold\n",
    "features_test_scaled = thresholder.transform(features_test_std )"
   ]
  },
  {
   "cell_type": "markdown",
   "id": "fc23566c",
   "metadata": {},
   "source": [
    "# 15.Repeat step 7 with the high variance data."
   ]
  },
  {
   "cell_type": "code",
   "execution_count": 39,
   "id": "ab94d4b4",
   "metadata": {
    "scrolled": true
   },
   "outputs": [],
   "source": [
    "#Fitting model with training data \n",
    "#Fitting with train scaled \n",
    "model = regression.fit(feature_train_scaled ,target_train)\n"
   ]
  },
  {
   "cell_type": "code",
   "execution_count": 40,
   "id": "76689007",
   "metadata": {},
   "outputs": [],
   "source": [
    "#predicting with features scaled \n",
    "target_predicted = model.predict(features_test_scaled)"
   ]
  },
  {
   "cell_type": "code",
   "execution_count": 46,
   "id": "6c6564cd",
   "metadata": {},
   "outputs": [],
   "source": [
    "#repeating model steps"
   ]
  },
  {
   "cell_type": "code",
   "execution_count": 41,
   "id": "d8c26861",
   "metadata": {},
   "outputs": [
    {
     "name": "stdout",
     "output_type": "stream",
     "text": [
      "0.6319484318636891\n"
     ]
    }
   ],
   "source": [
    "r2 = RsquaredConversion(target_test,target_predicted)\n",
    "print(r2)"
   ]
  },
  {
   "cell_type": "code",
   "execution_count": 42,
   "id": "5e2aeef7",
   "metadata": {},
   "outputs": [
    {
     "name": "stdout",
     "output_type": "stream",
     "text": [
      "2490525856.722603\n"
     ]
    }
   ],
   "source": [
    "mse = mean_squared_error(target_test, target_predicted)\n",
    "print(mse)"
   ]
  },
  {
   "cell_type": "code",
   "execution_count": 43,
   "id": "1dbe6d6e",
   "metadata": {},
   "outputs": [
    {
     "name": "stdout",
     "output_type": "stream",
     "text": [
      "49905.16863735261\n"
     ]
    }
   ],
   "source": [
    "rmse = np.sqrt(mse)\n",
    "print(rmse)"
   ]
  },
  {
   "cell_type": "markdown",
   "id": "6c57fb50",
   "metadata": {},
   "source": [
    "# 16.Summarize your findings."
   ]
  },
  {
   "cell_type": "markdown",
   "id": "ad539d6a",
   "metadata": {},
   "source": [
    "With the untampered training and testing sets the R2 score was 52 and the rmse is high. When I used the PCA model, the r2 score with -0.087 the rmse was higher than the untampered set. The min max model had a R2 score of 63 with a lower rmse then both.  The first model indicates that the relationship between these variables explain 52 percent of the variation in the data. With the Pca model the r2 indicates that the given data does not follow the trend of the data. The last model of 63 is similar to the untampered data. The rmse indicates a high level of over fitting. This can be due to the dummy variable classification that  gives us more columns. The one with the biggest difference was PCA."
   ]
  }
 ],
 "metadata": {
  "kernelspec": {
   "display_name": "Python 3",
   "language": "python",
   "name": "python3"
  },
  "language_info": {
   "codemirror_mode": {
    "name": "ipython",
    "version": 3
   },
   "file_extension": ".py",
   "mimetype": "text/x-python",
   "name": "python",
   "nbconvert_exporter": "python",
   "pygments_lexer": "ipython3",
   "version": "3.8.8"
  }
 },
 "nbformat": 4,
 "nbformat_minor": 5
}
